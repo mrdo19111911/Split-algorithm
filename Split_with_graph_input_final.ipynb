{
  "nbformat": 4,
  "nbformat_minor": 0,
  "metadata": {
    "colab": {
      "name": "Split_with_graph_input_final.ipynb",
      "provenance": [],
      "include_colab_link": true
    },
    "kernelspec": {
      "name": "python3",
      "display_name": "Python 3"
    },
    "language_info": {
      "name": "python"
    }
  },
  "cells": [
    {
      "cell_type": "markdown",
      "metadata": {
        "id": "view-in-github",
        "colab_type": "text"
      },
      "source": [
        "<a href=\"https://colab.research.google.com/github/mrdo19111911/Split-algorithm/blob/main/Split_with_graph_input_final.ipynb\" target=\"_parent\"><img src=\"https://colab.research.google.com/assets/colab-badge.svg\" alt=\"Open In Colab\"/></a>"
      ]
    },
    {
      "cell_type": "markdown",
      "source": [
        "#1 import libraries"
      ],
      "metadata": {
        "id": "dtwCa4SrIj6G"
      }
    },
    {
      "cell_type": "markdown",
      "source": [
        ""
      ],
      "metadata": {
        "id": "LHCRBtbQK9p0"
      }
    },
    {
      "cell_type": "code",
      "execution_count": null,
      "metadata": {
        "colab": {
          "base_uri": "https://localhost:8080/",
          "height": 711
        },
        "id": "gVb3sBR8BNhr",
        "outputId": "d4f12d02-4c5e-4a54-d21a-941335d74534"
      },
      "outputs": [
        {
          "output_type": "stream",
          "name": "stdout",
          "text": [
            "Collecting numba==0.55.1\n",
            "  Downloading numba-0.55.1-1-cp37-cp37m-manylinux2014_x86_64.manylinux_2_17_x86_64.whl (3.3 MB)\n",
            "\u001b[K     |████████████████████████████████| 3.3 MB 34.4 MB/s \n",
            "\u001b[?25hRequirement already satisfied: numpy<1.22,>=1.18 in /usr/local/lib/python3.7/dist-packages (from numba==0.55.1) (1.21.6)\n",
            "Requirement already satisfied: setuptools in /usr/local/lib/python3.7/dist-packages (from numba==0.55.1) (57.4.0)\n",
            "Collecting llvmlite<0.39,>=0.38.0rc1\n",
            "  Downloading llvmlite-0.38.0-cp37-cp37m-manylinux_2_17_x86_64.manylinux2014_x86_64.whl (34.5 MB)\n",
            "\u001b[K     |████████████████████████████████| 34.5 MB 12 kB/s \n",
            "\u001b[?25hInstalling collected packages: llvmlite, numba\n",
            "  Attempting uninstall: llvmlite\n",
            "    Found existing installation: llvmlite 0.34.0\n",
            "    Uninstalling llvmlite-0.34.0:\n",
            "      Successfully uninstalled llvmlite-0.34.0\n",
            "  Attempting uninstall: numba\n",
            "    Found existing installation: numba 0.51.2\n",
            "    Uninstalling numba-0.51.2:\n",
            "      Successfully uninstalled numba-0.51.2\n",
            "Successfully installed llvmlite-0.38.0 numba-0.55.1\n",
            "Collecting ortools\n",
            "  Downloading ortools-9.3.10497-cp37-cp37m-manylinux_2_17_x86_64.manylinux2014_x86_64.whl (15.5 MB)\n",
            "\u001b[K     |████████████████████████████████| 15.5 MB 24.3 MB/s \n",
            "\u001b[?25hRequirement already satisfied: absl-py>=0.13 in /usr/local/lib/python3.7/dist-packages (from ortools) (1.0.0)\n",
            "Collecting protobuf>=3.19.4\n",
            "  Downloading protobuf-3.20.1-cp37-cp37m-manylinux_2_5_x86_64.manylinux1_x86_64.whl (1.0 MB)\n",
            "\u001b[K     |████████████████████████████████| 1.0 MB 53.6 MB/s \n",
            "\u001b[?25hRequirement already satisfied: numpy>=1.13.3 in /usr/local/lib/python3.7/dist-packages (from ortools) (1.21.6)\n",
            "Requirement already satisfied: six in /usr/local/lib/python3.7/dist-packages (from absl-py>=0.13->ortools) (1.15.0)\n",
            "Installing collected packages: protobuf, ortools\n",
            "  Attempting uninstall: protobuf\n",
            "    Found existing installation: protobuf 3.17.3\n",
            "    Uninstalling protobuf-3.17.3:\n",
            "      Successfully uninstalled protobuf-3.17.3\n",
            "\u001b[31mERROR: pip's dependency resolver does not currently take into account all the packages that are installed. This behaviour is the source of the following dependency conflicts.\n",
            "tensorflow 2.8.0 requires tf-estimator-nightly==2.8.0.dev2021122109, which is not installed.\u001b[0m\n",
            "Successfully installed ortools-9.3.10497 protobuf-3.20.1\n"
          ]
        },
        {
          "output_type": "display_data",
          "data": {
            "application/vnd.colab-display-data+json": {
              "pip_warning": {
                "packages": [
                  "google"
                ]
              }
            }
          },
          "metadata": {}
        }
      ],
      "source": [
        "!pip install numba=='0.55.1'\n",
        "!pip install ortools\n",
        "import math\n",
        "import numpy as np\n",
        "from numba import njit, types\n",
        "from numba.typed import Dict\n",
        "import random\n",
        "import timeit\n",
        "from itertools import permutations, combinations\n",
        "import ortools\n",
        "import matplotlib.pyplot as plt\n",
        "from matplotlib.pyplot import figure\n",
        "import copy"
      ]
    },
    {
      "cell_type": "code",
      "source": [
        ""
      ],
      "metadata": {
        "id": "1nD1r5q4s6P4"
      },
      "execution_count": null,
      "outputs": []
    },
    {
      "cell_type": "markdown",
      "source": [
        "![image.png](data:image/png;base64,iVBORw0KGgoAAAANSUhEUgAAB0sAAAO8CAYAAAAoClxVAAAAAXNSR0IArs4c6QAAAARnQU1BAACxjwv8YQUAAAAJcEhZcwAAFxEAABcRAcom8z8AAP+lSURBVHhe7P1dlGRVnSfue+mll156yd2f9m3o1lZaxtU4Mz2DPxFKEUVELWmQUkaBoRtatC3aFxBkQGyBUUqLkUYE0UJaKFqLQcEpuhQtWCAwCPJiY42IitA98a/P4ezgVNSJzMjMyMwTJ55nrb0oIiMi45zMyLNjf/Z37xf8//6/cweapmmapmmapmmapmmapmmapmmapmmLtRf0TdtBapqmaZqmaZqmaZqmaZqmaZqmaZqmjbY6YuyPcmAAAAAAAAAAbYSlAAAAAAAAwFwSlgIAAAAAAABzSVgKAAAAAAAAzCVhKQAAAAAAADCXhKUAAAAAAADAXBKWAgAAAAAAAHNJWAoAAAAAAADMJWEpAAAAAAAAMJeEpQAAAAAAAMBcEpYCAAAAAAAAc0lYCgAAAAAAAMwlYSkAAAAAAAAwl4SlAAAAAAAAwFwSlgIAAAAAAABzSVgKAAAAAAAAzCVhKQAAAAAAADCXhKUAAAAAAADAXBKWAgAAAAAAAHNJWAoAAAAAAADMJWEpAAAAAAAAMJeEpQAAAAAAAMBcEpYCAAAAAAAAc0lYCgAAAAAAAMwlYSkAAAAAAAAwl4SlAAAAAAAAwFwSlgIAAAAAAABzSVgKAAAAAAAAzCVhKQAAAAAAADCXhKUAAAAAAADAXBKWAgAAAAAAAHNJWAoAAAAAAADMJWEpAAAAAAAAMJeEpQAAAAAAAMBcEpYCAAAAAAAAc0lYCgAAAAAAAMwlYSkAAAAAAAAwl4SlAAAAAAAAwFwSlgIAAAAAAABzSVgKAAAAAAAAzCVhKQAAAAAAADCXhKUAAAAAAADAXBKWAgAAAAAAAHNJWAoAAAAAAADMJWEpAAAAAAAAMJeEpQAAAAAAAMBcEpYCAAAAAAAAc0lYCgAAAAAAAMwlYSkAAAAAAAAwl4SlAAAAAAAAwFwSlgIAAAAAAABzSVgKAAAAAAAAzCVhKQAAAAAAADCXhKUAAAAAAADAXBKWAgAAAAAAAHNJWAoAAAAAAADMJWEpAAAAAAAAMJeEpQAAAAAAAMBcEpYCAAAAAAAAc0lYCgAAAAAAAMwlYSkAAAAAAAAwl4SlAAAAAAAAwFwSlgIAAAAAAABzSVgKAAAAAAAAzCVhKQAAAAAAADCXhKUAAAAAAADAXBKWAgAAAAAAAHNJWAoAAAAAAADMJWEpAAAAAAAAMJeEpQAAAAAAAMBcEpYCAAAAAAAAc0lYCgAAAAAAAMwlYSkAAAAAAAAwl4SlAAAAAAAAwFwSlgIAAAAAAABzSVgKAAAAAAAAzCVhKQAAAAAAADCXhKUAAAAAAADAXBKWAgAAAAAAAHNJWAoAAAAAAADMJWEpAAAAAAAAMJeEpQAAAAAAAMBcEpYCAAAAAAAAc0lYCgAAAAAAAMwlYSkAAAAAAAAwl4SlAAAAAAAAwFwSlgIAAAAAAABzSVgKAAAAAAAAzCVhKQAAAAAAADCXhKUAAAAAAADAXBKWAgAAAAAAAHNJWAoAAAAAAADMJWEpAAAAAAAAMJeEpQAAAAAAAMBcEpYCAAAAAAAAc0lYCgAAAAAAAMwlYSkAAAAAAAAwl4SlAAAAAAAAwFwSlgIAAAAAAABzSVgKAAAAAAAAzCVhKQAAAAAAADCXhKUAAAAAAADAXBKWAgAAAAAAAHNJWAoAAAAAAADMJWEpAAAAAAAAMJeEpQAAAAAAAMBcEpYCAAAAAAAAc0lYCgAAAAAAAMwlYSkAAAAAAAAwl4SlAAAAAAAAwFwSlgIAAAAAAABzSVgKAAAAAAAAzCVhKQAAAAAAADCXhKUAAAAAAADAXBKWAgAAAAAAAHNJWAoAAAAAAADMJWEpAAAAAAAAMJeEpQAAAAAAAMBcEpYCAAAAAAAAc0lYCgAAAAAAAMwlYSkAAAAAAAAwl4SlAAAAAAAAwFwSlgIAAAAAAABzSVgKAAAAAAAAzCVhKQAAAAAAADCXhKUAAAAAAADAXBKWAgAAAAAAAHNJWAoAAAAAAADMJWEpAAAAAAAAMJeEpQAAAAAAAMBcEpYCAAAAAAAAc0lYCgAAAAAAAMwlYSkAAAAAAAAwl4SlAAAAAAAAwFwSlgIAAAAA0Bu/e+Y3g3se3zVsP3r4lsG2n14+bFfv+tzggu9+aMXtS7dt3ud5m9/zid8+Wr8aALpOWAoAAAAAQKc9+ftfDYPIW3523TCgLMHl5huOG2y66s87187a9vbq9X3lh5+qXu8PHrihOoYEugB0g7AUAACYKSoFAAD6o4SgOx/cPux3pR9W+mRtAeRC7UNf/4t9+nRpV95x/j79uu/cdcU+fbvltuZrTmu+7k/eeHzr62u2M765obpvHpvnemjPvfVZAWAtCUsBAIB1p1IAAKC/EgKmj5SQ8ro7L504TGy23D+Pu3jH6cO+Yul7dbn/VSb6lWA1wW2O47Rr39R6nGmf2X5SNQEwkwL1KwFWn7AUAABYNSoFVAoAAP337L/+YZ/+UyaSpR+U/lBbP6nZMiku9004mMc2+3J9X82j9JVLX3NcHzO35/zk/OYxAEyXsBQAAFgRlQIqBQCA+ZB+X9kC4ZJbP1L1e9r6O6Ot2c+7+Z6vVf2nx558sH5WRpW+dc5ZJguOns8EzOl3Ck8BpkNYCgAALEilwPKoFAAAZtUDT+we9v0S2C02Ea6sqFG2Jshj0w8yMWw68vMQngKsHmEpAABQUSmwNnJ+DHYBAF2QyWu7H7190cldpWWFjPQTc//0GxPisfYWC0/zc8zX9ckBJiMsBdirVH40W5lBuVBLFUgGiNe7tb220vLhpXlcZnUCoFKgW1QKAABrIf23W3523XDbgLZ+R2kJRROepu+XMFXo1m0L9SfTl8xWGfbPBxhPWArMpLI3WrOlw18CwtLSsW+GimlnbXv7Pp3GeW/5AFTOTZkdWlo5twbDAWaTSoHZpFIAAFiJfIbPZ/n0FxbrA2aMJH2O0v8TqM2+bKGRSXaZ6Di6j35+3gnL8/sBwPOEpcC6K/uglVaCurR02EuQt9CMx5W2UjHTbKPBYVsrSw2ud2t7baWVZRRLW0lYnA9Y5UPUDx64ofre+fkBsP7yN1mlQD+pFAAAxinBaPn8v9Bn/vQR01dMnzGPYT4kBM/PPWNfzd+H/H8C1XwdYN4JS4FVk4G9dL5LRUtaOmEltFtJ+JmBwfI8pZWlAZutBHrNZkB4X6Nhdc5ZOX+lMjfnu+3nUFo62PlQloFcVUgAq0ulwHxTKQAA8630AxcKRjPeks/ymVCVfoM+IEV+f7Kl1OjvTvqV+WyR3xeT4oF5JCwFlqUsg5vKymaottAMxnEtg7wl8CxVLmnp/Od7lKaztv4SNJfwuwTf40LvfC33y/0BWB6VAixGpQAA9Fc+g2dCc671WRmkea0vbTQYNUGcSWVsL783oxPkE5zmd87vEjBPhKVAq3SIyuBsWjreCwVjoy0DdOUx6WCV5ynBpw5Xv2RPvHwoy8+6rcIpHW0DtgCLyzVSpQDLld8flQIAMJvKqk8ZO8nKIKMrSJSW0DTXe8Eo05TfpfzujY7p5Pctgb0+JNB3wlKYY6UjXpZdTWd8oaX8SiuDtGklBE31YJ5L54lIJVR+J8YN2ApOAVQKsLpUCgBAt5VJx/ncPK4v2NzyJmMusBbST0x/sRnYl7EcWy8BfSUshTmRTnWW5UsnPIOu42YolpbQtOxxlqV283gdIpYrA7ZtwWn+Px/6Eq4C9JlKAdZTfpfyu6dSAADWT8LRXHcTOI1bQaTZF3zy97+qHwnrI33E/M7m80vz9zST8TLGaCwH6BNhKfRM2dssAVSWW1uoUjQDtQlOyzK5eZyBWVZbqXRpfjhM5VQ+MFpKEugLlQJ0lUoBAFgbCTtLODq6t3i5/uoLMivy+SZjOc3f5TKW4/cX6ANhKcy4DGql8jPBaFvnu7QM1GZgrFSJqiCgC7JU7+gMxQT4OtrArFEpwKxRKQAA01e2oxldBj+thKMZlzFRmFmWzzMZh2z+fuczUH639SGBWSUshRmTDnVmHY4ObJVWqkXL3mY64MyCMkOxWeWSD5F+f4GuUilAn6gUAIDlSTCUSUbp9+Xa2ewPpmXsJv1Bn23po3wmyu93c7JoPgdlwkD6lwCzRFgKHZeOd5mx1QySSssyu6kYzYCtJXSZdfl9z5LQo6Gp322gC1QKMA9UCgDA4n708C3V9XI0IE0/Mf1Fk42YN20rh+U94rMRMCuEpdBB45ZFS8tgVcLRDGQZsKKv8rudD5jlg2f+m4oXy0cDayl/i1QKMK9UCgDAvtI3HL02pmWrhfQZXR/huf3xszpJ8z2SFfAywQCgy4Sl0CHpUCQIHa0gTcc7s/lV1zFvMlCbQdnyXsjygDrYwGpTKQD7UikAwDxLSJoVkJp9w/QLE5wKSKFdxnNGt1vKRINMLDARHugiYSl0QNsAVGZdpbo0nQuYdxmMzaSB8v7I+8V7A5gmlQKwOJUCAMybTJJr7umdz6IZwwEmk2A0n6dGVyvJBATjOkCXCEthHT3wxO59AiBLm8HCMoGgzErMf/P/ACuhUgCWTqUAAPMg/cFyncvYjdVFYGUywa45DprPYJmI53MX0AXCUlgnWW63dA4ySzGd8AzYAgvL+6RZiZ1lAL13gOVQKQAro1IAgL7KtSzXtYQ52RYJmJ4Uj2Qsp/Qf02zxAKw3YSmssQwqlaAnne50wM3Ah6VLVWmpBEvYYZYvsBQqBWC6VAoA0BcJbMr1zFLzsHrSTxzd4uGSWz9ShakAa01YCmso1W9lECmz7s2YgpXJ3mnNgdlMPgBYjEoBWD0qBQCYdWUlsIQ2wOpLaJptycqE+LTsi29CK7CWhKWwRlI9+skbj68u+FmqzCx7mJ4SfJQPtJblBcZRKQBrQ6UAALOqjN0IamBtZRsHoSmwXoSlsEZKmJNOtz2cYPoSeqRiO++zzTccV1WdAoxSKQBrS6UAALOmrF5kgg+sD6EpsB6EpbAGcpEvF3hLkMHqSUCaoDTvtQSnPtwCo1QKwPow6AXArCjLyf/ggRvqW4D1MK7/aGwVWA3CUlgDZQmydLiB1ZUleMuH23Sodz96e/0VAJUCsN6EpgB0XVkZLCuSAOuvrf+YcR9bnAHTJCyFVZYLdy7iuaDn4g6sjTJJIe89+xIChUoB6AaVAgB0Vdnj3jgOdEvpP5a+Y96j+f9MmgdYKWEprLKENLmA2xsN1t51d1467EQLRoBQKQDdolIAgC7KGE6uSTff87X6FqAr0k8s79G0bMP0nbuuGDz7r3+o7wGwdMJSWGW5WOfCndAGWHslGPFBFwiVAtBNKgUA6JJs55Lr0Rnf3CCAgY7K1ipZmaT0H8/a9nYriwHLJiyFVVZmOu18cHt9C7DWbvnZdcPOc8JTYL6pFIDuUikAQFd88sbj9RlhBmRyQ3m/ptnaAVgOYSmsss03HFddqF2kYX1lGd7ScRaYwnxTKQDdp1IAgPVWtlXSZ4TZkInyeb+W/mO2XrFKCTApYSmsss9sP6m6QGfAB1hfCUjKnmgCU5hvKgVgNqgUAGA96TPCbMnEhoz3lLGfrFKSyfMAixGWwiq7eMfp1cU5Az3A+lNhCoRKAZgtKgUAWA/6jDCbsrVDGZNNSzGLCXfAQoSlsMq+8sNPVRdls5igOwSmQKgUgNmiUgCA9VD6jJaDh9mT921zwt11d15q4gPQSlgKqywDOrkYf+euK+pbgC5oBqbenzCfVArAbFIpAMBaKp8dE5oCsyerkSQkLX3HfP6zAiAwSlgKq6x0qi+59SP1LUBXNANTlSkwn1QKwOxSKQDAWsi1pVxvBCwwuzK5LpPsSt8xY7VP/v5X9VeBeScshVWWi24uwFkuzOANdE+qSktHWWAK80elAMw2lQIArIVs25DrjInwMPvyfs52DnlP57/6jkAIS2ENlKoVF1/oprJcdtrOB7fXtwLzQKUA9INKAQBWU64pZc9s1xeYfXkfN7d1uHrX5xS5wJwTlsIaKEHMlXecX98CdE15n+YDsMAE5otKAegPlQIArJav/PBTw1AF6IdbfnbdcCJEil1MhoD5JSyFNfDAE7uri+5Z295e3wJ0UTMwzfsWmA8qBaBfVAoAsBqyikGuK1mVxHUF+uOxJx8cbL7huOr9nbHbvNeB+SMshTVSlvj70cO31LfQd08+9fTg9jt/PrjoilsHm86+dvCuM66s2hs2XjL847tQO+TYz1f3z2PzHJdcdVv1fHleVk+ZLZxqFB1kmB8qBaB/VAoAMG1lyfesZAD0R/bBL5PtMh50z+O76q8A86KMydcRY3+UA4OuKEv8ZaCG/vrlnqcGX71+VxVylr9Dq9ESoF5z008Ep6vkS7dtrt6vmeTwxG8frW8F+kylAPSTSgEApikT4PUZoZ/yni6TaDPhTr8R5ksZd68jxv4oBwZdkQtuqS61vGf/3HXf44O//uy3h39USzt44+mDw04/fnD03x01OO78wwcbPnbM4E/e8dH97tdWbfpnx3908PZzPjg4+X8eN3jneZuq9vr3n7Xf/RKc7th5f/1KmIa8X8uMwgysCkxhPqgUgH5SKQDANGUSfK4pOx/cXt8C9ElzxTHjQTA/ylh7HTH2Rzkw6JLr7ry0uthecutH6luYdQ8/9usqrCx/c9Jef8KHB0dtfvvgA196/eBDWw+uWv6d0LR5vwSk523ZMbjvoSeq5xpXlfqfTzt98PGbNwzO/+fDqnb2jjcP3veF9w0O/eCZ+9wvryOvh+lIYFqCE4EpzAeVAtBfKgUAmJaEpLmeWDkM+itjt2U8KBPvgP4rY+x1xNgf5cCgS7JPUtk3yQDN7MsyuK86+r9Xf2teduQnBn9xygmD91/258OAtLR3fPotg1e+9ezhH9yPXXxjVYm6kASn2aP01Udf+NzzH3FOVWX6qe8fPgxNS3D6rgtOHLzirZ+s7vfKIz9bBbCW552OdIjLrOF0kLOUH9BvKgWg31QKALBSzZXDMtkO6J+8zy/47oeq93n6j0D/lbH7OmLsj3Jg0DVX7/pcdaFNxRqzKUHkKed8a/gH9JDjT9unirS0E77wH6qvlfsdfeoVi4akoxKaNpf3/eO3f2LwN9e/bZ/AtISmh3/klOH9Djn280v+XrRLB7m5dJ+JDtBvKgWg/1QKALBS2bZBnxH6LRPmS9GLybTQf2VcvY4Y+6McGHRNBmTKDEQX2tlz+50/r4LI/H156eGfrvYgHQ1J0zZe9F8GBx398WFwmSrUldh19y+qsDXPlyrT7GM6Gpim/dV1Rw/3NU2V6U0/EOxNQwLTMrCawNS+w9BfKgWg/1QKALBSuZZk0k2uJT944Ib6VqBvysQIW7VA/2U8Pa2OGPujHBh0UTrSLrSzJ4Fn+dvy6mP/ZnD85//T2KD05Rs+Ud3v+I9ePbUlcZ9+5tl9Klqz/G5bYHrOD984eOMZ/214vyzny3Q09zoTokB/qRSA/lMpAMBK2e8e5kNWB8x7PasFAv1VxtLriLE/yoFBV5U90VxoZ0MqNMvflcNOP37wwS+/rjUofee5RwxevuG5/UOzfO5qyJ6k5bVk6d22wDQte5yW+63Wa5lH1915afXeTfvOXVfUtwJ9olIA5oNKAQBWqoQoPhtCf2U7przPM9Huyd//qr4V6Jsyjl5HjP1RDgy6qnmhzcx2uitL72ZJ2/xNOfyMd7eGpGkJSl96+DnV/T5x6c31o1fHtu/dNXxNGz7+4dawNG3TlndXy/bmfh+7+Mb60axUGVxN+9Jtmw2wQg+pFID5oFIAgJUQosB8yNhP3uuZQA/0U8bP0+qIsT/KgUGXXXnH+dWFdvMNxxmI7ai77nt88OqjL6z+nqSitC0kTXv3BW8cBqUXXXFr/ejVtWPn/cPA9L0Xn9AalqZ9+B/eOQxMt3xjZ/1oVipBSlm+LwOtPhhD/6gUgP4zyA3ASpUQJf8F+qn0GU2mhf7K2HlaHTH2Rzkw6LJcXMsyf2azd8/Dj/16cOjGL1R/S97wwQ+0hqRpH/jS6wcHHf231f2yRO5a+ur1u4Z/yBOKtoWlae/7wvuG90vIynSks1zew/lv/h/oDyEKzAeVAgCsRPqJZSJtJtUC/VS2VNv96O31LUCflLHzOmLsj3Jg0HUPPLF72Kl2se2Op595dnDYiV+s/o4ccvxprSFpaQdvPL2637vOuLJ+9NrKkr/5/q946ycHf3P921rD0rS3/t3J1f1SKZuKWaYjH4xLh/m0a9/kfQw9o1IA+k+lAAArdcvPrhteS373zG/qW4E+yYpDeZ8reIF+yrh5Wh0x9kc5MJgF2356+bBTrXKlG7KUbhUsHvs3gw9++XWtIWlalubN/d6w8ZLBL/c8VT967R3/0aur1/GqYzcPzvnhG1vD0rT/+OEzhq83gTDTkYHVr/zwU9X7OJMffvDADfVXgFmnUgDmg0oBAFaqbOGQz4ZA/9zz+K7qPZ73OtA/GTNPqyPG/igHBrOidKpVrqy/VF2+8sjzq78hGy/6L60hado7Pv2W6j7ZN3TX3b+oH70+mpWwbz/ng61BaVqC1Ne+5+PV/dZ6yeB5kOX78j5Os8ch9IdKAeg/lQIArNRjTz5o5TDosXwWzPs773OrkUD/ZLw8rY4Y+6McGMyKJ3776LBTrSptfR1x8pbq78dfnHJCa0ialmrTV7717Op+W76xs37k+rr9zp9Xr+dlR5wzOOs7b2kNS9NOu+aY6n4Jee976In60UxLCVXSUjUO9INKAeg3lQIATENZOeysbW8XpkAPldVIso0D0C8ZL0+rI8b+KAcGsyTL++WCm9A0e5my9i656rbqb8dBR//tgsvvHnnWu6r7JVjtklPO+Vb1uv7zaae3BqWlvfGM/1bdb9PZ19aPZJrKezlNYAr9oFIA+k2lAADTkGtICVNMsoP+KVswZaI80C8ZK0+rI8b+KAcGsyZLf+Wim1mI9i9dWw8/9uuq2jJ/O9557hGtIWna+y/788Er3/p31f1u+kG3ZpJl39RyDCf/z+Nag9K0s3e8uapA7eIx9EUqxPNeThOYQj+oFIB+UykAwDTkOmLlMOin8pnQOA/0T8bJ0+qIsT/KgcEsuuC7H6ouvPkvaydVlvm78eeb/mtrSFpalufN/d51xpX1I7slywLn9b3q2M3VHqVtYWnaey9+7jjesPGSas9Tpq8ZmNrDFGafSgHoN5UCAExL+SyY0DQrlAD9UN7bPg9C/2ScPK2OGPujHBjMolSUnvHNDdXFN5WmrL5UZOZvxksP/3RVOdoWkqblay89/LmKzLvue7x+dLck+DzsxC9Wr3Gh6tIEqa99z8er+6kuXT3NwDT7oQGzTaUA9JdKAQCmqUzC2XzDcVYlgZ4QlkJ/ZYw8rY4Y+6McGMyq7FlaBmNvvudr9a2slvO27Kj+ZkxaVdr1vT5Ldenr339Wa1BaWqkuPfpUVY+rKVWleS+fdu2bBk/89tH6VmBWqRSAfjL4BcA0JSBNUOraAv2RSfB5T1sNEPonY+RpdcTYH+XAYJZlCbBcgNN2P3p7fSvTlkrMQ479fPU3490XvLE1JE374JdfV1We5n5drSotckxl79K/uf5trUFpWqpLy96lXT+mWXfJrR+p3suf2X5SfQswy1QKQP8ISwGYtkyssyoJ9IewFPor4+NpdcTYH+XAYNZdd+el1UU4ness/cf0bfveXdXfi1cf+zetIWlpR//dUdX9jjh5S/3IbvvEpTdXr3fDxz/cGpSW9ta/O7m638cuvrF+JKvhd8/8Zri89o8evqW+FZhVKgWgfwx+AbAamquSmAgPs01/Efor4+NpdcTYH+XAoA++dNvm6kJ81ra3W8JzFbzrjCufCxU/dkxrSFraIcefVt3vkqtuqx/Zbfc99ET1elM5evaON7cGpWlnfect1f1SiZq9W1k9WVI77+VP3nh8fQswy1QKQL8Y/AJgtZgID/2gvwj9lfHxtDpi7I9yYNAHqV7JRbiELJb7m54sPZu/FVleN8vstoWkae+/7M+HS/DOUqB4/Eevrl7z+77wvtagtLT/+OEzqvt99fpd9SNZDXnvqi6FflEpAP1h8AuA1VS2cTjt2jeZCA8zaueD26v3cQpbgH7J2HhaHTH2Rzkw6Iss4ZnK0lyQL95xusB0Ss7bsqP6W/EXp5zQGpKWlqrT3C9VqLPkmpt+Ur3u/3za6a0haWknfnFjdb+Eq6yu79x1RfU+vvKO8+tbgFmnUgD6QVgKwGrLeE6uNVYOg9lkj3vor4yNp9URY3+UA4M+SUc6MxBzURaYTkdZgved5x7RGpKW9tp3P1d5mfBxljz82K+r152leM/54Rtbg9K0j9+8obpfluJ9+pln60ezGspA7Ge2n1TfAvSBSgGYfSoFAFhtoyuHZWI8MDtKWHr1rs/VtwB9kbHxtDpi7I9yYNA3qVgpgamBnJVJKJhwMH8rPvCl17eGpGn5Wu6T+z751NP1o2fHGzZeUr3+0645pjUoLe1Vx26u7nf7nT+vH8lqyIfhEqgA/aJSAGabSgEA1kI+EyYozTVHYAqzZdtPL6/eu/kv0C8ZF0+rI8b+KAcGfdQMTA3mLF9CwfydePWxf9MakpZ23PmHV/c7+tQr6kfOlo9dfGP1+t953qbWkLS0t/7dydX9Lrri1vqRrJayb6kwBfpFpQDMNpUCAKyVJ3//q+FWS/qNMDvST8z79pafXVffAvRFxsXT6oixP8qBQV8JTFduyzd2Vn8nFtuv9PAz3l3d7xOX3lw/crbc9IN7q9d/6AfPbA1JSzv5fx5X3W/W9mWdRXnfpgH9o1IAZpdKAZZr9+7dgw0bNgwOPfTQwbZt2+pbmYZZOrddeK0XXXTR4MwzzxwcfPDBVdu0adPgkUceqb9K12Ty7OYbjquuPVYmgdmQVf7yns32DUC/ZFw8rY4Y+6McGPTZ7kdvH3zo639RXaQFpku36exrq78TR//dUa0haWmvP+HD1f22fe+u+pHddN9DTwyX3G1ri+1b+qnvP1dBO669+ugLq+/ByiQ4yXs21aVAP6kUgNmkUmC2JRC6//776/9bW5dddlkGVap2zDHH1Lfu6/e//30VoG3durWX4dVqHd8k57Yrpv1al3JO8/WDDjpo+P2bLeEt3dWcaJf+YybGA91VVhK65/Fd9S1AX5Qx8L39p34pBwZ91wxMr7vz0vpWJpHwL38nTvjCf2gNSUt75VvPru738GO/rh/ZXXmNR5y8ZfjHfbQttm/pnx3/0dbHZb/WXXf/ov4urMRjTz44DFCA/lIpALNHpcBsSZB07rnntgZEuW3z5s1rFkpOEpKdeuqp+7y+vlmt45vnsHQp5zQVpOW+aQcccMDwvZEKU7otgWnZ+z4riAlMobuEpdBfZRx8b/+pX8qBwTxoBqaWDZtMKiTzN+Kgo/+2NSAt7f2X/Xl1vwSrs+LJp56u9lfN637VsZsHf3P921qD0cXaiV/cWD1H2o6d6zNLv49uvudr1XtVNTj0n0oBmC0Gv2ZHqu1e/OIX7xMOtbUXvehFg1tvXf39+CcJyVLdV+7zwhe+sL61P1br+OY5LJ30nGZSQL5e7pv3R7Fnz55qeWC6L3vfNwPTjPMA3aO/CP1VxsH39qf6pRwYzIvMgM/FOk1guriEf/kb8eeb/mtrSFraOz79lup+WbJ3ljz9zLOD4z96dfXaX/HWTw7+6rqjWwPRce3D//DO6rFp19z0k/pZmYbSsf7Rw7fUtwB9plIAZofBr9mQpXYTgu792D8MkVI5l30aU4mXfzeDo9y+2iYJyfI6yn0WqvRrVgg2Q6+uW63jm+ewdNJzevXVVw/vN0lV76z+js2LTKotYzvfueuK+lagK8pnO/1F6J8yFr63j9Qv5cBgnvzggRuGnWqB6cISAOZvxH/60EmtIWlpGz52THW/87bsqB85W/76s9+uXn/2K00A2haMjrYEq7l/HnfRFas/E3+eJDRJFXhaZg4D80GlAMwGYelsaFbbveQlL2mtmks1XYKmhKpZjne1TRqSpQJwsSq/PL48V553lqzG8c1zWBqTnNMsR12+78aNG+tbx5vl37F5kS2WythO+pDZDx/ohktu/Yj+IvRUxsLT9vaR+qUcGMybZmB6y8+uq29l1CVX3Vb9jfj//mpja0haWr6e++X+sypBb/mbmKV12wLS0s76zluqStTc92MX31g/A9NSKsDzgReYPyoFoNtUCsyGZtXo9u0L7y+bfU0TnK62aYZkfQ+ylnp8qxFArpb1eq3NvU0nqaTu++9YX2Ry3Rnf3FBdl/Jf1ybohjK57oEnLHEOfVPGz/f2kfqlHBjMo2ZgajC2XQkQjzzrXa0haWl/ccoJ1f1mfSnaEg6nvffiE1qD0o/fvGHw6mPPru5zyjnfqh/JNJW9C01kgPmlUgC6S6VA991xxx3DkCctYWgXTDMk63uQtdTjW68AcjnW67U2z6mwtF/STyzBTFr6kcD6eezJB6uVwvJ+9DkO+qeMne/tI/VLOTCYV5bkXVhZnvaozW9vDUlLe8MHP1Ddb9v37qofObvK0sNpbz/ng/sEpZ/6/uGD177n49XXstdp9jxlujLwmvdjZgVbghfmm0oB6CaVAt2XStK9H/eHLfuXLkeWNU2olJZlTos8X/ZzzP6QaanYy36Qzfu0mSQky3OX7zlaEZsQuHztwAMPHD7XYYcdNrw9LUsKTxIQl2WI0y666KL61nZ5vnLfrVu31reOlyVfc9/8t2m1jm/cuc1z5jXkObI0cx4/zf038zPP68mytuX3If/O6xn3M5j2a13onDZ/h5vnNK+z3J6W39+Y9u8YayuT4Mv4zme2nySkgXWQbZVKX/HqXZ+rbwX6pIyb7+0j9Us5MJhnP3r4luGMpyvvOL++lUggmL8Rx51/eGtIWtohx59W3e/2O39eP3K27dh5/+CVR362OqbDP3JKFZSe88M3Dl7//rOq2444ecvgyaeeru/NNJVqlZvv+Vp9CzDPVApAt6gUmA0JAfd+3B+2xYLAcZqhVkKohEPNpUxH27i9UYtJwtKF7pMQrnxtsTYamrVJyNZ8TP5/nObryhLHCwVl+d7lvjknTat1fG3Pm1Cv+ZhmS/i30qWX8/zZ77bt+dMOOOCA1gB92q91oXO60PM2W8LTmPbvGGsvE3nO2vb26jqVPfCtIgZrJ+Orm284bvj+01eEfsrYeNre/lC/lAODeZfqlTLwk73SeM7Rp15R/Y149wVvbA1JSzt44+nV/e667/H6kbNv192/GLz66Aur4/qPHz6javn3GzZeMvjlnqfqezFND+25t3oP5r2oUw00qRSA9adSYLY0q+IS7pXKuaVohlB5fPM50xKGNf8/LeFZqvPaLBRqFdMIvtIWCm2bmsewUKic19J8/oXOZzNQTvjWtFrH13zehItpzfu3tYMOOqh+9NI1v195rlQb5/s2z2lboDjt17rQOR19neNaKlljNX7HWHu5Xn3pts3DvmO2ebEaAqyOvN+yhVLZTsnnNei/jI+n7e0P9Us5MOC5oCYzn3Jhz/5olgAdVMFg+TsxSXv4sV/Xj+yHhL/Nc5DwtG/H2CWlqtQALNBGpQCsH5UCs6dZ3Vjahg0bFl0qt6kZNJUKwgSvCZRKpV/+m/vl9nLfEjyNWijUKia5TzTDyzxmuZrB5rjXHakQLfdLW+i1NUPlSSpA2yz1+JrPW1p+Js3lYvOzz+9A8z633npr9bWlyPOVn3f+2xaIJjBPCNpWrTvt17qcc5rf4cUs9WdA92RSfOk7pmUlsQQ7wMrlvZSxm1J4kpb3W1YJM54K/VbGyff2kfqlHBjwnASmpTOdWVHz3pEuS9FO2vq4h2fC0QSmCUr7VDnbNRmEzftOVSmwEJUCsHZUCsy+tiq5hFIJgRZacrYYDbUSmI4LrFKV2bzvYiHZuFBrOcHXSoKsHE95npybtuV1E/yV+5Q2urxu0VzaN+dr9PlW6/iaz5u20M+qGeYmkFyq5vlYKGAeZ9qvdTnnVFg6PxLaZBuHEuhkH/wfPHBD/VVgOfK+avYPM/F954OWJod5UXKAvX2kfikHBjzvid8+Opw5n//m/5lv2Z+0L/uxdlE62uU9Z6/S2ZRBsww6pY1bem+1ZZAtFQnldWzdurV1wJN+UCkAq0elQL9kudhSFTraEgYtZZ/Obdu21V9p16y+TMXmqElCreUEXysNsl784hcPn6vtGM89txoMqlrzvm19nsVe/2odX/N587MaFz5G877LWYq3WbW8nMdP+7U27zPpORWWzp/sud3cBz//zm3A0iUYzfsokw9SdALMF2EpzJkMEpVZUi7+sLrKXoR5zxmEnU0ZcNrbrZh48GkSGbydpOoly/+N2+uqbaB2mhLGLjTAtxomPS/zQKUATJ9KgX7KtTL7SSaYGr1WJkgdt//mpCFUsdiStpM833KCr5UGWc3nGt1jNEo/I+cqE7PKffPvUc0+SSZujVqt45v0eSN9l3LfcRWyC8nvU3l82lLP/7Rf63LOqbB0fqWvmD5juc595YefsmICLFHGSMvnL+8fmD/CUphDGSzK3qXpAGRvpiwTCkxXOtYl6Ljn8V31rayXLKF38MEHVzP393YTqnbAAQdUg0ULVZNMOyxtDk5l0HEh44LStIUGzFaqWVWRweel7AG3XEs5L/NEpQBMj0qBfsu1KtfptkrTtsB0KaFWJBws98/yqaMmeb7lBF8rDbLSxynPNRrIZWJUCZnzPZtL0KbP1JT7lnObx5R9XZtW6/gmfd7IpKty37TlaL6+tPz/7t2TLYs/7de6nHMqLJ1vmRyfVUlK3zGfRzMBzyolMJmMl2Zrhrx/Mm4qMIX5IiyFOZUOQGYalk50KuCA6SkTErIHIesnwV9C0b1dgwVbQtS2UHDaYWlzf6q8rnGaA5YZlGwGuqlEWM2qz+aSfGlrUWE66XmZVyoFYOVUCsyHXMubQVBaQr7Ra/xSQq1oTiTK842a5PmWE3ytNMhqBqJpzdCveUzl+zSXG24Gos37jtvLc7WOb9LnjWmEpTnu5uS60nLbYq932q91OedUWEpkcl1WUCh9x0ySt+Q8TCZblpVtUTLhIJ+9TLSD+SAshTm37aeXDzvQCXV0nmHl8kG0fCg1ILt+Mgg1WmGSSonSRkPUtsGiaYelzcGphQa9moHluEHJpixBWI4rx70So5Wla7E/6qTnZZ6pFICVUSkwX5rX77TRZWWXEmrFrIal0Vyponkemueo9B2yVG+5rbnUbnMZ4qzW0Wa1jm/S541phKVFzk9zH9fS0n8cN5Fs2q91Oed0kv7qUn8GzK6scNRcpSQThmztAItLPzFjpOW9k5b3kpX5oN+EpUC1LFlZLjSDSAZeYfkyi7e8n/LeYv2MLrmbas1RGewqg4ht+281BxInGXxaTKoVMuCatpDmoOQk37dZCbLYc08ilSd5nrVYgjcmPS+oFICVUCkwX5qrFowu8b6UUCuay9nO0jK80fy+mVRVlH5Sc3neLFlc7tt8jc1zOa5vsFrHN+nzxjTD0siEsXz/0UrTTCZr61dO+7Uu55wKS2mTgGfzDccN+4/Zw3v3o7fXXwXGSd8xE1Tzmcv7B/pPWApUHnhi93CJvwwiGTiCpUtYUT6EZgCW9ZPwbW93YNjaBrSaEg62VVBOOyyd1FIHsaYdltJ9KgVgeVQKzI+sulCujaMB51JCrUg1Zbl/297akzzfcoKvaQRZzT5R2W+0eVvOU9FctjdVldEM9RIajrNaxzfp88a0w9Km9K+alabN4LmY9mtdzjkVlrKQW3523T5bO+T6lz4lsLCM9WSCavP9k5VKMpEV6A9hKTCUGVOZIZWLfmbbq4qDpSlLZCYwVeW1vpoVIGWwbznWKyzNAFz5vpMMYglL55dKAVgelQL91wyENmzYUN/6nGYINfq1Ns2lbJvhYjFJqLWc4CvL8k9Ds1+R6tFmBWn+3dS8b1bgaL7u0eWMm1br+CZ93ljNsDRyPspzJ1QeNe3XupxzutSwdFq/Y8yOfE7Ndkyj1z+ThmAyo6Hp1bs+Z4U+6AlhKbCPdJybs+3TiQYWlw+Xec9kokEqtVlfzcGltr3FJjUuLE1FRgYXc1tawtlJlqzNfTIolTZ6//x/WYq2udxdluQtt6dlcC3y33Jbs9Ihz928/7h9tRaSJYlzXJM+NpUo+V6pvCnnJM+R2yax0HkpcnsGafOzbVYB5/bm9530Z9E3KgVgeVQKzJZyDVxMrhPNvclzfWlq9hPS8v/j5JpSqi3TRsPFmCTUmuQ+0ayIzXVtGnL9bH7v5vdIn6Yp56p8Ld+/GRRnJY5xVuv4Jn3eWO2wNJrPP3rupv1aJ32+fK3cb5Jzuhq/Y8yehDvfueuKfa5/QlOYTN4/mXRXtmDK+8iEO5h9wlKgVQaNSoc5e6OpkoPxUp1SZubmAyfrL8vu7u0ODNtyAsPIAFJ5jjKY1BxEbLYMpCa0W0jb8xUbN27c5/nGtTJYduihh7Z+va0tJTxsVk009zFrk8Ho5v6qbS1hdQLMhSx0XormfRLCLvS9J/lZ9JFKAVgZlQLdlwA0E4oWm4zTvKbmmjC6HH8zhCott43KtaZ5vW3brzQmCbUmDb6awWbbUq/L0QzmMsGqrEjR9vwJRMt9c7y5juffOfcLWa3jm/R5Y6VhaforC23d0OwjtZ2Pab/WSZ8vXyv3G9ePalqN3zFmV9ukofQfbe8Ai8vkus9sP2n43sn4abZ8AGaTsBQYKxUpJ245YfDWc/+2WuLPPqawvwyiliUwU4lCN2Rws1kFkkHBDEotVTOgyyz8ZnXFuLbQIFXz+Ubvt9SwNMsGtn29rY1WPiwkA9DlcQuFpRlMzd5lze+zUMvrzs+lzULnpWjeJ1U9zerbcW3cc/WdSgFYPpUC3dZcdj7/zqSZspJBWiY0NStK00arSqMZQjVbrlV5nkwyyvOOXvfbqkpjklBr0uCruZVAWl5/Ob6EXMtdPWH0vKSNu042z3NpOdcLWa3jm/R5Y6Vhafl55/uMTrTL626el/QLR037tU76fPlaud8kfZ/V+h1jtiU0zUolZ217+7D/mH8LTWFxmXBQJqzmv943MJuEpUCrPzz7b4MvfPOBwfvO/eHgo9/4cHXBz6BROs/Ac/KBMktd5v2RIEIFdrc0w7W0VEa0DZguZPQ50hLC5vYMciX8y4BTcwAyXx83yNR8vtHBrASaZaBqoWV4S/DZvP9Cy/AuVCHRJo8pz7VQWNp8jTm3GdArgXReW85Lc9+ztHHnf6HzUjTvU6pcVvKzmAcqBWD5VAp0U3P50ElaW6AVzRAqk48mWa1hobBwklBrKUHaQhOCcp1ejrbVGMY9V9t5XmyVjtU6vqU870rD0kknruX1t00Am/ZrnfT58rVyv3H9qFGr8TtGf6Sv2AxN05fMRDyrLcB46SdmAn153+Tf+o4wW4SlwH5++sCTg/d++o7B1u/8vPr/DLZeecf5wwt+Bot0kmEwfF/kw2OW4qVbMog1GtalJQDMEq3jqhybmgFdWsK3BHKjEg6WAC9tksBvocGs5uvOQNlimpUOKx3gyuPLc40LS5uDdwlqxwWyOcfNAbzct+28T3JemvdJW+nPYp6oFIDlUynQPan4XCjoSct1dKFwbzSEyrWpLUxMy/Um33Mhk4RakwZfkdUb2o4xr2WhfUMX0lxCNm3cNTlyfR2972JW6/iW8ryZINV8vqXK4xdaRSSvL0HyuIlY036tkz5fM+SdtN+zGr9j9E+ueZloV/qPmUCfz8A++8J4ed80+45W94HZISwFhko16Ynn7Ro8+Njv6luft/PB7cMLfsKh/D/Mq8ysLR8YF1uiOkHFA08YdFgPGQQcV4WSgb+l7DGawaO2cK5ofp9UqbRpPt9Cg1ldDktzTnPuyn0Wq9bN/XPuyv3bzvkk52XaP4t5pVIAlk6lQDelMi/XyFwf0rJ8aK5hZZWDhYwLoRJg5TqV58t/J12dIde6fO+Fvv8k92kq9y+vJ695ksctJMcz6WtYyn1jtY5vqc+bUDj3XerKGk35PUhAPvq7NS4kLab9Wid9vryucr+yAskkJv0ZQLZoyqT5ch1My//ndmB/oyuUZJKBlcig+4SlQGW0mnSc0Qu+wSLmUWYGlvfAJLMEywfL7IGmg7w+MgjVVmWaln03xw0MZeCo3G8pe3Xle7VpPl/+PU6Xw9JmZcpCVSlNzfCyrTJikvMy7Z/FvFMpAEunUqA/mteJxSoAAXhO+onpL5Z9vdM233BcdX30ORf2l0mp5f2S98piE+2B9SUshTm3WDXpOKNLktnLlHmx+9Hbh53dvA8m0Qwk0kFWZbp+EgS2La+WZVvblhybNNyMxULGmPT5uhyWptKifH3SIHKxx0xyXiY9dzHJz4LnqBSApVEp0A/CUoDly4okCYGa++Ln39t+ernJ9DAiAWnGgfI+yVhS3jtANwlLYY5NWk06zuiSZLn4m2FPnzWD0nwQnFRC1fI+Ke1Lt232QXIdpTpydJ+mVJiOVklOO6Cb9Pm6HJY293SbdIC5+Zxt+55Ncl4mPXchLF06lQKwNCoFZpuwFGA6RlcrSctn3Xx2Bp6Tz1Nf+eGnhu8Rq/RBNwlLYQ4tt5p0nOxd2tz/LB1lFSn0zXKD0sjyu3lcBlabg6v5b57LXoHrI8HooYceOhwsTbv66qvrrz5n2gHdpM/X5bA0g8rl64udkyLLHJfHZL/RUZOcl0nPXQhLl0+lAExOpcDsEpYCTFfGgBIGlc+6aRknyrVRHxKekwITWzpAdwlLYc6stJp0nMySSvVcc3D1gu9+yHKj9MJKgtIED+V9UWbX5sNiZtuW90q+binr9ZHANOHd3q5D1Ub3wpx2QDfp83U5LN24cePw6/n3JJrPecABB9S3Pm+S8zLpuQth6XSoFIDFqRSYTcJSgNWRz7/5bFsmE5WWbR4y0R7mXfqJGS8t7430I02gh24QlsKcmHY16TgZMEqYVGZKlU6xpcmYVSsNSkvQkP3NRmUyQXPfs8y8TTjB2moGk6k0bZp2QDfp83U5LD333KrjWLXs/zqJ5p6lo+c4Jjkvk567EJZOl0oBWJxKgdmybdu24WSpxa4pACxPPu+O9iEzUTgrL2ULCJhU+lXZMiT/7csWIc1Vx/K+MBYE609YCnNgtapJF5KQKB3gZqc4nWQdYmZJOuLLDUrTgS9BaEKFhX73R5eyzr8Nsq6d5lK8mzZtqm99zrQDukmfbyVhaQaAV2Kx48hSxeXrbfuPtsl5LY9pq0ad5LxMeu5CWLo6VArAwlQKAMD+8tk4QVBzonBa+pQJjIwTMU5+d7JqR/P3JhPSH3vywfoesy3H0Tw+K5TA+hKWQo+tVTXpQnKRv3rX54YX/gRPGTjqS8eG/sqy0uX3dqlBaZQO72JBadPoUtb5ECA0XV1ZhvdFL3rRMFhLBWTTtAO6SZ9vqWFp8/6p/FyJxY5j9+7dw6+nje7zOuqRRx7ZZ6njtvtPcl4mPXchLF19KgWYFpUCADA/MhaU635zNbK0fPbN52H9SIpmUJr+VMYWyyTz/P70aWuQ9BXLeyJ9yPQlgbUnLIWeWo9q0oWkw5tB1dIRTsvMe5UodE065M39RPOBbany4S+PTWd3qR/28v2FpiuXisfsQZagbiG5z95uQ9US6N1///31V54z7YBu0udbaljaPI5Jl8YdZ5LjaO5beuCBB+533oqE0Xk95b5tS/DGJOdl0nMXwtK1k79ZKgVYjuYAWGkqBQBgfuQz7ujku7SMFWU1E9fN+ZbVa/L70JyAnhU7ynhNfm/6FJjm9705bprPU5mgCqwdYSn0TBeqSReSDk5mgzVnEabjkwFVy5Sx3vL7mYHa/F7md3Q5AWVCgzw+HfeV7NXbFpqms6w6ZTJ7uwLDtmHDhqqaMQHanj17BnfccUf1/wcddNA+92uryJx2QDfp8y01LN28efPw/qmUzWuJhMUXXXRRFVpOapLjGK0WTTid11lC05znPM/oOc65bzPJeZn03MUkx8D0qRRgUs2gVKUAAMy39Asykb45abm09BdyLc19mA8ZGyxBafqJbZ8hSqiYvtU9j++qb+2H9IOb257kWE0cgLUhLIUe6Vo16ULS0R3d9yydnHQCLNHLesiMvRJM5vdyOb+H6cTn9zjPMa1Qsy00zYBybvOBcbzRkG6xNq4ac9oB3aTPt9SwdDS8HG3jKj/bTBo0Zsnihb5nsyXAHV3iuGmS8zLpuQth6fpTKcBCVAqoFACANukP5LP06OoTabnNBLx+y4TzMk6YMZCFJqCXvlXu17fii4z1NLd1yMS7fIYCVpewFHqg69Wki8lg2OgMQkv0spbS6Syd0PzuLaejnc5sWYYyv8+rIR8amxMM8qEg+6n27YPBNKSycdOmTfvsR9rWEqStNMQr1jMsjRxH2/Em0Mz5mNRSgsbsX7pYMJ2vL7Yc8iTnZdJzF8LS7sjfRpUCFLleqRRQKQDA/Mok/y9e/3/q/1tYrpH5rJ7P6OXaWVqup1mZwuSjfhidWJaxlUn6SOV3I/3LPkpfuTlxIOdlJSuYAQsTlsKMm6Vq0sWkE3DdnZfus3xf/p0OU98Gy+iGdL6bHc982Fqu/O7mOVIls9rhZSq2mvsD5n2S72/Atd22bduqcC3haULI/DvL1iZQW0wqMnP/tMWqM7PUbZa8zX3HPfekz5flanOfLA28lKAzoWQek2PN/qB5jgSaS7GcoDGvN2Ftvl+qdPPfnPdJK1onOS+TnruY5GfB2svfRpUC80ulwHNUCgAwj5qT/B994un61snls276kZmAV66hpeVamtszQc9E4tmSn2vGMpo/0/z/pJMp8/gyhtjn/lTGgNIvLucoY1d+12H6hKUwo2a9mnQh6RSlE1z2jiwtHYN0CMyiYhryO1Y61fnvSiqZ8ztZOvdrGeznezVDh7yG7BcobGAlmmFpqkJhNWRgQ6XAfMjPWqXA/lQKADAvVmOSf1ZrSH+x7HnebLmmZgWm3McKJt2TPlA+B5TVRkrL/y9nLCNjOXl8xgz7/PPOsZVJ+uV4M64FTI+wFGZQn6pJF5N9I9PJHe0AZyA1twuFWKoM0DYHJ/PvSQZtx0mHtQT7CSrXQwZXR5e4zMC0/X9ZjquvvnoYlqY6FVZb/garFOif/FxVCixOpQAAfbVWk/zzuTcrlDRXX2q2fF7PZ/X0N40hrZ30+TLBO32djN9l7KXZ5yktff2VThgrP/t8n77L73tzwmn+bewHpkNYCjOkz9Wkk0iFSTq4o52rdHwziLaSwIv5kA9QZeA1v0eZabpSWUovz5dAf71nMeaDX7N6Jy2zM1WqsBQbNmwYhqUbN26sb4W1o1JgdqkUWJ4cm0oBAPpkvSb5Z8JRwrlcV9tWMCnX2fRN8lk+YZ4+5dKkT5fzlpZ+X/rm6bvnfKeNjtmNtjIZcprjeBnzyHNnkt68jA2mr9g81/mdN+EOVkZYCjNinqpJJ5HOb1sFSgZR0+EVDtGUQfXmLNMEitPoRGb2XvkdzAeFrsiHg3xYab4/MouzS6+R7sj+nmUv0OzpurcbNWzZixTWk0qBbsqgYq4pKgWmS6UAALOui5P8M/E+/ckEpOOCvHx2znU3fZf0OTJha14+PzfDzxx3jj8tfewSgLZNYlys5VznsRl/yfOl37ia/fUyWS8/63mRca2M/TTPec4zsDzCUui4ea8mXUwG6zJA2lxWtdlJSOcuHQUzBedTfvbNvW/zOzGNatLI79R6L7+7mISmmV1YqmnT8mFFaErT/fffv09AWpoleOkalQKrT6VAN6gUAGAWzcok//R3EgqWPk7z83Jby9dzv3zuL0FiWsYWSr9pvSbslwlszdYMPEtL/7j059KWE36mlVA5LeNw5fnTR1/P8xB5DXmNeW3zJue9Obk0PxsT7mDphKXQYQlHT77wx6pJJ5RBpHQKM2utbTAvnYXMMNNh6L8MMjY7//l3Bm6nOWieDwTlubs+GJ/3Rl5v80NgOtL5MAF79uwZvOhFLxqGpAceeGBVZQqzQKXAwlQKzC6VAnTR0//6VP0vgOf1ZZJ/+ku51qZvkz5O+jqLBanjWvpXpa+1kjaufzvN1vx+pa+Y1gyDZ0H6Tjme9P3ndcJkxsLK72zOQybcmTwKkxOWQkclIM2MvMzMY3kysyodvGZlYWmbbziuGoBKR9hM/X7IzzGDqM1B3/yc01mctgzOl+8xKx8coi00zfvD4CvQFyoFVAr0jUoBumTr3R8QmAL7mJcto0pfLKuXlD5SWe2ktOX2wVbamq8hrUwQbLYyWTAt4xl9VfpMOc55lXGffLYpvx8m3MHkhKXQMZmFl9l4mZWX2XlMR5ZtS2iWTmPbwGlCtXQm0oFczcoIpqv8XEvFSWmrGQBm8Dq/L/k+GYyfRek850Nec5aq0BToswyY5G9cBotUCqgUmEUqBeiC8//5MIEpULFl1OIy4an0t5bbjE8tTfr56SutxqT5WZNQ3IQ7WBphKXSIatK1k05nBgszeFg6Ds2WgdCy55bORLckIM3Ppe1nl9A0P9vVlMHJfK8EprM+SJnXn2pcoSkwz8pglEqBblMpoFKA9ZewVGAKzEs1KbOn9JPSR+Y5GT8z4Q4mIyyFDlBNuv4yuJhB0oRtbZUmua0sSZdqjAR2rJ3y88lA8ejPJj+zzBrMAOJqywBtvmc6mH0akBaaAiyNSoG1p1LgeSoFWC8lLBWYwnxSTUrXlf5iAkKeZ8IdTEZYCutMNWk3ZcApnatUcIyrJknnQoC6OjKInPOa85tgcvTcr2VAWuTnW8LEvs5SFJoC0FUqBfanUoC11gxLBaYwX1STMgvKlkl9Xm1lJdom3BnLhOcJS2GdqCadLan+SGCUAbpUN7ZVn6aNBqipPGFh6ZiVcLStcjStuafsWgakTeW15b99l3Ocn0fz9zzHnZ8TAKwHlQLtVAqwlkbDUoEp9J9qUmZFgsDSFzJ5bGGjE+6ykhsgLIV1oZq0H0YD1GY13mhLdV4JUVMRmdBp3jpvJRRNJyyDejlnbVWj5Xxdvetz1fntwiy3/NzyuvIznqdZd0JTALpCpcDCVAqwFtrC0jSBKfSTalJmSekHZaUNFpd+YpmMmJbzp5/NvBOWwhpSTdp/6WykojQBU5aKTehXOh5tLeFbwqd05ppB6qxWpJY93HIcOZ4EnguFomnNc5Bzt16Vo+PkeMprndeQUGgKwHpSKTA5lQKspragtDSBKfSHalJmTcYrSl+xa2NKXZdxuOb2Y7Z1YJ4JS2GNqCadb9kDNcFSOnCLVVWOttw3LY/L40tL1WWes7R8j2lJx6j53Gmlira0EoSmtb3u0dYMRTOQl+fsegcs4W8ZcMwxz7sSmjZ/d/Mztdz0fHvq965rwOpSKbA0KgVYLW0habMJTGH2qSZl1mSMovR5bEWwPBmbSz+7nMeM3yVEhXkjLIVVppqUhSR8SmhYKjHTOSkB5KRhaldaXm957TmOHE/2GJ2FULRNllkus+u+dNvm+lYig7AJy5u/ozlHlvubTx+48C0CU2DVlAEwlQJLp1KAaWsLSEebwBRmk2pSZk3GH7LtQOnnZFyNlclE+Oa2DsZ5mDfCUlhFqkmZhlKVOlrZmU5hCSfTyl5e02jN4LO0sudqaSUInWZFa1dkMLYMLua4DSy2S6c5A68lNM1/8/8Gs+fLYWe8VGAKrIr0N0rfRKXA8qgUYJrawtG2JjCF2aKalFmScYj0EcsqYPlvxqeYnmzj0Dy/gmjmhbAUVoFqUphdCfrKXrP5r6B0cfmw0lzuLwOxN9/ztfqr9F3CUoEpME0qBaZPpQDT0BaMjmsCU+g+1aTMkkzWz7hDc4Wr/L/J2qtjtD+efmQfiyWgSVgKU6aaFGZXOtmpok1HMJWlOt1Lk4HYcv7SUu2seqX/SlgqMAVWSqXA6lMpMB3ff2TrXLa2UHShJjCF7lJNyixIOJe+S3NbgbRLbv1INf7A6svqLpkQn/OeoDp9dUUF9JWwFKZENSnMtuxRWipK0xHP/7M8CUiby0InQPVBpr9KUHr4x14hMAWWRaXA2lIpsHJtwaDW3gSm0C2qSemyhHAJ56684/z9AtIEdlfv+pw+yzpInzw/k/KzyHjPA0/srr8K/SEshSlQTQqzLUFemSmXTp+gdDpu+dl1w/OaloFvS/71TwlLT9j67wWmwMRUCqw/lQLL1xYKauObwBS6IeHoyRf+WDUpnZF+RyZbZ3/15nYBpWUVjGwdYO/6bkhA2pwYn5+bviN9IiyFFVBNCrMvHfNSyZLOuSqW6cr5zOBrOccGY/unhKX5+QpMgXFUCnSTSoHlaQsEtYWbwBTWl0n+dEEmpmeLhfT72sLRtNyeEE5/pJvSp8/Pp/y89B3pE2EpLJOOJsy+VD6WDl5mKwrwVk8qSlNZWs53Bsbtk9YPzbA0TWAKRK6pKgVmh0qBpWkLA7XFm8AU1p5J/qyXjAGkL5jJ0ln+v+yZPtpKOJr76nvMDn1H+khYCkukowmzL1UUmcnY7NSxNrK0YvYwLec+/57HSqISMPaplZ9pmsAU5o9KgdmXAa78fMrPS6XAeG1BoDZZE5jC2jHJn7XSDEazpcLoKiKlZdJ0vp6tGLJnvXBttuk70jfCUlgCHU2YfenAN/fnUt24PnLemz+HeZuFOBo09qGVD0ilCUyhv1QK9JtKgcW1hYDa5E1gCqvLJH9WUyY7Z2WQ9AMz+bl8rh9t+Zyfr+d+uX8m1tFP+o70hbAUJqCjCbMv1aTNZWAzgGtvtPXVtk9aBtTnwbiAsW9NYAqzT6XAfMrPT6XAeG0BoLa0JjCF1WGSP9OUlaEy0Tl9ggSfCUCb/b/SMnGuBKNZacRYy/xp6zv6PWDWCEthETqaMPvSWW9WMWYgl+7I4Osnbzx+2KlOqJ0gtc/mJSxNE5jC7FApwCiVAu3awj9t6U1gCtNjkj8rVYLRbKmQfl6z79dsmTiXCXLpB2ZCXSbWQZFJk83xt5vv+Vr9Feg+YSmM8cSTfxic9vmf6GjCDMsAX5YHLJ161aTdlhC7zFRN57rPVabzFJamCUyhe1QKMCmVAvtrC/605TWBKaycSf4s1aTBaK75X7pt83DlkL5PamY68nuS35vye5RxOaE6s0BYCi2+fdtjg3ee/b8Ht+32hxxmUapcmh3+DPTmgwDdlw50M+Dua5XpvIWlaQJTWD8qBZgGlQLPawv9tOU3gSksj2pSJpFJT7mGp3+30F7zo8GolSRYqXz+KL9vfZ8QTz8IS6GhVJN+cus9g9/87tn6VmAWpMIhVQ/NJQPTKcttBntnT9871fMYlqYJTGH1qRRgNakUeE5b4KetrAlMYWlUkzJOxkbSF7zyjvP32e6m2TJBTjDKWkg/Mau8ld+9fEbx+0ZXCUuhppoUZk/2SLvlZ9ft9wEgHf9UO+iAzbb8fJud6j5Vmc5rWJomMIXpUSnAepn3SoG2sE9beROYwuJUkzIqE+XSx1uoL5gJdJlInlW4TCZnPeR3tGz7kXEev4d0kbCUuaeaFGZLBuMyEy0Dv83OfzpdCdMyCEy/NDvVCcKzF+2sm+ew9KR/+PPBWz91UHX8R338tYP7HrmrPivAYlQK0CXzXCnQFvRpK2i73lj99+IfHzV4/Hf31WcZGKWalMik4vQH099rrqxVWukLZgJ5Hz470x8J9stYXoJ9y/LSNcJS5ppqUui+UjHTtpRgOlf5EJAPCgaD+y0BQRmQ7cM+afMalgpKYWlUCjAL5rFSYL+wT1t+E5TColSTkj5hxkXaJsslHM3E8Z0PbtcXpPOyWtglt35k+Pub32voCmEpc0k1KXRTZj1mWd1UzDQrFZotHw5SuaCCdP4kEM/PvvwupIM9q8vyzmNYKiiFxakUYFbNW6XAfoGftrwmKIVFqSadX7m2Zmwk/b9mfzATlPJZOP3BTCqGWZTf3zLZLpM/Bf10gbCUuaOaFLohYWc6RwsFo2n5WgKyVMz0Zb9KVia/C6XCKh8cZzEwmLewVFAK46kUoC/mqVJgv9BPW3oTlMKCVJPOp0ycy4oNo9sOZRJd+oT5LGxVLfoiYzllgmg+9+RzEawnYSlzQzUprI905BOMpsOfzv24PdbS8rXcJyGqylEWkg+RzWV586FxlsxTWCoohf2pFKDP5qFSYL/gT1taE5TCglSTzp+ERs0JR2mZIJz+orER+iyT7WZ5bId+EZYyF1STwtrIwG46NqkkyP5qo4PAzZbOUDr+WXZX55/lSBCf5SjL71R+l2bFvISlglJ4nkoB5knfKwX2C/+0yZugFMZSTTp/0v/LxKLSL0xYlM+4WVUE5kU+A+XzUHkfZOIdrAdhKb2mmhRWTwa9sq9alshN575UEIy23J6vX3fnpdX97bHGtOV3q/y+5d+zoISlfWrN932aoBSeo1KAedXnSoH9AkBtsiYohbFUk86XTDTPBPNm3zCTzm27wDzLxNLynkh4aiIpa01YSm+pJoXpGQ1GS+dltKVyIAPC6eTvfvT2qooG1kJ+P8vvYWbidr1TPRo09qE1/xYISkGlAERfKwX2CwG1xZugFFqpJp0vuS5mgm+ZbJ6QNNdGoRA8J5+hyvsjn6Uy+Q7WirCU3lFNCiszaTCaZQQz6JuOfSpjdO5Zbwno82Ezv5+Zpet3cm2MhqWCUuadSgHYX98qBfYLArWFm6AUWqkmnS8JgcoS9WlZZUT/EPaXccnyXsnYo0IM1oqwlF5RTQpLl0Hd7PWY4LPZcW+2EoxmoEswSpelUy0wXVvNsFRQyjzL3xuVAjBenyoF9gsDtfFNUAr7UU06XxL0NCfSZYl62xPBwjKR4JM3Hl+9Z7KKncCUtSAspRdUk8Lk0sFYKBxNJ0QwyiwTmK6tEpYKSplnKgVgMn2pFNgvENTam6AU9qOadL6kj1g+m+a/GYsBJtPc/z7vn/QjYTUJS5l5qklhYRmszbK6WfIsQWgZyC0tA1YJR3OfWZ6p9fBjvx78cs9T9f8x7wSma6eEpYJS5pFKAVi6PlQK7BcKavs3QSnso0zyV006H/L5M1sblT5ixlzsvQhLl/dS+bwlMGW1CUuZWapJYbwMOmXpvzIDq9lKOJoZjVmCty82nX1t9Xf/XWdcOdjyjZ1VeMp8awammSzA6ihhqaCUeaNSAJZv1isFvv/I1rls+wWi45qgFPZhkv98yXhMucZl+Xl9RFiZZmCa99TuR2+vvwLTJSxlJulowv4y6JSAtMzUb7ZLbv1I9bU+z8B69dEXDi9qpR1x8pbBRVfcOrjvoSfqezFv8jtf9kfb+eD2+lamSVDKvFEpANOhUmD27BeKtjVBKQyZ5D9/mpPpsnqCaxtMR/qNmQSf91bGeKzmw2oo48l1xNgf5cDoFx1N2F86COkwlECodBzK0rrzMIC76+5fVH/zX3r4pwcbPnbM4OCNpw8vcKUdduIXB5+49ObBXfc9Xj+KeZH3QRmIneWlprtKUMo8USkA06VSYLbsF4yONkEpDJnkP3/K5860TFg3mQ6mrwSmxndYDWUMuY4Y+6McGP2hown7Skd8dJndDDalei4DT/Mk1aP5m//6Ez48+NDWg6v2gS+9fnDU5rdXtyVELdeFtDdsvGRwyVW32eN0juTDat4jec8wXYJS5oVKAVgdKgVmx37haLMJSqFikv98agal2356eX0rMG3NiXabbzjOpASmqowb1xFjf5QDY/bpaMK+0gnPIG3piGfg9ro7L53rGVXZpzR/8488613DsLTZPvjl1w3e8em3DN7wwQ8MXnbkJ4YXv7RTzvnW4PY7f14/E32VDnR53/jwOl2CUuaBSgFYfSoFum+/gLQ0QSlUTPKfT4JSWFv5LFa2ILvgux+au4IRVk8ZK64jxv4oB8Zs09GE542GpPl3bpv3TsHTzzw7eOWRn63+5h//+f/UGpY2W4LTVJy+9t1nDC+CaVmm96vX7xo8+dTT9TPTN6lUyXsnVStP/t51BZiMATBYGyoFum+/kDRNUAom+c8x/URYH5lYV8ZIsw0ZTEMZI64jxv4oB8ZsSucynUwdTRgMHnvywX2W2y0hKc+56Qf3Vn/vDzr6b1vD0YXaxov+S1Vt2lymN8HrX3/22/Y27amyHO/Vuz5X3wIwngEwWFsqBbpNUAr7M8l/fjX7icZoYO1lW5SyTcrN93ytvhWWr4wN1xFjf5QDY/akg5mOZjqcMO++c9cVVRVcLvxnfHODDniLT1x6c/X3PqFnWyA6Scv+phs+dkwVuJbrR9qms68dPPzYr+vvRB+kM533k+pSYDGCUlgfKgW6S1AKz1NNOt/ueXzXcKzmlp9dV98KrLXdj94+HONJsQmsRBkPriPG/igHxuwo1aTpbKbTCfMss+qb1aTZw8lSZO2yfG7+3mdp3bYgdKntneceMXj9CR8eXiDTUmn6yz1P1d+RWae6FFiMSgFYXyoFuklQCs9RTTrfMqknk9l9poRuuPKO86v3Y8ZRYSXKOHAdMfZHOTBmg2pSeF4Gh8ps+nTAM0uKdqn6LH/vUx3aFn4ut2WJ3mZomuV5U8UqNJ19zepSkxCAUSoFoBtUCnTPMCwVlDKnVJOS5eHLcvHZZxtYf3lflnFUKwKxEmUMuI4Y+6McGN2mmhT2tfPB7cMB2syIskzowq656SfV3/pXH/s3rYHnNNq7L3jj4OCNpw8vmAlNL7ri1sGTTz1dvwpmUfZBE4QAo1QKQLeoFOgWQSnzTDUpUVYp2nzDcSbeQodkwmvemxlTzQR5WI4y9ltHjP1RDozuUk0K+8rsp1zY07I/U2ZGsbAsj5u/9X9xygmtQec023HnHz547bvPGF44Dzn284MdO++vXwmzpiyxafAVKFQKQPeoFOgWQSnzSDUpRSba5nqUZeIzwQ7oljLJLpMaYDnKmG8dMfZHOTC6RzUp7K9c0DMDyr5Mk3v10RdWf+sPO/34qS/DO66949NvGfzJOz46vIAmsFVlOnsy+FqquC3tB4RKAegmlQLdIShl3qgmpUg4Wj4/2ioJuimr85X3qT4jy1HGeuuIsT/KgdEtqklhXwlsvvLDTw0HgHS6J3fXfY8PL2KlpfLzyLPeNTj+8/+pNeicVvvgl19XBbTl+6oynU3lvXfdnZfWtwDzSqUAdJtKgW4QlDIvVJMyKisS5TqUz5BAd2UrlbxX03eEpSrjvHXE2B/lwOgG1aSwvwSlWeavDM5m1jxLk8D0kqtuGxxx8pbhBa20VH9med6NF/2X1sBzGi37maoynV2lUiXLbgLzS6UAdJ9KAWCtqCZl1HfuuqK6/mRfe6uPQLeln5j3a/qN6T/CUpTx3Tpi7I9yYKw/1aTQrlS1JSg16LNyv9zz1OCam34y2HT2tYNXHvnZ4QUuLYFmKk7ff9neDlNL6LmS1lZluuvuX9Svii5rLsXrQy/ML5UCMBtUCgCrSTUpbbJli0l1MFvK9iqZ6ABLUcZ264ixP8qBsXTl3K20HXj4+YM/fc81g9e875uDP3rzBa33mbRB35SZiel0P/DE7vpWpummH9xbVXqWfU1Le/0JHx4c/XdHtQafK2nNKtOEtV+9XqXwLLjgux+q3os/eviW+hZgnqgUgNmhUgBYLapJGaeELibVwezY+eD26n2bSbGwFGXsuI4Y+6McGEtXzt1K22s2Xjf4d2+/vPVrS23QJ+WinSagWX1PP/NsVXH6rjOu3OfvysuO/ES1TO8JX/gPreHnclqqTP98038dfo+PXXxj9f3prm0/vbx6L6ZaBZgvKgVg9qgUAKZJNSkLyXhNrjkm1cFsyfs179181suKYjCpMp5bR4z9UQ6MpSvn7t9/cMe6Nz9H+iZ7JJaBWYM8a+/hx349OG/LjsEbNl4y/PuS9oYPfmCqe5tmyd/y3Md/9GqBaYfZtxTml0oBmD0qBYBpUU3KQhKw5DNirjk33/O1+lZgVpT3r23PWIoylltHjP1RDoylK+euLbxc6+bnSJ888dtHq/1Jc7G219L627Hz/v2qTQ85/rTBcecf3hqALrW989wjBi89/NPV8wpMuysfgvOezCQGYH6oFIDZpFIAWCnVpEwiAWmuNybVwmzKhNi8h012YCnK+HAdMfZHOTCWrpy7tvByrZufI32RgZ2ztr29ulBfvOP0+la64K77Hh+ccs63hn9v0l597N9UYWdbCLqU1gxMN519bf0d6ZrNNxxXvTezJCfQfyoFYLapFACWSzUpk8j4TSbU5Vpj6ySYTT944IbqPfyl2zbXt8DiyrhwHTH2Rzkwlq6cu7bwcq2bnyN9kEHZC777oeoincEds+C7KUv0fuLSmwevPPKzw789B288fcXL8zYD0+xhSveUpTh9EIb5oFIAZptKAWCpUkGaSlLVpEyi9BUzjgPMpgee2O19zJKV8eA6YuyPcmAsXTl3beHlWjc/R/qgDOiksjRL8dJtTz71dLWvaTM0zZ6m77/sz1vD0EnaUZvfPnyuLd/YWX8nuuK6Oy+t3qP2EYb+UykAs0+lALAUqSJNNWmqSmExmdyurwizL+OveR+bIMtSlLHbOmLsj3JgLF05d23h5Vo3P0dmXdkTLfsqWSpstvxyz1P7LM+b6tD/7682Dj745de1BqKLtTw2z5MQ9r6Hnqi/C12w88Ht1fs0ExuAflMpALNPpQAwiVJNmv1Js08pTKJMyBGwwGwr+9yncAUmVcaA64ixP8qBsXTl3LWFl2vd/ByZZU/+/leD0659U3VxtkzY7Np19y8GR596xfDv0Z+846ODd1/wxtZAdLF2yPGnVc9xxMlb6menC+55fFf1PrWfMPSbSgHoB5UCwGJUk7JcubbkGpPQFJhteS+nwaTK2G8dMfZHOTCWrpy7tvByrZufI7Os7FNq1ns/3PSDeweHHPv54d+lw04/fslVplnK95VvPbt6fJ6PbiiDrp/ZflJ9C9BHKgWgH1QKAOOoJmUlyspgmVyXSXbAbCsTZWFSZcy3jhj7oxwYS1fOXVt4udbNz5FZlb0PSyc7Fab0Q/Yz/evPfnv4t2k5VaZHnvWu6rGqS7vDoCvMB5UC0B95Lxv8AppUk7JSWWko1xYrg0E/6C+yVGW8t44Y+6McGEtXzl1beLnWzc+RWZR9lLJHaS7Ilvnrpx0779+vyrQtGG1rqUYt1aV5Hroh79e8b4F+UikA/aJSAChUkzIND+25d/iZUF8R+iHvaf1FlqKM89YRY3+UA2PpyrlrCy/Xuvk5MmvSqd58w3HVxfjKO86vb6WPRqtMX3/Chydeljfhah6Tx9MNBl2h31QKQL8Y/ILZVj5DrWWDhVxy60eq68rVuz5X3wLMOv1Flqr0GeqIsT90hpavnLu28HKtm58jsyYBaS7ECUzNRpwP27531+CVR362+lv12nefMfjAl17fGpA2W5buzf1fffSF9bOw3nSiob9UCkD/uG7DbCtjPWvZYJxsnVT6irZRgn4o7+tMjIdJlT5DHTH2h87Q8pVz1xZernXL6/jT91wzOPnCH1ftzEt3D754/f8Ztn++9/8OW5ZegfW0+9Hbhx3sLMXL/Nh19y+q4DN/sw46+m8Hx3/+P7WGpKWlArX8rX36GX+7usCgK/SXSgHoH9dtmG3ls1DbONC0W/leME76iLmmWB0M+uOJ3z5ava/P2vb2+hZYXOkz1BFjf+gMLV85d22dzLVueR0vPeLCYSC648f/sk9YWkLUtMNO//7wcdnUv9z+t5ffPbz/1u/8fJ+A9Q/P/lt91LAyqVQpy3ha4m8+PfzYrweHnfjF6u/Wy478xGDjRf+lNSgtLffJffM41p9BV+gnlQLQPyoFYPat5bhT+V7QJmM5p137puq6ktVIgH547MkHq/f1J288vr4FFlf6DHXE2B86Q8tXzl1bJ3Ot23J/jg8+9rthIHrTzseHYekXvvnAPgHrf/jw/xp+r/d++o7h7Z/ces/wMVf908P7BKzQ5jt3XeEiTLWP6dGnXlH93UqF6Qlf+A+tQWnaSw//dHW/X+55qn406ynv3zSgX1QKQP+oFIDZV8Z6muM/q9XK94I2P3jghuqacsF3P1TfAvTBjx6+pXpvZ5UhmFTpM9QRY3/oDC1fOXdtncy1bmv5c7z3oaeGgei3b3tsGJZe+PX79glYm6/vxPN2DW//zD/cO3zMN255ZPhceV76LbPbU7GSi7CZiCQwPeLkLdXfrj95x0db9zDNMr35evY6pRvy/k0D+kOlAPSTSgGYfWWspzm+slqtfC9ok2tJrik7H9xe3wL0QSlque7OS+tbYHGlz1BHjP2hM7R85dy1dTLXunX95/jTB54chqIJSEtYmuC0hKipWG0eU7k9LUFseUwC2vJcqYxldnzpts3VBfgrP/xUfQtdkvByrWVp3TdsvKT6+/Xad59R7VHaDEv/4pQTqq+lCpVuyHs4kx6A/lApAP2kUgBmXxnraY6VrFYr3wtGZTJdridZ1j2T7ID+yMpCeX/nMyFMqvQZ6oixP3SGlq+cu7ZO5lq3Pv4cSyCaliV+S1iapX9LiJo9V8s5yFLBzYA1SwmXx2SJ4fJcjz6x9oEQz3eu7YXWPbvu/kW1h+h67Ql630NPDF599IXV37CEoyUoff9lfz5cgveiK26t7816+t0zv6nex5bzg35RKQD9pFIAZl8Z62mO/6xWK98LRpUwJds2AP3yme0nVe/vB57YXd8Ciyt9hjpi7A+doeUr566tk7nWzc9xMPjDs/+2T8C69Ts/H4alf3v53cMQ9W0f++HwvB12+vf3CVjL/dNu2/2r4XM98aSZcytVBmIzaEM3ZA/Qv/7st6u/HanuXE+33/nz4d+xjRf9l6rC9M83/dfhbfk666/sfWY5P+gPlQLQXyoFYPaVz0PN8Z/VauV7QZPtGqC/8v4u26VlcjxMqvQZ6oixP3SGlq+cu7ZO5lo3P8fl+c3vnt0nYG2Gpad9/ifDEPWIM28bnuv8u9ye+zQf03yuPDfPKcv7GYjtjq9ev2tYzZn2sYtvrL+yfk4551vVa3n1sX8zOOT404avLa/z6We8n7ogMw3zXrZUJ/SHSgHoL5UCMPvKZ6Lm+M9qtfK9oGn3o7dX1xKrC0H/3PP4rur9bUI8S1X6DHXE2B86Q8tXzl1bJ3Otm5/j2kmVaQlEU33aDEtLiJqWqtXy80k1a7n9zEt3D++f6tdmwJrq2L5JOJqQNBff7JvE+sqSu9n/s/zNKO2mH6z/DNFUur7yyM/u99o2nX1tfQ/WW+lIZ/9hYPapFID+UikA/VA+EzXHf1arle8FTfnsl2vJtp9eXt8C9EXe13l/mzjLUpU+Qx0x9ofO0PKVc9fWyVzr5ufYbdkntQSiO378L8OwNPuqNgPW7LtafqbZj7Xcnn1ay2Oyf2szYO267JGUC29mtrN+nnzq6cEnLr15+LfiFW/95ODwj5wy/P98fT3l+2df0lLtmtf3x2//RPXvLd/YWd+L9XbLz67TkYYeUSkA/aVSAPqhfF5rjv+sVivfC4rmxJvHnnywvhXoi7JlWj4XwlKUPkMdMfaHztDylXPX1slc6+bn2D8PPva7YSD67dseG4alF379vn0C1ubvwXs/fcfw9s/8w73Dx3zjlkeGz/XTB56sv8PqU7HSDdfc9JPBIcd+fvh34o1n/LfB2TvePHjvxSdU//+uM66s77n2Uk3aDEnTDv3gmYO/uf5tg5cdcU71/w8/9uv63qy3hKR5P998z9fqW4BZplIA+kulAPRD+YzU/Ny/Wi3f50/fc001WTtjEJn0zXzb+eD26lqy+Ybj6luAvsjKI3l/Z0JExm9hKUr/pI4Y+6McGEtXzl1bJ3Otm58jce9DTw1D0QSkJSxNcFpC1BPP27XP707+v3wtQWx5TD4clefK8y5HApVceFWVro/7HnqiCkLL34fXvufjgw//wzsH5//zYVX7z6edXt2esHIt3XXf44NLrrptcMTJW4avLe3Pjv/o4LRrjqle28n/87jqtjdsvKR+FF1w8Y7Tq/e0WYcw+1QKQL+pFIB+KJ+Vmp/hV6vl+7z0iAursYAEptlOKC3/vmnn49WWRMwXE+ugv8pkiAu++6H6Fphc6Z/UEWN/lANj6cq561KDpUqlaQlFs8RvCUvzgaiEqKlYLR+gslRwuT0tSwmXx+QDVHmu+3/xa3uVrpOnn3l2cN6WHcP9P1Oh+a4LThyc88M3DoPS/LtUbh524herUDWPSXC6Y+f9g9vv/Hn1PCuRitA8T4LRPHe+R8LP5t+stFSSJhwtry3trX93cvW1j118Y/1sdEFmFOc9/cRvH61vAWaVSgHoL5UC0B/lM1Mz1FytVr5XU6pLE57+7eV3D44487Zqu6BMxhaezgcrhUF/lcnwVg5jOUqfoY4Y+6OtM8RkyrnrUoPV9odn/20YiKZt/c7Ph2FpPkCVEPUtH/1e9YHrA1/8VP1I1kKCzuaSu//xw2dUS+42g8i0VHA2/3Ys1hJyJuycpLU9vtmyH2mWAj7xixsHn/r+4fu9trRXHbu5uu9NP/ChrCsy2FoGXoHZp1IA+kulAPRH+Qw1GmyuRivfayHZLiirWJXwNBOrs0LVjh//y+A3v1vZZFu6JQFpriX2tof+efL3vxquMpR/w1KVPkMdMfbHJJ0hgKUqS3/94IEb6ltYTaniPP6jVw8vVgkbm0vujmt/dd3RVXCa/Uvfed6mKsRMpecfv/0Tw+daSXv9+8+qAts89/u+8L7hMrsLtY/fvGH4+Cefsk9OV5QPy3lvA7NPpQD0l0oB6I/yuagt3Jx2K99rKbJlT1aoOvPS3YPDTv/+MDy9bfevqonWzK6yrdJXfmgCPPTNLT+7rnp/p88Iy1H6DHXE2B/L6QwBLCTL7uaim2V4Lf21urJUbpa5bS65+/ZzPrjPkrsrbX9z/duqkLPZSria5X1Hv5bWVs06aUvFaY4lVap0R/mwfPWuz9W3ALNKpQD0l0oB6JcyZtcWbk67le+1EiU8Pe3zP6m28DnxvF3V1j0JT5ktl9z6kepaYgI89M9ntp9Uvb+zGgksR+kz1BFjf0yjMwTQZDb72smyu+XveCpCz/rOW1oDyFlqf3b8R6vjyf6pdEf5sGwPYph9KgWgv1QKQL+Uz3pt4ea0W/le0/TTB56stu5JeJrvkS17soVPtvSh28oqJE/89tH6FqAP8p7Oe9ve9qxE6TPUEWN/rEZnCJhfpVolHWsX3bWx6exrq7/jWfK2LXycpXby/zyuOpZUyv5yz1P1EdIFPixDf6gUgP5SKQD9UsbsRoPN1Wjle62mhKQJSxOa5nsmRE2YmlCV7ijjOptvOK6+BeiLrBaW97eJs6xE6TPUEWN/rEVnCJgfX7ptc3XRtVTn2kmoWJbhzRK2bSHkLLQsHVyqSj9x6c310dEFluyEfjH5AfpJpQD0TxmzGw02V6OV77WWsjxvlunNcr1ZtreEp1nOl/WTCTe5nmR8B+iP9A+zZVre3xnngeUqfYY6YuyP9egMAf2Ui27ZI8kA7Nra8o2d1d/yP377Jwaf+v7hrWFkl1tecypjcwyqSrvHkp3QHyoFoL9UCkD/lDG7tWzr5Q/P/tswPH3vp+8YHHb69wdnXrq72gNVeLq2rrvz0up68p27rqhvAfqgjO1c8N0P1bfA8pQ+Qx0x9sd6d4aA/shyfrnoZvkv1tbTzzw7OOLkLdXf8w0f/3BrINnV9vGbNwwrSl999IWD2+/8eX1UdIUlO6E/VApAP6kUgH4qY3Zr2briN797drDjx/8yuPDr9w3D07+9/O7BN255ZPDgY7+r78VqKJ//dj96e30L0AdZLSzv7R89fEt9CyxP6TPUEWN/dK0zBMyui3ecXl10b/nZdfUtrKWEjOVv+t9c/7bWYLJLLcvuvvfiE6pq2LzmN2y8ZHDXfY/XR0OXWLIT+kOlAPSTSgGg7xKe3rTz8cFn/uHewTvP/t+DI868rQpPv33bY4NHn3i6vhfTUCbfPPn7X9W3ALMuAWne17ZXYhrK+HMdMfZHOTCAlUgnOhddHer19def/Xb1Nz2Vmm0BZRfaaEiadtiJXxw8/Niv66OgS+xXCv2iUgD6SaUAMG+eePIPVXj6ya33DN72sR9WLf8Wnq7M7575TXU9yYRZoD8+eePx1Xs7E+xgpcp4bh0x9kc5MICVSDVpLrqpLmX9ZK/PLGWbv+sJJNvCyvVoCUg3bXn34PCPnLJPSJpq0mtu+kn96umiUqli/zPoB5UC0D8qBQAGVUCaoLSEp6k+TRVqAtUEq0zmsScfrK4ptleC/ihjtvksmK0bYKXKuG4dMfZHOTCAlUhHOhdeexquvy3f2Fn9XX/FWz85OHvHm4eB5V9dd/Tg0A+eOfiPHz5j8M7zNg3edcGJg9OuOaa6vRlsrrQlGM3zJhzN98n3K9ea0oSks8N+pdAfKgWgn1QKAOwv+5pmf9Ms1Zsle0t4mn1Qs6Qv7e55fFd1TTERHvqhua+9cR2mpYzv1hFjf5QDA1iu7GOYi+6Hvv4X1UAs6++Ik7dUf9tTyVlCzASX5W9+W3vZEedUYWppb/27k6vHLNY2fPzDw8fkOdqeOy1L7Z63Zcdg192/qF8lXZfKs7yv01ShwexTKQD9o1IAYDIlPD3z0t2Dw07//uC9n75jcOHX76vC0z88+2/1vUiYkuuKlYWgH66789LqPZ3JdTAtZay3jhj7oxwYwHJt++nl1YX3S7dtrm9hvd113+PDC1eqPBOWvv79Z1X/v+nsawcXXXHr4F1nXFm1Vx752eF9p9UOOfbz1XN/7OIbB1+9fpf9SGdUWYI31aXA7FMpAP2iUgBg+e596KnBVf/0cBWe/ocP/6/BieftGnzhmw8Mbtv9q7kOT8tnwKt3fa6+BZhVZQJ83tP5LAjTUsZ/64ixP8qBASxXWfor+yXRHQkq8/f9z47/aLUcb/l7Py64TMXn7Xf+fLBj5/1VmNpsqQgt4eop53xrv6+n5XGqRvulvLd3P3p7fQswy1QKQL+oFACYnp8+8ORg63d+Pjjt8z8ZhqdfvP7/DP753v9b32M+lMnw+S8w26684/zq/WwCPNNWxpjriLE/yoEBLEdmtJdZSpb+6pZf7nmqqvDM3/gskZv/Zq9QmMQDT+yu3tepWAH6QaUA9IdKAYDVlfA0YenJF/548O8/uKP6b/4/t/dZJtXl2mLFAphtZVWh9BezHQtMU8kU64ixP8qBASxHCVTMaO+ma276yfAClvaJS2+uvwILKx+SzSiG/lApAP2hUgBgbaXCNGFpKk5TeZoK1FSi9i08LdeX7IkNzKYUs5y17e3Ve/k7d11R3wrTU8aZ64ixP8qBASxHqVJJh5puOvrUK4YXsSyVC4tpVoyncgXoB5UC0A8qBQDWV/Y0zd6m2eO0hKfZ+zR7oGYv1Flmch3MvjLp4TPbT6pvgekq48x1xNgf5cAAluNLt2028Npxd933ePV3/pVHfnbw9DPP1rfCeJlFnPf1xTtOr28B+kClAMw+lQIA3ZPwdMeP/2Vw4dfvG7z303cMDjv9+1V4+o1bHhk8+Njv6nvNhjIhXlgKs6msAJhJdQ/tube+FaZLWArQYvMNx1UXYRfgbsvyu8d/9Or6/2BhmX2Y9/WPHr6lvgXoA5UCMPtUCgB0329+92wVnn7mH+4dvPPs/z044szbBn97+d0zEZ5mInyuM1mRBJgtmVRXxml95mM1CUsBRvzumd9UF+DTrn1TfQtdlYrSbd+7q/4/GC8TH/K+PuObG6qONtAfKgVgtqkUAJhNTzz5h8FNOx8fhqdv+9gPB5/ces/g27c9Nnj0iafre3VDJszmWiMshdlTtl355I3HG89hVQlLAUbsfvT26iJ8wXc/VN8CzLpLbv1I9b6+7s5L61uAvlApALNLpQBAfyQgTVCawDTBaQlPE6gmWF1PZWJOwhZgdpTtlFLQYk97VpuwFGBE9kkSqkB/lAkQqVh58ve/qm8F+kKlAMwulQIA/VXC0yzVmyV7U32aKtSEp1nSdy3lGpPPg7nmuN7AbMgkh/K+tZ0Sa0FYCjCi7JmUShVg9mUANu/pLNUJ9I9KAZhNKgUA5kv2Nc3+pglPDzv9+4P3fvqOwYVfv6/aB3UtwtPsi53rzj2P76pvAboqW6Sdte3t1Xv26l2fq2+F1SUsBRhx8Y7Tq4txqtGA2VYqzuxVCv2lUgBmj0oBAO596KnBVf/08ODMS3cPw9MvfPOBwW27fzX4w7P/Vt9rehK45Lpj2Xfotnymy9Zoeb9mkoPPeKwVYSnAiLJv0kN77q1vAWZROtQJSfN+TvUK0F8qBWB2qBQAoE3C063f+fngtM//ZPAfPvy/Bieet2sYnk5DmUibCfJAd33pts3VezXjObZSYi0JSwFGlMGbJ377aH0LMIuy7G7ey5bmhP5TKQCzQaUAAJP66QNPDsPTf//BHYOTL/zx4IvX/5/BP9/7f+t7LE3GeHL9ycoGAhjopuvuvHT4Ps1KJLCWhKUAI4SlMPvy4bdUlVreD/pPpQDMBpUCACxXQtKEpQlNE54mRE2YmlB1Upfc+pHqOpRABuiWsp+9cRzWi7AUYISwFGZfqTJL9QrQfyoFoPtUCgAwTVmeN8v0ZrneLNub8DR7oGY533Fy/cm1KJN2rG4A3VEmv6bZRon1IiwFGFGWBjOLCWbTY08+WA3E5n1s72GYHyoFoLtUCgCwmv7w7L9V4emFX79v8N5P3zE47PTvD868dHdreJptWnI9yrYtwPrb/ejtwzEcn+VYT8JSgBGlIu07d11R3wLMiswOzh5oeQ9nqT9gfqgUgG5SKQDAWvvN754d7PjxvwzD0yPOvG3wt5ffPfjGLY8MvvPj565L+oyw/ppB6Vd++Kn6VlgfwlKAET944IbqIi1ogdlTlvjLctq/e+Y39a3AvFApAN2iUgCALnjiyT8Mbtr5+OAz/3Dv4J1n/+/BfzztO4PDN39+8PV//nJ9D2CtCUrpGmEpwIgs25kL9eYbjqtvAWbBPY/vqt67afk3MH9KBZtKAVh/BsAA6KpdD/5kcOzfv39w8tfeWG3jAqwt/US6SFgKMCKDq+WCbaAVZsOTv/9VVU2a9+22n15e3wrMo1Jd6m8BrB8DYAB0Xa5PuU5dvOP0+hZgLegn0lXCUoAWZaBVdRp0XyY1lH1K81+THGC+lb1L8wFcpQCsPQNgAMyCTLjNaiS5Xu18cHt9K7Casl1K3nNpJrfSNcJSgBZX7/pcdeG+5NaP1LcAXZX9hfN+TWVpPvACqBSA9SEoBWCW/OCBG6pr1mnXvslnSVhFmdR+5R3nV++3tO/cdUX9FegOYSlAi3SSM9CTpsMM3ZWZiOXDbfYbBgiVArD2VAoAMIsu+O6HqmuXSXawOn73zG+G77OMs/p8RlcJSwHGSFVpLuTX3XlpfQvQJSUoTUslC0CTSgFYGyoFAJhl6Semv5hr2C0/u66+FZiGbIuSVcDy/spkVpPc6TJhKcAYZc+zXMztgQjd0gxKE4gAtFEpAKtLpQAAfVAm2eVaZs97mI68r8pEhE/eeLwJrHSesBRgAbmY56KeZcWAbhCUApNSKQCrR6UAAH3ypds2V9e0z2w/yYR5WIFMpivvp7T823uKWSAsBVhAZsfnwp6B1id++2h9K7Ae0rludrgFpcAkVArA9KkUAKBvEvCUSUBZXh5YumyRlEl0eR+lr2jchlkiLAVYRNm7NLMLgfWRyQql0jsd7h89fEv9FYDFqRSA6VApAECfZTumTLDLNc4KYzC59Aevu/PSYR8xn7tMVGXWCEsBFtGcXZjlP4G1dc/ju4bVK5tvOE6HG1gylQKwcioFAJgHzVVJ8lkUWFgmGZTJ7WkJTWEWCUsBJpAOcrno6yzD2hidmZgq7wQeAMuhUgCWR6UAAPPm6l2fq655mRxkSyZol20YmiuOZHJ7PnPBrBKWAkwoVaW5+GdGvc4yrK50sNPRznsu4cZ37rqi/grA8qkUgKVRKQDAvLrgux+qrn1ZncQkIXheJtJljKasAJbPVhkztTUDs05YCrAEpbOcwPShPffWtwLTkspR1SvAalIpAItTKQDAvMtn03weLf1G10EYDH708C3Die1pWQHMZyr6QlgKsASZJXXxjtOHnWWBKUzPLT+7brgXmmpSYDWpFIB2KgUA4Hm5/iUMKtfEBEUwj7JCTzMkzb+znz30ibAUYInSWS4z7dNZ1jmAlclSmM0l/hJiCC+A1aRSAPanUgAA2l15x/nD66O975kXGf9MSJoJpuX3P//Oe8BEOvpIWAqwTF/54aeqjkIC03QegKXJoGwJK0qn20xdYK2oFIDnqBQAgMVl5YVyrczn2CxZD32UyevZHqms/JWW8Rpjn/SdsBRgBZp7K2Z5Xp1lWNzooGyquvLB08xEYD2oFGAeqRQAgKXL5LqyVH3+a7IdfZHxzGyN1Fz1Ky3/7/eceSEsBVihDDQ1O8tmWsH+MvCaAdjmzMT8O7dlOUyA9aRSgHmhUgAAVib9xLL/fVomzttGhlmUcZqdD24frrZTWsY2s5petkyCeSIsBZiCdJbTQW52lg20wnPvjW0/vXw4oSAtVaUGZYGuUSlAX+VarFIAAKYr19bm59yES0JTuu6hPfdWE0WbY5il5baM1VhlhHklLAWYotEqU0uZMa8yAzFLW2YfwNLxzuxbg7JAl6kUoC9UCgDA6ssqSVfv+tw+19pcexNIQRfk803GKr902+Z9VhYpLZPnMnap4AOEpQBTlw5Gc4ZWWWpUaErfJVDIB8Xm/mdp+bD4wBO763sBdJ9KAWaRSgEAWB9P/PbR/SYLZ2uH9CltO8NaST8vE+LSH0w4mlW9mv3BtIzX5LNNJtX53YR9CUsBVkkq6JrLnQlN6aN8KExHfLQTnt/3BKf5OsAsUilA16kUAIBuyTU329A0r8sJUHOtzjXbNZlpSjCavl7Cz7ZgtPz+5TNM7mfyJyxMWAqwyoSm9E0+4GWGbGbKNjvhlvYD+kilAF2gUmB6nnzq6cHDj/26/j8AWB25Hret9pDxoevuvHSw+9HbjQuxqHwWKX3ATOTMliFtk+RKy9dzv4TzJnnC0ghLAdbIaGiaYCmDr5YnZRakg55gYHTvszJLNh8EAfpMpQBrSaXA9Dz9zLODm35w7+ATl948OOLkLdU4wV33PV5/FQBWVz5L51qd4LQ5+a60jBMl3MqYkXBrPqXfVwLRfN7I78ro5PTRlt8lwShMl7AUYI2lA5wOTbOTk0GwdJ4NtNIVmeGa39UE+m2DtPkdTodc5Qowj1QKMA0qBVZHwtEdO+8fnLdlx+DoU68YDnqUltAUANZL+onpL46OCzVbgrJMyEtwlvunv2C8aDaVIDTjK/l5lp/9Qj//Zst4TO6bx2YCe57LOAysjvJ5oY4Y+6McGEBXZYAsnaTRQbFUCFg+jfWQgdcM2LZ12kv1SjrnPqQBPEelAIspA2QqBVbX7Xf+fHDRFbcO3nXGlcNBjrZ2yLGfr5bhBYCuKP2EfN5urkY2rmXZ/RK2ZUwp/Yu09DdLvyNN/2F6MgbSPLdpGRsp5z4tE83Lz2WhyW+jLavO5THpI+Z58rvg5wfro3xmqCPG/igHBjALMlMwswZHO00ZTEtHydJqrIb8XmUQNr97bZ35/P7lw5elogEmo1JgvpTBMpUCa2/X3b8YXHLVbYPjP3r1cFCj2f7ozRcMXnn0lwavevfXBq89ftvgwDedV91+zU0/qZ8BALorQVkm0aePkCX5018Ytyz/UlrC2NJXKS2Ts/J9mm00eB1tXZK+U9trbGsZ/xg91oTUo+ek7dwtpzWD7XKeS5/POB90T/ksUUeM/VEODGCWpJOXjlNbxUE6WZmplk6rpf1YqvzOpEOeznlmLGb24rjfMZXNANORv7sqBbpNpcBsyB6jW76xswpHX3nkZ4cDGaUdePj5w3D04BP/cfDvP7hj2HJ77pP9SgFg1pXP9mllwlZawrjSX0mbRriqPddKn67ZEmKXc59WJkGabA6zq3y2qCPG/igHBjCrElYltEr1yWiwVZZELYNuMCoDsZk1mQHecQP0GfAtS+ua1QiwNlQKTE6lwPy676EnBl+9ftdg09nXDl599IXDgYvSEo6+4m2XDV513FWDg0+4YZ9wtNle+5fXDx+TwBUA5ln6oaN9qIwrTdKHara2vtF6tbJ9wSStrO7SbOmXj54TYD6Vzw11xNgf5cAA+iKz01JlMi74SjVqBuvS0VOxMF/yu1EG3vMBoG3fvLR8Lb9DGSi35CNA96gUWPumUqAbHn7s11U4eso536r2FS2f50vLMrqvOOrSwZ8ce+WC4ehoe9mGi6vHf+ziG+vvBAAAsL/y2aOOGPujHBhAHyXoWqxqMC0DfrnPzfd8rRrkE5DNtid++2g1YJuB28yIXOhnn4qX3Cc/e4O7AP2nUkClwCxJOJr9Q//6s98evGHjJcOBidKa4WiqQ9uC0MValuTNcyV8/eWep+rvDAAAsL/yWaSOGPujHBjAPGjuR7lYiJbWHFRM6JrH2qOyO8qAd34+ZZ+0cdWiaakqLj/PPE4oDgB0zdPPPFtVeB524heHAxHN9vKjvjD4k2O/Onjt8dtaw8+ltEM2/dPgj958QfW82esUAABgIeVzSR0x9kc5MIB5luAs+2dl6dUEbqk2bAvbmi3BW+6bxzTD1DSmpxmIluUVF/v55OsX7zi9eozllgGAWdOsIn35W/5+8MfHXjGVcHS0HXTMV6rvccTJW+rvDAAAMF75nFJHjP1RDgyA/WVZ1rIXWqlcnCRILS17peUxJbhLy/OVUDVt3qsby3nIMrg5P9n/bCmBdTm3CbvzPAAAsy7L7uZzeipI20LOabTsaVrGA3bsvL/+zgAAAOOVzxB1xNgf5cAAWJrHnnywCudSUVqC0IR8aWd8c0NruDdJKwFraQlpy/OnjYatzbaWe25mOeK219A8H82WULMc00JL5Y62tkDU8rkAQJ9ln9J8Ts+Su21B5zTaq467ajjQkf1K8z0BAAAWUj5D1BFjf5QDA2D6yh6paaVysiwlW9pp176pNSSch5bq0ZyDZuXt7kdvF4gCAHPt4cd+XX1OP/BN5w0O+cB3W8POabQs7fuyDRcPBzyOPvWKwa67f1G/CpZr+/btg02bNg0OPvjgYTv00EMHmzdvHtx/vypeAABmV/nsUEeM/VEODIBuKHt0joaspV1y60f2CVubLVWYbaHkarRUh7a9hiyj23y9ac39XJ/47aP1kQIAME7Zt3Q19iodbakyPfDw84cDHx+7+MbBk089Xb8SJrVt27bBgQcemIGjBdthhx02eOSRR+pHAQDA7CifGfb2a/ulHBgAAADQDWuxb2mzve6k7YOD3vHl4eDHq4++cLDlGzvrV8NiUjX6gpZgdFx70YteNNi6dWv9aAAAmA3l88LePm2/lAMDAAAAumG4b+lb/r413Fyt9tq/vL76nmWs4IiTtwxuv/Pn9auizcaNG/cLQ1M9eu655w5uvfXWwe9///vB1VdfXd3vxS9+8T73S8gKAACzonxO2NuX7ZdyYAAAAEA3lH1L0w7Z9E+tweZqtle9+2uDP3rzBcPXcMo53xr8cs9T9aujGK0ofeELXzi46KKL6q/ub8+ePVWQ2nxMglQAAJgF5fPB3n5sv5QDAwAAALqj7Fv6mo3XtQaaq90S0h50zFeGAyJZmveSq24bPP3Ms/UrnG/bt2/fJ/RM1egdd9xRf3VhZ5555j6PS/UpAAB0XflssLcf2y/lwAAAAIDu+MSlN1ef1xNYtoWZa9UOPuGGwcuP+sJwYOSwE7842LHz/vpVzqeEmwcccMAw8ExLeLoUzQrTpT4WAADWQ/lMsLcP2y/lwAAAAIDuuOkH91af11+24eLWEHOt25++95p9lubddPa11XLB82h0+d1NmzbVX5ncI488Ui3bm5Z/AwBA15XPAskXe6UcGAAAANAdTz719HAwYj32LW1rh3zgu4M/PvaKwYFvOq96Xa888rODi664da6W5k1VaZbOfUEdlKbCdLnL6GZ/03PPNSYDAMBsKJ9PqoCxT8qBAQAAAN1yxMlbqs/s67Vv6bh28In/OHjFUZcOB0uyv2oqYedBws0XNKpKr7766vorAADQb6X/n3yxV8qBAQAAAN3SlX1Lx7XXvO+bg5ceceFw0OT4j149uO+hJ+pX308HHnjgMChNhelyq0oBAGDWlH5/FTD2STkwAAAAoFuG+5Ye+bnWsLILLUvz/smxX91nad7ztuyolhHumz179gyD0rTl7FUKAACzqmSKyRd7pRwYAAAA0C3NfUv/7P03toaVXWmvO2n74BVvu2z4eg859vODbd+7qz6SfsiSuy9ohKV33HFH/ZWV27ZtWxW+PvLII/UtAADQLaWvn3yxV8qBAQAAAN1T9i199Xu+3hpSdq1lad5UwpbxhnedceXgrvser49mtl122WX7hKXTkqV8DzjggOo5X/SiF1naFwCATip9/L391n4pBwYAAAB0T9m39N+9/fLWcLKr7U+OvXJw4OHnDwdUchyzvjTvmWeeuSph6bnnVgNOVTvssMPqWweD7du3qzQFAKAzSt9+b7+1X8qBAQAAAN1T9i196REXtoaSXW6vO2n74JVHf2k4qPLqoy8cfPX6XfWRzZ5mqJk2DakiffGLXzx8znyPDRs27PN9EqAKTQEAWG+lX7+3j9ov5cAAAACA7pmlfUvHtdf+5fWDl224eHgcR596xWDX3b+oj3B2bN26dZ8Qc/fu3fVXlm80gB3XXvKSlwz27NlTPwoAANZe6c/v7Z/2SzkwAAAAoJsm2bc0e4V2PUx91XFX7bM0719/9tuDX+55qj7K7ktY+cIXvnAYYG7atKn+yvLk+ZpVpaWlkjRL/ub5s4dpbsv3tZcpAADrqfTj9/ZP+6UcGAAAANBN523ZUX12H7dv6etO2j448E3nVe2Pj71icMgHvtt6vy60Qzb90+Cgd3x5ONCSpXm3fGNnfaTd11wiNwHmSpbHTRhanitt48aN+z3fHXfcUQWmmzdvrm8BAID1Ufrwe/uu/VIODAAAAOim2+/8efXZfdy+pQlRy+f7tD968wWD12y8rvW+XWlZmvflb/n74Ws+7MQvVsfZdQkzS7Vn2oEHHriswDSPaVapZjnece6///76XwAAsH5K331v/7VfyoEBAAAA3fT0M88OXnnkZ6vP7wefcMN+oWP5bJ8KzTdsvGT4/y8/6guDg0/8x33u37WWpYUT7pbXfMo53+r80rzbtm3bJzDNvy+66KIl7SnarCpN4LqUJXbzfVJpmkrUgw8+uGqpeM2eqgAAsFpKn31vH7ZfyoEBAAAA3fWuM66sPr9n389m2PiyDRdXt3/s4hur+yVYveiKW4fhalq1NO+mf9rncV1qeW15jeX15rVfctVt1bF01e7duwcHHHDAMPBMS6VoQsvsN3r11VdX4WX+nfs2jVaV5r6TSlDbts9paS95yUuq+wAAwLSV/vrefme/lAMDAAAAuisBaD6/v+Jtlw1DxgSnuS37fo5WYz782K8Hm86+djigkerNVHE2Q8qutVTBphq2vOYszbtjZ3eXoE01aHMP03FtNLw87LDDhl9LVemkTj311H2eN4FrqSxtVrqmJaQFAIBpKv30vf3NfikHBgAAAHRX2bf0wMPPr4LF1520fbh8bZbfHSdhY0LH8vk/+4SOLuXbtZb9VptL8x7/0aur8LerUjmaJXGb1aKlHXroofW9nnPHHXfs8/VJq0pzv+bjjjnmmP2W/b3sssv2CU2XUrEKAACLKf3zvX3NfikHBgAAAHTX6L6lB73jy9W/jzh5S32P8fLYLGubCtQyDpDHd3pp3g98t1qa98A3nVe93hz7eVt2dHpp3khwun379mEb1awqTUXoJO6///59QtAEpePk+5fQdilVqwBrpayUsJot3wOA6St/Z/f2NfulHBgAAADQbWXf0n/39suHAxW77v5F/dXFZaneU8751vCxqVJ91bu/1hpWdqX92ftvHLziqEuHr/mQYz8/uOkH99ZHNFtGq0rz/5NIqFoekyA04elCNm3aNLy/6lKga4SlALOr/J3d28/sl3JgAAAAQLeNDjAn+FyOLOmbitTyPC/bcPHgtX95fWtY2ZX2mvd9c/DSI56vjE1wfN9DT9RHNBsOOuigYYiZCtNJ3HrrrcPHlJbANIHo6DK8RZbjLfe1dynQNeVa9ifHfrX17/1KWp4zzy0sBVgdpS++t5/ZL+XAAAAAgG4r+5amZVnaVIquRPY6bS7Nm4rV1520vXUAugstS/P+ybFXDpfmTcvSvE8+9XR9RN213KrSDRs2DB9zwAEHDF7ykpcM/z9L8yYMbdu7tNxHWAp0jbAUYHaVPvjefma/lAMDAAAAuq25b2mCzmlI4Pqxi28cDnxkad4Ekm2D0F1prztp++AVb7ts+JqzNO81N/2kPqLu2rp1axV2JgCdxO9///t99irN43PbueeeO3jxi188vD3/zm35WmRP0/K13D4q99u4cWO1vG9aAtW2/VUBVoOwFGB2lf733n5mv5QDAwAAALovy89mCd0Ep9OUvU+PPvWK4QDIy4783OC1x29rHYzuSsvry+ssrzmv/677Hq+PaPZlb9IXNALREoZG/p2Qsxmm5j6pKs0yveW2tv1NE6CWrzdbHr958+b6XgCrQ1gKMLtKv3tv37FfyoEBAAAA3ZcB4B079w/ApuWr1++qKjXLeEEqOF/X4aV506qleQ8/f/iaUyk7C0vzLqYZlqYCtE2W4M3+pc2AdLHHJBAtVaXNfVRLy21tISvANAhLAWZX6W/v7TP2SzkwAAAAoPvWIgTM9/jEpTcPB0OyR2gCyewZ2jY43YX2upO2V3uultecvVgT/M6yScLS4pFHHqmW1i33T7vooovqry4sgWsqUrMnanlsKlYn3VcVYCmEpQCzq/S19/YX+6UcGAAAAEBTlrTNsr9l7OClR1w4eM37vtk6QN2V9tq/vH7wsg0XD19zlizOEsOzKAHoC+rwcnQZ3nESsGZP1FSbLlWev7nf6YEHHlh/ZWH5XqlG3bZtW30LwHjCUoDZVfrYe/uK/VIODAAAAKDNtu/dte/SvEddOviz99/YOlDdlfaqd39tn6V5//qz3x78cs9T9RHNjma1aPYaXW0JTBPMlu+5devW+ivtEug2lwBWjQosRlgKMLtK33pvv69fyoEBAAAAjPP0M88OztuyY/DKIz9bjSNkad4/PvaKTi/Ne8imfxocdMxXhoM6WZr3kqtuq49oNoyGkWeeeWb9ldXTrC7N8ryjbr31+RAiVaXlvpNWogLzTVgKMLtKv3pv369fyoEBAAAALOa+h54YHP/Rq4cDJX/05gsGf/rea1oHrbvSDj7hhsHL3/L3w9d82IlfHOzYeX99RN2XwLIZmGb/0u3bt9dfnUwqPhNsJghN4Joq1SzZ2+bQQw8dfq/RsDSPy+0JRsu/S7v66qvrewGMJywFmF2lP72379cv5cAAAAAAJpWw8Q0bLxkOmLz8qC8MDj7xH1sHr7vSEuom3C2vedPZ187M0rwJOw844IB9wsn8fwLQhJQJT8ftadqsFB1tCUabS+0290lNGw1Um0Fqs6kqBSYlLAWYXaUfvbf/1y/lwAAAAACWIkvzZkC6LM2blmVvs/xt2yB2F1peW5YPLq83rz3HkGPpuj179lTh6Ite9KL9wsq0tv1FU0XavE8em8rUZqVqWoLXbdu27bOsbu43Kq8hzzn6+IMOOsh+pcBEhKUAs6v0off2//qlHBgAAADAcqQ6M1WaZYwh1Zuvfs/XWweyu9JSBfuKoy4dvuZUyc7K0rwJLC+66KLBYYcdNgwtX/KSl+xXWZr7NUPNVJg275O9RxeqOl1oWd1877bH5PnGLe8LEMJSgNlV+s57+339Ug4MAAAAYCUSNmY/0DLWkH1CX/uX17cOaHelvWbjdfsszZv9WLMvax+k0vQFdYjZFqYWCTdHw8+FltVNBWrzvm1L8y51T1VgfghLAWZX6TPv7e/1SzkwAAAAgGm45KrbBq8++sLhYMpB7/hyt5fm/cB3qwH2A990XvV6szTveVt2zMTSvAs599xqIKtqqfhcSJbQLfdNW6iqNEFquV9C1sjjm6GpJXmBcYSlALOr9O/39vf6pRwYAAAAwLRkad5TzvnWcEDlwMPPH7zquKtaB7e70v7s/TfuszTvIcd+frDte3fVRzR7Eni+oA4vE2QupFlZ2rZXadF8zrTRUDQVpW17pwIUwlKA2VX6yXv7gf1SDgwAAABg2nbd/YvBESdvGQ6svGzDxd1fmvd93xy87MjPDV/zu864ciaX5s2yuy9+8YuHwWYqTduMVpUuVBXarCrduHFjfSvA5ISlALOr9I/39gX7pRwYAAAAwGrZ8o2d+yzN+8qjvzR43UnbWwe7u9CeW5r3yuHSvGmfuPTmwZNPPV0f0WwY3V80YeeZZ55Z3Z7wdMOGDfsEqmVZ3TaXXXbZ8H4vfOELB4888kj9lcVlX9RUneZ7lu8PzCdhKcDsKv3ivf3BfikHBgAAALCaEjR+7OIbh4MsWZo3gWTbgHdX2utO2l4Fu+U1Z2ner16/qz6i2XDrrbcODjjggGHQuVAbV1U6WqW6adOm+iuL27x5cxWuNr9P2ote9KIqrN29e3d9T2AeCEsBZlfpE+/ty/VLOTAAAACAtZCleY8+9YrhYEuWvM3St20D311prz1+2z5L8+b15zhmxZ49e6q9RI855pjBS17ykmpf0vw7e5m+oA4vF6oqTUVoud+kVaWpJj3ooIOGjxvX8nypWgXmg7AUYHaVvvDePly/lAMDAAAAWEvX3PSTqlKzjE284m2XdXpp3rRXHXdVVRFbXnMqZX+556n6iGZLqkUTnL6gDizHBaDLqSrNY5rVrHn+VJgmQI1UsJ566qnDr6clzAX6T1gKMLtKH3hv361fyoEBAAAArLUszZu9QMv4RPYIzWB39gxtGwjvQnvdSdsHB73jy8PXnL1YsyfrrGkGmgsFoMvZqzTPVx6T5XbHLe+bJYLz9dwvgWxeE9BvwlKA2VX6v3v7bv1SDgwAAABgvdz30BODd51x5XAA5qVHXNj9pXn/8vrBy9/y98PXfMTJWwa33/nz+ohmx/bt26tlesdpLqU7SVXp1VdfPbx/Wv5/Ic0lfvNvoN+EpQCzq/R79/bb+qUcGAAAAMB6u+kH9+67NO9Rlw4OPvEfWwfFu9Je9e6vDf7ozRcMX/Mp53xrZpfmbfOCRvCZStDFHHjggfs8Jkv9LhSYZmnect/sowr0m7AUYHaV/u7eflu/lAMDACb36z88NnjoNz8e/Oz/fn/w/Ue2Dv7XI5cPvnbvX1Xt/H8+bPDTJ26s7wkAwFI9/cyzg/O27Bi88sjPVmMWWZr3j4+9otNL8x6y6Z8GBx3zleEAUpbmveSq26pjmXUvaASfi4Wlo1WlzZYQddu2bfU9nycshfkiLAWYXaWvu7ff1i/lwACA5yUITbv9sauqMPS6+zdXQegXfvLOKgxdqP33Hx0x+Nf/90z9TAAALNfDj/16cPxHrx4OyqR680/fe03rAHlX2sEn3DB4+VFfGL7mw0784mDHzvvrI5pNzUrRgw8+eMElexN2lvsedthh1V6l+W+5rTxHlv4tEqCWrwlLof+EpQCzq/Rx9/bb+qUcGADMi1IVevee71VB6HcfvqQKQr96zymt4edS2z8+eH79nQAAmIaEjW/YeMlwcCZhZELJtoHyrrSEus2leTedfW0V/s6ihJkvfOELh4Fm/p3Ac+vWrfU9nvfiF794eL/m0rupSM1jytfS2sLUM888s34E0FfCUubF7t27q+taWnOSEGvD+V8dpW+7t9/WL+XAAKAvVlIVOo32wJM761cCAMC0ZDnbLGtbluZNy7K3Wf62bcC8Cy2vLcsHZxnhvN689gzgz+LSvBlwHN2LtG0f0ubXf//739e3Pi+DlaPP02xZkncpEthedNFFrd8L6CZh6cIyiSR/K9fy79p6fM95kJCuXN+snLD2nP/VUfrhe89rv5QDA4BZ8vjv7luVqtCVtgSyAACsnl/ueaqq0izjGanefNW7v9Y6aN6VdvCJ/zh4xVGXDl9zqmRv+sG99RHNloSTGXDctGlTfcvzMsj+gnpQMm0hCVoPOOCAfe6fytOleOSRR4YVr0t9LLB+uh6WXnbZZdXflNISuKw0RMxzNJ8zkzzaNMOd3G8tTON75vwceuih1ePz34WWa58nwrr15fyvjtKf3Xte+6UcGADMmix32xZYrmdLeAsAwOq7/c6fV/uBlnGNl7/l7wev/cvrWwfPu9Jes/G6wUuPuHD4mrMf630PPVEfUT+86EUvGg5MJsxcTEKJl7zkJdXjlrpEXgLb8r3awlugm7oclib0ay47XtqGDRvqeyzdqaeeut/zpbVJ2Fi+nr+La2Ea3zOrApTnSFvqKgF9JaxbX87/6ij92L3ntV/KgQHALOpaYPrIb++uXxkAAGshS/O++ujnA8iD3vHlwetO2t46iN6FdsgHvlsN5peledPO27Jj8ORTT9dHNNvWKsBsVpWmpeI1g6LZ/zQD/wk2zj333IkCW2BtdTksHQ39mi1L1S5VwtcyiWQ0hG3TDHfy92wtTON7CkvbCevWl/O/Okr/de957ZdyYAAwq66576zW4HKt2+V3nVC/IgAA1lKW5v3rz357OHhz4OHnD1513FWtA+ldaX/2/hsHr3jbZcPXfMixnx9s+95d9RHNroSTL37xi6uByQQDqRxdDRs3bhwOgC7UElIkSAW6Y5bC0mbV5XImgGS53fL4BJHl32njZI/o5QSzK7HS7yksbSesW1/O/+oofde957VfyoEBwKz61//3TCcC09sfu6p+RQAArIddd/9icMTJW4aDOC/bcPHgtcdvax1Q70p7zfu+OXjZkZ8bvuajT71icNd9j9dHNJua4UBaBiinuX9dBvSbz5+WgDYBagZGU1VaAtu0hLZrHTwA481SWJoJH+XfmXyx1L1LDzzwwOHjt23bNvx3Wp8IS9sJ69aX8786Sp9173ntl3JgADDLuhCY/voPj9WvBgCA9fTV63ftszTvK4/+0gwszXtlVRFbXvMnLr15ppfmHQ1ME1hmoPLqq69ecXDarM464IADWvc6TYVrvlbud+ihh9ZfAdbbLIWl+f/m35KlVKo3J3akQnX0uftEWNpOWLe+nP/VUfqqe89rv5QDA4BZ9/S/PjXYevcHWoPM1W5fu/ev6lcBAEAXJGj82MU3Dgd0EkQmkEww2TbA3oX2upO2V8Fuec0JfBP8zqos69hcwnK0ZRBzqUarShO+jpNQo9wvYS3QDbMWlm7evHn4//mbNqmEM+Vx+Xs0SViaiR75fvn7mL+hbcp90pqTT3J7vk++byrs8/Vbb138PEzyPRcz7bA0j08lbl5TJsjkePLv3Lac586kmuxjnaWU8zPMc+VcLTZ5J5XEzdeRx5ZVDHL7YnK/ck5WEtbldabKOc+X11COYZKfb5HzlmvmqaeeWj0+/81zLmXlhZWej7bf3TxnXkd5vnxtXAX3Un+O+Xrb+c+5yPdc6nuF55R+6t7z2i/lwACgD9YrMP0fP33P4Ef/cv3gt8+ubJY8AADTlSVts7RtGf/IkrdZ+rZtkL0r7bV/eX21hHB5zXn9WWJ4VmUAMgOSWcLyBfWgZdpCQec4zarSgw46qL613WiwmsHRVLymyjSDrGkZJF3q68ggbgZWl/P6gdkLSxPwNG+bJFDMYzJJI/fPsuD5uzH63G3GhTtNzfsk8MlzJ/gqt422hFkLmeR7LqbtvC1HjiVBWPO5RlvOa/6WTyI/h1wr2p4nLdelhG+j8jpyXppLure1LLO8UMg2jXObYx29fjZbji+vd5xJzml+RxZ7jmmfj/zu5vekuVR1aaMrRiz359h2/nO/8t4cbYu9V3hO6Z/uPWf9Ug4MAPoigWnCy7ZQcy3adfdvHty953vV0sAAAHTDNTf9ZHDIsZ8fDvC84m2XDf7s/Te2DrZ3pb3quKv2WZr3rz/77cEv9zxVH9FsygBoBn4zSLpUCSdf0BjUXKwaJlUuzfsv1JYyQJqAdTmPA54za2FpNCdqJJhcTAKZcv8EVTH63G0mCdea9ykTQMr/j2v5uzXOJN9zMePO21IkhG4LxF7ykpe0hls57oUCvlxvFgoZm230mpTzMHqfhHqZZDP6WvL/CfParPTc5nU1v1d5DWnNYxt3vnOdbC4j3XyOnNfR28cdx2qcj/zujgtAm2HpSn6Oze+X93Dz+j2uLfRe4TmlX7r3fPVLOTAA6JPsH7qegWnaxT8+avCPD54/eOg3P65fFQAA6ylL8563ZcdwkOfAN51XDax3eWneQzb90+Cgd3x5+JqzNO+Wb+ysj2i+ZGD2BfVgZgY9F9M2uJuqmAScGUBthh9pk+5r2hwYzkAvsDSzGJY2J2uUStGFNAOqUok6+txtJgnXmvcpIVL+LuX28roSko2GqOMqYif5nosZd96Wovk3PseV4KsZuqViMX+/m99nXHCd89AMA/PvTKAp5yfPm0C7VErmHDSVc5frRNvysrmtWWU5yc9qqec2r7X58x1dzSBfzznKeRu3DG3znOaYRu83GqaWYH/UapyP5s8nP8eEomm5T/n9WenPsfn9SlvJe4XnlD7p3nPVL+XAAKBvuhCYlvaFn7xz8N2HLxn86umH6lcHAMB6ue+hJwbvOuPK4WDPS4+4cPCajde1Drx3pWVp3pe/5e+Hr/mwE784uP3On9dH1H9LrSrNAGoz1EylSNtjRqt2FnveaFaMTboUJPC8WQxLE6w0w6CFluFOmFPul8q7YvS52zTDnUkCp7QEas1KvGL0NY8LFif5nosZd94mNRpGLxRWNV9v/s63VTE2/04nDGy7TyQ8TAA7ev7y/4tdD0Zfc5uVnNt8//LYSSYIjWq+voSB4zSvl+PO52qcj9JGq0GbVvpznPZ7heeUvujec9Uv5cAAoI8STqbCsy3AXK92+V0nDO54/Fr7mwIArLObfnDvvkvzHnXp4OAT/7F1AL4r7dXv+frgj958wfA1bzr72plfmncSS60qbe7PlkqUUkHSJmFGue+4qppRGZhdaF82YLxZDEsjAUq5faHwqVm1vnXr1vrW1QlLE24t9LeoGTaNe80rCfSKlYSl+fvc/Buf17yY0arEpjxfc7LMJM+3XOV7pLVdZ1ZybicNO8dphn+LBZ3Nit3syb1c5TnSFjsfaQuFktP4OU77vcJzSh9077nql3JgANBXj//uvs4FpqVdc99Zg58+cWO1zyoAAGvv6WeerQbVX3nkZ6vxkSzN+8fHXlEtf9s2EN+FVi3Ne8xXhoNVee2XXHVbdSx9lOrNFzQGOxcbhG9WyaRlwHkhzQBkuUEBMLlZDUtT7dj8WluVW24rX09Y1QyMRp+7zSTh2lICuFTRlfsmkGyzkkCvWOi8LaZ5XlP51xayjUqgVx7TrN6N5jFP+nzL1Qwk2455Jee2eU5zTWtb/nac5mMTLC+meZ1NcLpcSzkf+X1c6GczjZ/jtN8rPKf0P/eeq34pBwYAfdblwDTtv//oiMH1/+fTg5/93+/XrxgAgLX08GO/Hhz/0auHA0Cp3vzT917TOhjflZYq2Jcf9YXha37DxksGO3ZOPkA9CzI42hx8naTys1lVOsmAZ5boLfcfV+WS15FB10mW6QUWNqthaWSf4vK1/E0Y1QxnRv9ejT53m0nCnaUEQM0gclxotpTnG2ex87aQ5rLFk+4D3Qy2co1oagapWbp1NTUrXNuOeaXntrnyQQLT/E6NW4q2afSc5nwt1JrnbCVVldM8H9P4OU77vcJzSr9z77nql3JgANB3Dzy5swol28LKLrXsb7r9oc9VAS8AAGsrYWP2Ay3jJdkn9OATbmgdlO9KS6jbXJo3oW/C3z7IEpYvqAcvM1C82CBxBjuXUlWa5XSb928umdnUXJ4vg6/A8s1yWNrc53g0pBud3JG/R02jz91mknBnKQFQ83t2NSxtVjVm8sokmsFWWrPqsHk8o1WnS5Xnzc88AWKeq/nzHW1tx7zSc5trXoLC5vdJy3lKyDlO85wutS10ztbyfEzj57iU7zfJe4XnlP7m3nPVL+XAAGAezEpgWlr2N/3+I1sHv/7DY/URAACw2rKcbZa1LUvzpmXZ204vzfuB71bLB2cZ4bzevPbztuyY+aV5S0VnluBbaG+zorlX4CRVpc0QNIO+zQH3IoFqc0B4Nfe/g3kwy2Fp/kY0J1g0l0Zt7jHZFu6MPnebScKdaQdAS3m+cRY7bwtpLoU+6RKwo9+vOZFmGscTqWzMtaf5fRZqbcc8jdeS37lUlDZ/70pL1ehoKB/N77vUluNus9bnYxrnbinP0fydEpYurPSN956rfikHBgDzIkvdtgWTXW9fveeUwY/+5Xr7mwIArJFf7nlqcMo53xoOCh14+PmDV737a60D9F1pWZr3FUddOnzNhxz7+cFNP7i3PqJ+yxK5L6gHOtNuvXXhsCQD0M0QdNwSv81lfccFqsDkZjksjQR65euZoFEkIC23t1W1jz53m0nCnWkHQNMIpSY5b+M0J61MWlna/HufAK+puXzrNCoS0xJK5nlHl69tXkPajnka57bIxJ2cq/wcy3Om5fhHv3fznDZ/R5drPc7HtH+O03iv8JzSx9x7rvqlHBgAzJOfPnFjayA5Ky37m96953v10QAAsJpuv/Pn+y3N+9q/vL51oL4r7TXv++bgpUdcOHzN7zrjysF9Dz1RH1E/NatKJxkcbg7EjlviN7c1q3nGVZUmQM2yhxnMBhY262FpJmKUr5e/Hc1lYcdNqhh97jaThDvTDoCW8nzjTHLexlmsIrdN8zGj+5w2l29fzl6X+XmWx6dl2dlxmsFl2zFP49y2yTE2qzxHQ+bmnqWTrLKwkPU6Hyv9Oca03ys8p/Qt956rfikHBgDzZiWB6dfu/atqb9G2r61lu/jHRw3+8cHzBw/95sf1UQEAsFq2fGPn4NVHPx9A/ru3Xz543UnbWwfsu9CyNG+Cg7I0b1qW5n3yqafrI+qPVLS8oB7kTEvV0UJGQ9BxS/w2q0oz4DyuqrRU8WTwerGKVph3sx6WRv4elPvk/d/8WzHu78noc7eZJNyZdgA0jUBv0vPWplklmr/Lk0w6aZ7v0aCweT2Y9PmalhLerldYGs1ANAF9UzO8z3VpJSsirNf5WOnPMab9XuE5pU+591z1SzkwAJhHtz92VWsIuVj77bPPddKypG+qPLuwD+r/+Ol7Bv/rkcsHv3r6oeq1AQAwfVma968/++3hQFG1NO9xV7UO2nelve6k7YNXvO2y4WvO0rzX3PST+oj64dBDDx0Ock5SVTrJ0rqjgWrbspqRxzaXHlwsqIV514ewtLnMaYKVZpXfuMeMPnebScKdaQdA0wj0Jj1vbRKCNf+GjqvgL/I3d6G/zXm+5tcXe75RzfOx2B6qzdfddszTOLcLKc+d4x21lHO6kPU6Hyv9OcZSvt8k7xWeU/qTe89Vv5QDA4B59f1HtraGj+PaNfedVT/yedlHNJWq+VrbY9a6bb37A9X+piXUBQBgunbd/YvB0adeMRwwetmRnxu89vhtrYP3XWl5fXmd5TXn9d913+P1Ec22BJSpeMnA6lKrSscNwDaX9V1oGcM8vtwvj8n3zzKFGVROKJuB/OVUxEBf9SEsHf07Ulombowz+txtJgl3ph0ALeX5xpn0vI3T/Du6UIV+gtJUkpb7jvvb3JwQk+Me93pSgZklXrMse5G/3+Wx45Z/zd/05iSdtLbvsZJzm8rKhc5jsyK37Tw0z2lCzPzOLsd6no+V/Bxj2u8VnlP6kXvPVb+UAwOAeZaKzLbQsa0lFF1IAso7Hr92cPldJ7Q+fq1bAty85n/9f8/UrxAAgGn56vW79lma95VHf6nTS/Om/cmxV1YVseU1f+ziG3u5NO84k1SVNgeh08ZVlY4LTEZb7pM9TZciA7t5bP7b9hphVvUhLI3mhIrSxv2tiNHnbjNJuDPtAGglgV4xemz5O5vnXag1J5GMVujnb2aCrxKa5m9tzm32J21+n0n/NieAzd/gPF++liCyeS3I6ymaS9imZeJL829wlr9tLsNcWtvvSp63fH2p5zbhY44h3z+vqSmvPz/P8tzjln5uvs5yDkafK687t5dzOxqqruf5WMnPMZby/SZ5r/Cc0n/ce676pRwYAMy77P3ZFjY2W5bbXUromCVxv/vwJZ3Y3zSvPcf4wJM761cHAMA0JGj8xKU3DwePskdoAsnsGdo2mN+F9rqTtld7rpbXnMA3e7L2XULQ5sDruACzGYIstEdbc5C22fKYtsHjxZYwLJp7taXl+0Bf9CUsbe4ZmTZu8kUx+txtJgl3ph0ALTXAajN6bJO0VCw25e9eMzBdqCU0G338qPx9b/69X6jlZ9mU8LH59TxPWb2g3JZKxmaVa9vvykrO7WilZtpoWFxuG/d7l2teXufoYxZqo2FprOf5WMnPcdrvFZ5T+o57z1W/lAMDABYPTLM/6XI99JsfV89/8Y+Pan3utWwJbxPiPv67++pXBwDASmVJ29GleV/zvm+2Duh3pb32L68fvGzDxcPXfMTJW6olhvtqkqV1R6tK8/9tRite8txbt27db9C6OVibtlDlWTEawkzyGJgVXQ5L875uvvfaAp+mZrg3rrqvGA0U26Sasnx9XLgzyX2KSQKgpTzfQpqVjpO0/L0clWrTvIa2+5eWcHC0OnKcxcLCXAdGA7bI3/FMUhkX0iUUzGtt/n1v+11ZybnNMSaQLI9va3nOtnCzKcey2DlNy3lq+5nEep+P5f4cp/1e4Tmlz7j3XPVLOTAA4DnX3b+5NWBMm0ZVZipT797zvQW/z1q2LBd8+2NXDX79h8fqVwgAwEps+95dg0OO/fxwMOkVR106+LP339g6sN+V9qp3f22fpXlPOedbg1/ueao+on4YDSrGBZDNyp0EoOM0q0ozsDqusieaA9ULPWdTBq1z38UCGJg1XQ5LI0t8psoxbTH5u1Luu9DfgKLcd9yenAmcyn3awqaY5D5N5b7jJn4s9fnGaT7PJG0h5bkSdiWAy3/z/7l9ORI85m9qnist+3lOErgmiGw+Lv9unqN8faHjmca5zetMdWV5DWm5fi31+cprzbE3nyvHNGn4vN7nY6k/x6V+v3Lfce8VnlP6inv7NP1SDgwAeE7CzOzzORoqphpz2rK/6Y/+5frB1rs/sN/3W4/2tXv/qtrf9Ol/7dfAGADAWsvSvOdt2TEcUHpuad6vdnpp3kM2/dPgoHd8efiaszTvJVfdVh9RP2RwNcs3jqsqzQD0C+pQM23cgGlub1bYLFb52awUVbHCvOt6WArAeKWfuLdP0y/lwACA57UFplm2djWlsvP7j2wd/I+fvmef77teLUsOpwIWAIDlu++hJwbHf/Tq4cDSH735gsFrNl7XOsjflXbwCTcMXv6Wvx++5sNO/OJgx87lVcR0Uaq/Uv3SprnPaJYVHGeS5XybUgmzlPtDnwlLAWZX6R/u7dP0SzkwAGBfCUybFZ+P/Pbu+iurL99r+0Of68T+pnkNeS1refwAAH1z0w/u3W9p3oNP/MfWwf6utFe/5+tVuFte86azr+3d0rxNzarSVI2OC1RTVVrul7ZYVWk0l+xdbGnffG9L79JnwlKA2VX6hXv7NP1SDgwA2F+Wo01gmn0910uqO1Pl+d9/dERrmLmWLVWvqX791dMP1a8OAIBJPf3Ms9UA/iuP/OxwoOmPj72iWv62bdC/Cy2vLa+xvN689hxDjqVvmnuVJrQcZ6lVpalkzdK/5THjwtWEs82lfbNvGvSRsBRgdpU+4d6+Sr+UAwMA2iUw7cJytHkd2U80+4q2BZlr3RIiZ7/V7LsKAMDkHn7s11WVZhmTSfXmn773mtaB/660VMG+/KgvDF/zGzZe0quleWP37t2Dgw8+uAo2x1WVJsB8QR1mpk0SaJ57bjWgWLUXv/jFVXja5phjjhnez1K99JmwFGB2lb7g3v5Kv5QDAwBmR/Y3vf2xq6qK17Ygc63bdfdvrgLlLF0MAMBkEjZmP9AyNpN9QrNfaFsA0JWW/VabS/NmP9bsyzovmnuaLrScbpFgNAFpeUyC0zbLWdoXZpWwFGB2lT7g3v5Kv5QDAwBm0+O/u2/w3YcvGXzhJ+9sDTLXsmV/03988PzBA0/urF8dAAALyXK2l1x12+DVR184HHw66B1f7vbSvB/4brU074FvOq96vVma97wtOwZPPvV0fVT91NzTNC0B52ImrSpd6tK+i8mep6lUHVchC+tJWAowu0p/dW+fpV/KgQEAsy8hZcLKLuxvmvA2Ia79TQEAFvfLPU8NTjnnW8MBqAMPP3/wqnd/rTUM6Er7s/ffOHjFUZcOX/Mhx35+sO17d9VH1D/NPU1Xs6r01ltXFvI0ny9LCo8LaGG9CEsBZlfp9+3tZ/RLOTAAoD+yHG72N73mvrNag8y1blku+I7Hr7W/KQDAIm6/8+eDI07eMhyIetmGiwev/cvrW0OBrrTXvO+bg5cd+bnha37XGVcO7rrv8fqI+mPr1q3D8HOSqtJNmzYNQ8tJq0onCWHb3H//8/vHTuP5YDUJSwFmV+nv7e1n9Es5MACgnxJQ/uhfrh9svfsDrUHmWrev3ftXVZD79L8+Vb9CAABGbfnGzn2W5v13b7988LqTtreGA11oWZr3T469crg0b9onLr25d0vzJvCcJCjN8rcvfOELh6HluKrS5SztOypL7uaxCWe3b9++4ueD1SYsBZhdpZ+3t5/RL+XAAID+y5K4/+uRywf/46fvaQ0y17JlqeDr/8+nBz/7v9+vXx0AAE1ZmvdjF984HJTK0rwJJNsCgq601520ffDKo780fM1Zmver1++qj2h+NKtKDzjggLFVpdmftNxvuVWgzaV+m01VKV0lLAWYXaWPt7ev0S/lwACA+fLQb3482P7Q5wYX//io1jBzLVv2N81refx399WvDgCAYtfdvxgcfeoVw8GpLHn72uO3tQYFXWl5fc2lefP6cxzzYLSqNNWjbaZRVRqpJm3up1raxo0b7VdKJwlLAWZX6dvt7Wv0SzkwAGB+3b3ne1WVZ1uQudYtVa/ff2Tr4Nd/eKx+dQAARCo0U6lZxnJe8bbLOr00b9qrjruqqogtrzmVsqmY7bOElC+oA8tUjo7TrCrNY1bqJS95yfD5SkvV6bglgGG9CEsBZlfp0+3tZ/RLOTAAgOwjmv1Nv3rPKa1B5lq3vI68HvubAgA8J3uAZi/QMp6TPUKzNG/2DG0LDrrQXnfS9mrP1fKasxdr9mTtq+YSvOOqSi+77LLhfVKFmmrUlWhWqeb5RoPT/P/9999f3xvWl7AUYHaV/tze/kW/lAMDAGhKZeftj101uPyuE1qDzLVuqXxNBey//r9n6lcIADC/7rrv8cG7zrhyOGD10iMuHLzmfd9sDQ+60l77l9cPXv6Wvx++5iNO3jK4/c6f10fUL1lSd1xFZ5bGbe4zmnB1pZpVquX5Esg2Q9OVBrIwLcJSgNlV+nF7+xb9Ug4MAGCc7CWaPUWzt2hbkLmWLXus/uOD51d7rgIAzLtt37tr36V5j7p08Gfvv7E1ROhKe9W7v7bP0rynnPOt3i/N25QQ9QV1gLkaVaXN50swe9FFFw22bt1a3wLrT1gKMLtK/21vv6NfyoEBAEziZ//3+1WV53//0RGtYeZatuxv+r8euXzwq6cfql8dAMD8ydK8523ZMXjlkZ+txniyNO8fH3tFp5fmPWTTPw0OOuYrwwG3LM17yVW3DZ5+5tn6qPpp2lWleb4DDjhgas8Ha0FYCjC7St9tb7+jX8qBAQAsRZbD/ekTNw6uue+s1iBzrdvWuz8wuOPxawe/fXZP/QoBAObLfQ89MTj+o1cPB7H+6M0XDF6z8brWQKEr7eATbthnad7DTvziYMfO/u6tmarPEm4mNE3YuRLNKtUXvehFy6pS3b59e9XsacpaEZYCzK7SZ0u+2CvlwAAAlisBZYLKruxvmgA3Qa79TQGAeXTTD+4dvGHjJcPBrJcf9YXBwSf+Y2uw0JX2p++9pgp3y2tO6PvwY7+uj6hfEpBmP9Ft27bVtyzPaJXquD1S22zevLlasrc8trTscZple1ca4sJChKUAs6v01fb2G/qlHBgAwDRkSdzvPnxJtURuW5C5li1LBWd/0wee3Fm/OgCA+ZDlbBMWlKV506qleTf9U2vA0IWW15bXWF5vXnuOoe9L8y5Xs6p00irV3bt3Dw466KDh48a1VL/eequwidUhLAWYXaWftre/0C/lwAAApu2h3/y4Cisv/vFRrWHmWrYv/OSdg+0PfW7w+O/uq18dAED/pTpz09nXDge2Ur356vd8vTVk6EpLFewrjrp0+JoPOfbzVbUsz9uzZ8+Sq0qzRG/zMWkHHnhgtc/pmWeeOdiwYUO1lG/z66mAhWkTlgLMrtI/29tP6JdyYAAAqyXL4d6953uD6+7f3BpkrnXLcsG3P3bV4Nd/eKx+hQAA/ZZ9QLMfaBkHyj6h2S+0LWzoSst+qy894sLha87SvNmXlX2rSrN07iRVpYcddtjwMWlZindUnueYY47Z53533HFH/VWYDmEp/P/bu7sgq+ozX/xzeS7P5bnM5bk0r8eZZJJMcqr+M1OVKqucIaZ8SXQcTYyOevw7xsLR0skUqTHMUWIIJEKiGLFkQCQ4IIqtCIrgQKAV6H832JJmmiY0jc2LvMXf32e51k7TLpCX7tVrr/35VD2le/cGfwv2tnftbz/PA+2reF/24XuEZikuDACgCrHfdOv+lenp3rtKg8yqa0nfPdl+02OnDucnBABornmLN6QvXf3HAPLSb/+63qN5b1+ThR+XXP5w68wPP7E2jR4+ll9RZ4oxuX+Sh5nRFfpJokO0eHzUwoUL86+U+8EPftB6bISsMJGEpQDtq3g/9uF7hGYpLgwAoGrR2bl+cGEt9ptGrXx3ZtYBCwDQZL8fOZzu+rf/aH3YdcnfzEpfvH5xafBQl/qLf1idPn/VL1tnjtG8K17dkV9RZ3nnnXdaQWbUJ+0WjW7RseN1Y9zuJ4lf89/+239r/RrdpUwkYSlA+yrei334/qBZigsDAJhKg0d6sp2iddhvGmeIs8SZAACaakvPf6VpdzzR+tDrs1fMTV/5/srSAKIu9eXvPZc++805rTNf/YOn0o5d+/Ir6gzjw9JPGsH7zDPPtB4bAWjsOz0XEaoWv87uUiaSsBSgfRXvwT58f9AsxYUBANTFzoPrsy7Pn26dVhpmVlnR9RrdrweODeSnAwBolid+s+m00bxfuPrx9LVbu0qDiDrUR6N5F2UdscWZ/3X+yx0zmjfCzrFdn2W7R8cau6v0u9/9bn7vJzuXsHTFihXpL//yL7NAFs6VsBSgfRXvvT58f9AsxYUBANRN7BGNfaKxV7QsyKy6Fvbcnu1bjb2rAABNEkHjD+eubn0AFkFkBJJlYURd6mu3dmXBbnHmCHyfXrklv6Jm+7//N/uQslWXXnpptrt0+/bt+SM+Mj5YPZ9xul/96ldbv+5MYekll1zSekycCc6FsBSgfRXvuz783t8sxYUBANRZ7DfdvG9ZWrDj5tIgs+pa/s6MbL/pqQ9O5CcEAGh/MZo3RtsWnxfFyNsYfVsWStSlvnLTimyEcHHmGC0c19F0P/vZz04LQqOi03Os8SN7z9Xg4OBpv3fZXtSx432j7DXlXAlLAdpX8X7rw+/9zVJcGABAu4iRuGv2zEuPvn1taZBZZcWo4Bd2z0r9o5vy0wEAtL9nX3o7ff26n7c+EPv8Vb+s9WjeqC9ev/i00bz/9JPn0+9HDudX1EwRhsZo3egC/cEPfpDf+0djw9L/8T/+R37vJ4vRvsWv+9SnPpXfe7qxXaUxshfOlbAUoH0V77M+/P7fLMWFAQC0owgpI6ysw37TCG8jxLXfFABoghjNG7tAi8+OLrn84SyIiJ2hZSFFHeprt3alS7/969aZYzTvvMUb8ivqPGPD0ugUjbG8nyQeE8Fq8etivO940dU69veNTlQ4V8JSgPZVvMf68D1AsxQXBgDQzmIcbozFjfG4ZUFm1RXjgmNscIwPBgBoZ7sGhtPf3buo9eHYZ6bNrv9o3u+vTJ/71i9aZ77slsfSxrd+l19RZxkbfJ5p9+hY3/nOd1qPjxq/B/X9998/7fe87bbb8q+cWYSp0a0qVCUISwHaV/He6sP3AM1SXBgAQFMcOTmStu5fmRb23F4aZFZdS/ruSduGV6djp5o9Bg4AaLYVr+44fTTvlfPTV295oTSwqEt98e+XpE//7SOtM9/2o2WNH8073viRumfbLRphavHYqLKu0v/7f7MPSLM6167SIoCNx8euUzqbsBSgfRXvqT78vt4sxYUBADRRjMR9bXBB+tW2G0qDzCorRgWvfHdm2nlwfX46AID2cuzEyfTwE2vTF775k+zzpBjN+6fXPVXr0bxfv+2VdOl3nmx9uBdnj9G8cS2dIDpBL7300tMCzghF4/5C/HvsPi0eExV7UMcb31VaFqaOF+Hs2N9XWIqwFKB9Fe+nPvye3izFhQEANN3gkZ7UNTAnze2+sjTMrLJiv2mcJc4EANBuYjTvTf/8TOsDs+je/PMbny0NL+pSX715VfrclY+2zvxX352X1m56J7+iZos9pJdccslpoWVUBKJjg9SiogO1rGN0bFdphKZjA9czueyyy1q/Js4AwlKA9lW8j/rw+3qzFBcGANBJYr9pdHmWBZlVV3S9rh9caL8pANB2ImyM0LH4fCnCyLqP5o1Qd+xo3gh99wy9l19Rs8VI3ugs/ZM8vCyrGJkb4ep4EYz+9//+31uPi+D0k4zvKu3q6sq/crrXX39dx2kHEZYCtK/i/dOH39ebpbgwAIBOFHtEY79p7BUtCzKrrqd778rOY78pANAuYpxtBBPFaN6oGHsb42/Lwow6VIwNjvHBMUY4zhtnj/HCnTCaN4LQCE2jq3RscPqXf/mXacWKFfmjPu5nP/tZ67Hn2lU6tms1OkzPpOh6jcfTfMJSgPZVvNf78Pt2sxQXBgDQ6aKzc+PQ4rRgx82lQWbVtfydGVkH7KkPTuQnBACor9+PHE63/WhZ60O06N780g1LSwONulR0wX7+yvmtM3/9up+nl97oy6+IscaO8T2XXaXRKVo8Piq6TMuMfZwxvZ1BWArQvor3TB9+326W4sIAAPijfUd3ZTtFY7doWZBZZcWO1Rd2z0oDh7rz0wEA1FeM5r3slsdaH6Z97lu/SF/5/srSYKMu9eXvPZc+M21268x/d++ibC8rH3nnnXdagWZU2T7T8caGq+fSVRoV3asRxEbXa9z+n//zf55TMEt7EZYCtK/ivdKH36ebpbgwAADK7Ty4Pgsrf7p1WmmYWWXFftPXBhekA8cG8tMBANTTvMUb0peu/mMAeem3f1370bwRtBSjeaP+df7LafTwsfyKOtf43aOf5Fy7SmPv6djHnWmfaowIPpexv7QHYSlA+yreI334/blZigsDAODsYhzutuHV6dldD5QGmVVXjAvevG9ZOnJyJD8hAEC9xGjef/rJ860P1i75m1npi9cvLg056lJfu7Urff6qX7bOHKN5n33p7fyKOtPrr79+WngZe0/PJELN2GlaPPY73/lO/pXTjX9cUZ/61KeyztLoKi3uixD1bP9Nps6eoffSX313Xuv1cj41mWHp+Vb8YMeOXfvyqwLgTIr/b374/blZigsDAODcRUAZQWVd9ptGgBtBrv2mAEAdben5rzTtjidaH7B99oq56Ss3rSgNO+pSMZr3s9+c0zrz1T94KruOTjQ+2IyO0DMZ2y0aIeeZRvaO7yqNgHTFihX5Vz8SY3nja7fddlt+D3V0oYFpXcJSQSnAuSv+3/nh9+dmKS4MAIALEyNxYzRujMgtCzKrrBgVHCODY3QwAEDdPL1yy2mjeb9w9eNZJ2dZ6FGX+rPrFmUdscWZfzh3dUeO5p0xY0Yr2IyKXaJdXV1ZkBo7TSP8LHaNFnWmkHN8+Bq/95lEgBqPp97GBqbxwxB1H7n9+SvnZ2cVlAKcn+L90Iffv5uluDAAAC7ewKHuLKyc231laZhZZT369rWpa2BO2nd0V346AICpF0FjBI7FZ1IRREYgGQFGWbBRh/rarV1ZsFucOQKWJ36zKb+izhCBZewO/ZMxYejZ6mxdpT/4wQ9aj4vQVBjaDO0QmApKAS5O8V7ow+/hzVJcGAAAEyfG4faMvJqWvzOjNMisumJc8Mahxem940P5CQEAplaEFDHatvhsKkbexujbsoCjLvWV76/MQqDizDFauNNG80YX6Nh9okVdeumlWUBa3D5TV2kEqGMfF6N2aY46B6aCUoCLV7wH+vB7eLMUFwYAwOQ4dupw2rp/ZXq6967SILPqWtJ3T3aeOBcAwFR79qW309ev+3nrw7fPX/XL9Bf/sLo07KhLffH6xaeN5r3r3/4j/X6ks95bjYyMZGN4X3/99ez25s2bWwFodIueqas0QtTicZdcckl+L01Sx8BUUAowMYr3Ph9+H2+W4sIAAJh80dm5fnBhLfabRq18d2bWAQsAMJViNO/DT6xtfQB3yeUPpz+77ulaj+aNAOjSb/+6deYIYOYt3pBfUee57LLLWiFo7C8tM76r9Jlnnsm/QtPUKTAVlAJMnOJ9z4ffx5uluDAAAKoVu0Rjp2jsFi0LMqus2LEaZxk80pOfDgCgersGhtPf3buo9UHcZ6bNTl/+7vLSAKQuFaN5P/etX7TOfNktj6W1m97Jr6hzrFixIn3qU5866w7S73znO62gVFdp89UhMBWUAkys4v1OFjA2SXFhAABMnZ0H12ddnj/dOq00zKyyouv1tcEF6cCxgfx0AADVeumNvtNH8145P331lhdKw5C61JduWJo+/bePtM5824+WZWERHxk7pjdKV2lnmMrAVFAKMPGK9zmRLzZKcWEAAEy92CO6bXh1tle0LMisuhb23J7tNz1yciQ/IQBANY6dOJmN5v3CN3+SfXYVo3n/9LqnarH/8EwVZ4szFp+3xdl/9tTr2bV0urFjer/61a/m99IJpiIwFZQCTI7iPU4WMDZJcWEAANRLBJSb9y1LC3bcXBpkVl3L35mR7Tc99cGJ/IQAAJMvgpab/vmZ1odz0b355zc+WxqQ1KWiC/ZzVz7aOnMERdEt26m2b9/eCkqjosuUzlJlYCooBZg8xXubyBcbpbgwAADqK0birtkzrxb7TWNU8Au7Z6X+0U356QAAJl/sAS3ClqgII79686rSsKQuFftWx47mjdA39rJ2mthhetttt2VBaXSY0pmqCEwFpQCTq3hP81HC2CDFhQEA0B4ipIywcm73laVhZpUV4W2EuPabAgBViHG28xZvaI3mjbr0O0/WezTv7Wuy0bwxRjjOG2eP8cKjh4/lV9U53nnnnTQ4OJjfohNNZmAqKAWYfMX7rzxibI7iwgAAaC8xDjfG4sZ43LIgs+qKccExNvi940P5CQEAJsfvRw6n2360rPWBXXRvfvHvl5QGKHWpv/iH1a0gJ+rr1/08rXh1R35F0DkmIzAVlAJUo3gfk0eMzVFcGAAA7Sv2m27dvzIt7Lm9NMisupb03ZO2Da9Ox04dzk8IADDxNr71u3TZLY+1Prj73Ld+kb7y/ZWlYUpd6svfey59Ztrs1pn/7t5Fgh06zkQGpoJSgOoU71/yiLE5igsDAKAZYiTu+sGF6VfbbigNMqus2G+68t2ZaefB9fnpAAAm3hO/2ZSFJMXnXJd++9fpa7d2lQYrdagId/7sukWt0bxR/zr/5Y4czUvnmojAVFAKUK3ifUseMTZHcWEAADTP4JGe1DUwpxb7TeMMcZY4EwDARIvRvP/0k+dbH+Jd8jez0hevX1wasNSlItD9/FW/bJ05RvM+vXJLfkXQfBcTmApKAapXvGfJI8bmKC4MAIBmi/2m0eVZFmRWXdH1Gt2v9psCABNtS89/pat/8FTrw7wIYL5y04rSsKUuFef77DfntM4c54/rgE5wIYGpoBRgahTvVfKIsTmKCwMAoDPEHtHYJxp7RcuCzKrr6d67sn2rsXcVAGCiRIfm2NG8X7j68VqP5o3KRvP+zazWmX84d3XWMQtNdz6BqaAUYOoU71HyiLE5igsDAKDzRGfnxqHFacGOm0uDzKpr+Tszsg7YUx+cyE8IAHDhYgdo7AItPv+KHaERSEbYUhbC1KEi0P1f1yxonTnCoNjJCk13LoGpoBRgahXvT/KIsTmKCwMAoLPtO7or2yn66NvXlgaZVVbsN31h96w0cKg7Px0AwIWLQOW00bzfnJO+/L3nPhbE1Km+8v2VWWBUnPmyWx5LG9/6XX5F0ExnC0wFpQBTr3hfkkeMzVFcGAAAFPpHN2Vh5U+3TisNM6us2G+6Zs+8dODYQH46AIALs+LVHenr1/289UFfBC9/8Q+rTwsp61Zf/Pslp43mvevf/sNoXhqtLDAVlALUQ/F+JI8Ym6O4MAAAGC/G4cZ+02d3PVAaZFZdMS54875l9psCABcsRvM+/MTa1od9H43mfbrWo3kjLLr0O0+2zvyFb/4kzVu8IR07cTK/KmiW8YGpoBSgHor3InnE2BzFhQEAwNlEQLl1/8q0sOf20iCz6ooAN4Jc+00BgAuxa2A43fTPz7Q+9Pv03z6Svvzd5aVhZV3qqzevSp/71i9aZ47RvGs3vZNfETTL2MA0SlAKMPWK/yfnEWNzFBcGAADnKkbivja4IBuRWxZkVlkxKnjluzPTzoPr89MBAJy7l97o+9ho3q/e8kJpWFmX+vMbn83C3eLMEfpGsARNUwSmglKAeijee+QRY3MUFwYAABdi4FB3tt90bveVpWFmlfXo29emroE5ad/RXfnpAAA+WYyz/dlTr2fjbYvPyv70uqey8bdlYWUdKs4WZyzOG2ePazCal6aJwFRQClAPxfuOPGJsjuLCAADgYvWMvJp1eZYFmVVX7DfdOLQ4vXd8KD8dAMDZRSgzfjRvdHGWhZV1qeiCLfY5RkWXbHTLAgBMtOL9Rh4xNkdxYQAAMFGOnTqc7Td9uveu0iCz6opzxHniXAAAnyT2gMY+0OJzs9gTGvtCy8LKulTsWx0/mjf2sgIATJTifUYeMTZHcWEAADAZorNz/eDCrNOzLMisuqLzNTpgAQDOJsbZzlu84bTRvJd+58l6j+a9fU36s+ueTpdc/nDrzA8/sTaNHj6WXxUAwIUr3l/kEWNzFBcGAACTLXaJxk7R2C1aFmRWWbFjNc4SO1cBAM7k9yOH013/9h+tDwcv+ZtZ6Yt/v6Q0rKxL/cU/rP7YaN5nX3o7vyIAgAtTvLfII8bmKC4MAACqtPPg+qzL86dbp5WGmVXWr7bdkF4bXJAOHBvITwcAcLqNb/3uY6N5v/L9laVhZV3qy997Ln32m3NaZ776B0+lHbv25VcEAHB+ivcUecTYHMWFAQDAVIg9otuGV6dndz1QGmRWXQt7bs/2mx45OZKfEADgj574zab0patntz4s/F/XLEhfu7WrNKysQ300mnfRaaN5fzh3tdG8AMB5K95L5BFjcxQXBgAAUy0Cys37ltVmv+nyd2ZkQe6pD07kJwQA+Gg0bwSOxedq2Wje6xeXhpV1qQh0v3D1460zR+D79Mot+RUBAHyy4n1EHjE2R3FhAABQJzESd82eebXYbxqjgl/YPSv1j27KTwcAkNKWnv/KRtsWn6/FyNuv3LSiNKysS8X5xo7mnXbHE9l1AAB8kuL9Qx4xNkdxYQAAUFcDh7qzsHJu95WlYWaVFeFthLj2mwIAhejQ/Pp1P299gPj5q35Z69G8UdEJGx2xxZn/6SfPZx2zAABnUrxvyCPG5iguDAAA6i7G4faMvJqNxy0LMquuGBe8cWhxeu/4UH5CAKBTxQ7Qf53/cutDxNgRGrtCY2doWVhZh4pA99Jv/7p15hjNO2/xhvyKAABOV7xnyCPG5iguDAAA2knsN926f2Va2HN7aZBZdS3puyfbb3rslI4MAOhkO3btS39376LWh4mfmTY7ffl7z5WGlXWpr3x/Zfrct37ROvNltzyWNr71u/yKAAA+UrxXyCPG5iguDAAA2lV0dq4fXJh+te2G0iCzyor9pivfnZl2Hlyfnw4A6EQrXt1x+mjeK+env/iH1aVhZV3qi3+/JH36bx9pnfm2Hy0zmhcAaCneI+QRY3MUFwYAAE0weKQndQ3MqcV+0zhDnCXOBAB0nhjN+/ATa9MXvvmT7PO3GM37p9c9VevRvF+/7ZV06XeebH0YGmeP0bzHTpzMrwoA6FTF+4M8YmyO4sIAAKBpYr9pdHlGt2dZmFllRddrdL/abwoAnWfXwHC66Z+faX3AGN2bX/7u8tKwsi711ZtXpc9d+WjrzH/13Xlp7aZ38isCADpR8b4gjxibo7gwAABoqtgjGvtEY69oWZBZdT3de1e2bzX2rgIAneOlN/qy0LH4PC7CyK/e8kJpWFmX+vMbnz1tNG+EvhH+AgCdp3g/kEeMzVFcGAAAdILo7Nw4tDgt2HFzaZBZdS1/Z0bWAXvqgxP5CQGAJotxtj976vXWaN6obDTvba+UhpV1qDhbnDHGCMd54+wxXthoXgDoLMV7lzxibI7iwgAAoNMcODaQ1uyZlx59+9rSILPKiv2mL+yelQYOdeenAwCabM/Qe+m2Hy1rfegY3ZtfumFpaVhZl4ou2M9fOb915q9f9/O04tUd+RUBAE1XvAfII8bmKC4MAAA6Wf/opiysrMN+0whvI8SNMBcAaLbYA3rZLY+1Pnz83Ld+ke0LLQsr61Kxb/Uz02a3zvx39y4ymhcAOkDxvT+PGJujuDAAACBl43Bjv2mMxy0LMquuGBe8ed8y+00BoMFinO28xRvSl67+YwB56bd/Xe/RvLevSX923dOt0bxR/zr/5TR6+Fh+VQBA0xTf8/OIsTmKCwMAAE4XAeXW/SvTwp7bS4PMquvZXQ9kQe6xU4fzEwIATfL7kcPprn/7j9YHkZf8zaz0xb9fUhpW1qX+4h9Wp89f9cvWmWM077MvvZ1fEQDQJMX3+zxibI7iwgAAgDOLkbivDS5Iv9p2Q2mQWWXFqOCV785MOw+uz08HADTJxrd+l6bd8UTrA8nPXjE3feX7K0vDyrrUl7/3XPrsN+e0znz1D55KW3r+K78iAKAJiu/zecTYHMWFAQAA52bgUHfqGpiT5nZfWRpmVlmx3zTOsu/orvx0AEBTPPGbTaeN5v1f1yxIX7u1qzSsrEN9NJp3UdYRW5z5h3NXG80LAA1RfH/PI8bmKC4MAAA4fz0jr2ZdnmVBZtUV+03XDy5M7x0fyk8HALS7GM0bgWPxGV4EkRFIloWVdakIdL9w9eOtM0fgG8EvANDeiu/tecTYHMWFAQAAFy72iMZ+06d77yoNMquuOEecx35TAGiGGGkbo22Lz/Ji5O1XblpRGlbWpWJ0cIwQLs4co4VjxDAA0J6K7+l5xNgcxYUBAAATIzo7Nw4tzjo9y4LMqis6X6MDFgBof8++9Hb6+nU/b31Y+fmrflnr0bxRX7x+8Wmjee/6t//IOmYBgPZSfC/PI8bmKC4MAACYeLFLNHaKxm7RsiCzyoodqy/snpXtXAUA2lfsAP3X+S+3PrC85PKH059d93S2M7QsrKxDff22V9Kl3/5168wxmnfe4g3p2ImT+VUBAHVXfB/PI8bmKC4MAACYXDsPrs+6PH+6dVppmFll/WrbDem1wQXpwLGB/HQAQLvZNTCc/u7eRa0PLj8zbXb68veeKw0r61Ixmvdz3/pF68yX3fJYWrvpnfyKAIA6K75/5xFjcxQXBgAAVOPUByfStuHV6dldD5QGmVXXwp7bs/2mR06O5CcEANrJild3nD6a98r56au3vFAaVtalvnTD0vTpv32kdebbfrQs7Rl6L78iAKCOiu/becTYHMWFAQAA1YuAcvO+ZbXZbxoBbgS5EegCAO0jxtk+/MTa9IVv/iT7rC9G8/7pdU/VfzTvd55sffAaZ//ZU68bzQsANVV8z84jxuYoLgwAAJhaMRJ3zZ552YjcsiCzyopRwbHftH90U346AKAdxGjem/75mdaHmdG9+ec3PlsaVtalogv2c1c+2jrzX313Xnrpjb78igCAuii+V+cRY3MUFwYAANTHwKHuLKyc231laZhZZT369rVZiLvv6K78dABA3cUe0Agdi8/+Ioys+2jeCHXHjuaN0DfCXwCgHorv0XnE2BzFhQEAAPUT43B7Rl5Ny9+ZURpkVl0xLnjj0OL03vGh/IQAQF3FONsYa1uM5o2Ksbcx/rYsrKxDxdjgGB8cY4TjvF+6enb6/cjh/IoAgKlUvJ/II8bmKC4MAACot2OnDqet+1emp3vvKg0yq64lffdk+03jXABAfUXYeNuPlrU+4IzuzS/dsLQ0rKxDRWD62SvmZmf91/kv51cBAEy14r1EHjE2R3FhAABA+4jOzvWDC2uz33TluzOzDlgAoL5iNO9ltzzW+qDzc9/6RfrK91eWBpZTWV+8fnF2vq9f9/OsOxYAqIfiPUQeMTZHcWEAAEB7GjzSk7oG5mS7RcvCzCordqzGWeJMAEA9zVu8IRtvW3wueOm3f12b0bxfu7UrffpvZmXnWvHqjvzEAEAdFO8d8oixOYoLAwAA2t/Og+uzLs/o9iwLM6us6HqN7lf7TQGgfmI0713/9h+tDz0v+ZtZWUdnWYBZZf2vaxZk57n6B0/lJwUA6qJ435BHjM1RXBgAANAcsUc09onGXtGyILPqWthze7Zv9cjJkfyEAEAdbOn5rzTtjidaH37GrtCpGs0b/93iHDt27ctPCADURfF9Oo8Ym6O4MAAAoJmis3PzvmVpwY6bS4PMqmv5OzOy/aanPjiRnxAAmGpP/GbTaaN5v3D149lI3LJQc7Iqgtr4b//r/JfzUwEAdVK8T8gjxuYoLgwAAGi+A8cG0po982qz3/SF3bPSwKHu/HQAwFQaPXws/XDu6tYHoTGa98+uW1QabE50ffHvl2T/za9f9/PsHABA/RTvEfKIsTmKCwMAADpL/+imLKysw37TCG8jxI0wFwCYWjGaN3aGFp8bfvabc9KXv/dcacg5ERUdrJ/+20ey/9bTK7fkpwAA6qZ4b5BHjM1RXBgAANCZYhxujMWN8bhlQWbVFeOCY2yw/aYAMLWefentrNOz+Pzw81f9clJG81767V9nv3/sTqUaQ6O7U+++LVm90b8qrdi24LSau3Z6emTNnRdU816/v/X7rNu5vPXfGT6yN/+vA9CuivcEecTYHMWFAQAAREC5df/KtLDn9tIgs+p6dtcDadvw6nTs1OH8hABAlWIk7sNPrG19OHrJ5Q+nP7vu6fT129eUBp/nW1+9eVXr996xa1/+X+ViDIz0ZeHkizueygLLIsS8e9nl6bbF/08tasaq67MzjQ1Uj544lF8BAHVVfM/OI8bmKC4MAABgrBiJ+9rggvSrbTeUBplVVowKXvnuzLTz4Pr8dABAlXYNDKe/u3dR60PSz0ybnb783eWlAej51Oe+9Yvs9/unnzyf/5f4JBEqRri4aXdXFjY++eaPs+Dx3ueuKA0my6oIUKMWbZ7V6gQtavveja2O0POt4lxRz2yZ0/rvPNR1a+lZxtadS7+RPTauKcLe+P0AqI/ifUAeMTZHcWEAAABnMnikJ3UNzElzu68sDTOrrNhvGmfZd3RXfjoAoCovvdF3+mjeK+enr97yQmkQ+kn1pRuWZr/Hl66enX4/YorEWKPvH8iCwggcl781PwsQH1x9U2nAOL7isTFGN37ty71Lst8nxu7WSYzkjXNFIFoEqmcLe+PaI9SNLtTonAVgahTf//OIsTmKCwMAADgXsd80ujzLgsyqK7pe1w8uTO8dH8pPBwBMtmMnTmajeb/wzZ9knyvGaN4/ve6p9PXbXikNRcsqHvvpv30k+/VP/GZT/jt3pggyi27MCA0/aVzuAyuuyR5XdIRu3bMuCx5Pnjqe/47tLa4l9qhGiHq2btT4M4ggObpgm3LtAHVXZIp5xNgcxYUBAACcj9gjGvtNl/TdUxpkVl1P996Vncd+UwCoxp6h99JN//xM64PTCD///MZnS8PR8XXpd57Mfs20O57If7fO0D+8vRUERtgXY2fLgsDosqx7d2iV4s8t/hxiPG/sOy37M4s/z/jzij8rACZH8T0/jxibo7gwAACACxWdnRuHFqcFO24uDTKrruh8jQ7YUx+cyE8IAEyWtZveSX/13XmtD1A/d+Wj6as3ryoNSaPia5++/OHssRvf+l3+uzRPhHZFwHe2DskI/x7fMKMV9MVOUs4uOkmjozQ6S880nrgITyNoBWBiFN/r84ixOYoLAwAAmAixSzR2isZu0bIgs8qKHasv7J6VBg5156cDACZDjOadt3hDazRvVHSPlo3mjTA1vn7Xv/1H/qvbX+zRjH2aZ+t8jIpgLx5TdIsaHzsxImCOccTRsVsWnkanbvy5x7hjf+YAF674Hp9HjM1RXBgAAMBE23lwfRZW/nTrtNIws8qK/aavDS5IB44N5KcDACba70cOp9t+tKz1YWqM5v3i3y9pBaUxpjfuj1A1HtuuIuh8ccdT2ajcM+0Yjc7GCO8iRNXdWK3R9w9kwWjsdY0dr+P/buLvLQLr4SN7818BwLkovr/nEWNzFBcGAAAwWWIc7rbh1enZXQ+UBplV18Ke29PmfcvSkZMj+QkBgIkU43Uvu+Wx1oeqn/vWL9JXblqRhadx+4nfbMofWX9jR76eaZxuBHLRuRjBaHSZUi/xdxLhdtnfX3QCR6jt7w3gkxXf1/OIsTmKCwMAAKhCBJQRVEZgWRZkVl0R4EaQa78pAEy8GM37patntz5cjYoQNcb21ll0jp4tHI37I2CL7sXoYqR9xN/XG/2rsj2xdy79xml/rxF6C04Bzqz4Xp5HjM1RXBgAAEDVYiRujMaNEbllQWaVFaOCY2Rw/2j7dLoAQDuIcbv/9JPnWx+wrt30Tv6V+ogxuSu2LchG544Nz4qKcDTC0+gwtfOyWeLvNLqCx49Tjo7TeE4Mje7OHwlA8b08jxibo7gwAACAqTRwqDsLK+d2X1kaZlZZj759beoamJP2Hd2Vnw4AuFhbev4rPfzE2vzW1IpdlTEyN7oLy3aOPrj6JuFoB9q6Z53gFOAshKUAAAAViHG4PSOvppXvziwNMquuBTtuThuHFqf3jg/lJwQA2lEEnzFiNYKvsUFYVIxfXbR5VhaWHT1xKP8VdLJ4LpSN6o0u4wjaPU+ATiQsBQAAqNixU4fT1v0r09O9d5UGmVXXkr57sv2mcS4AoN4izDrTbsq4Pe/1+7PQS7cgZxOdxbGbdnwXcjyH4r4I4QE6hbAUAABgCkVn5/rBhbXYbxoVna/RAQsA1EcEny/3Lsm6/8aGo1HRUVqM1oULUQSnEbSPfW7d+9wV2XNL8A40nbAUAACgJmKXaOwUjd2iZUFmlRU7VuMsg0d68tMBAFUaGOnLgqqy8bpz107PwtPYUQoTafT9A1ln8vjnXQT10dFs1y3QRMJSAACAGtp5cH3W5fnTrdNKw8wqK7peo/v1wLGB/HQAwGTo3bcl2z8au0bHBlUxJjVGo0b3n52SVCU6SuP5GB2mY5+LsQdXtynQJMJSAACAGos9orFPNPaKlgWZVdfCntuzfatHTo7kJwQALkYEpBE+jQ2kouJ23L91z7r8kTB14nkYHc1jn6NxOwJ8gHYnLAUAAGgTEVBu3rcsLdhxc2mQWXUtf2dGtt/01Acn8hMCAOciRuyO79iLio7SCEgjQIU6itHP8RyNDtPieVvsNo0RvgDtSFgKAADQhmIk7po982qz3/SF3bNS/+im/HQAwHgRMq3YtuBjuyCLDtL+4e35I6H+Yndp7DCNXaZjn88xLnr73o35owDag7AUAACgzUVIGWFlhJZlYWaVFeFthLj2mwLAR2JM6fjxpdGV9+SbPxYq0QgR9Mfz+c6l32g9x6NL+uXeJXbsAm1BWAoAANAQMQ43xuLGeNyyILPqinHBMTbYflMAOs3Q6O6PjSqNICkCpQhPoysPmiaC0QhIIygd/7zXOQ3UmbAUAACggSKg3Lp/ZVrYc3tpkFl1Lem7J20bXp2OnTqcnxAAmqesizTGlMa4Uh12dJLomo6RvGNfCw+uvil7LfhhAaBuhKUAAAANFyNx1w8uTL/adkNpkFll/XTrtLTy3Zlp58H1+ekAoL1FCPrijqdO66aLjtJntszJOkyhk8Wu3uVvzc92845/fcTXAOpAWAoAANBBBo/0pK6BObXZbxpn2Xd0V346AGgfEZKu2LbgtFG7M1Zdn9btXK6LFEpE5/Uja+5svV6iYkTvwEhf/giAqSEsBQAA6FCx3zS6PKPbsyzMrLKi6zW6X987PpSfDgDqKUaIjg9JIwCKsaPAJ4uO6whJx4amXkPAVBKWAgAAdLjYIxr7RGOvaFmQWXU93XtXtm/VflMA6iY648aOE42Ap3fflvyrwPkYff9ANqJ3fHe2vaZA1YSlAAAAtERn58ahxWnBjptLg8yqKzpfowP21Acn8hMCQPUi1Bk7PvTB1TcJSWGCxNjql3uXnLb3N34oIXYBG2kNVEFYCgAAQKnYJbpmz7xst2hZkFllxY7VF3bPSgOHuvPTAUA1IhQtOt/inxHqAJMjurfjhxGK0DRec9F9Gj+wADBZhKUAAAB8ov7RTVlYWZf9pq8NLkgHjg3kpwOAyRGdbUVoE52lutygGvFDCnPXTm+9/u5c+o20aPOsNHxkb/4IgIkjLAUAAOCcxTjc2G/67K4HSoPMqivGBW/etywdOTmSnxAAJsaKbQtaQU38O1C9gZG+9PiGGa3XYtSTb/44DY3uzh8BcPGEpQAAAFyQCCi37l+ZFvbcXhpkVl0R4EaQa78pABerCEqjm2373o35vcBUiY7SCEnHhqbzXr8/9Q9vzx8BcOGEpQAAAFy0GIkbo3FjRG5ZkFllxajgGBm88+D6/HQAcO7W7VwuKIWait2lz2yZk70+i9A0RmTH2F6ACyUsBQAAYEINHOrOwsq53VeWhplV1qNvX5u6BuakfUd35acDgDOLLrUihNm6Z11+L1A3sT94+VvzhabAhBCWAgAAMGl6Rl5NK9+dWRpkVl2x33Tj0OL03vGh/HQA8EcnTx1PD66+KQtdIoQB6k+nKTARhKUAAABMumOnDmf7TZ/uvas0yKy6lvTdk50nzgUA4eXeJVnQ8sCKa7LgFGgfQlPgYghLAQAAqFR0dq4fXJh1epYFmVVXdL5GBywAne3e567IAhbjd6F9CU2BCyEsBQAAYMrELtHYKRq7RcuCzCordqzGWQaP9OSnA6BTxK7SCFWiqxRof2Wh6bzX708DI335IwD+SFgKAABALew8uD7r8vzp1mmlYWaV9attN6TXBhekA8cG8tMB0GSxozTClAhXgOYQmgLnQlgKAABArcQe0W3Dq9Ozux4oDTKrroU9t2f7TY+cHMlPCEDTRHgSIcr2vRvze4AmKULTIjCNevLNH6fhI3vzRwCdTFgKAABAbUVAuXnfstrsN13+zoxsv+mpD07kJwSgCR7qujULT3SbQbNFOBoh6djQdNHmWVmYCnQuYSkAAABtIUbirtkzrxb7TWNU8Au7Z6X+0U356QBoZzNWXZ+FJkOju/N7gCYbH5revezy9OKOp9LJU8fzRwCdRFgKAABA2xk41J2FlXO7rywNM6usCG8jxLXfFKB9zV07PQtMevdtye8BOkGEpsUY7qh7n7sibdrdlX8V6BTCUgAAANpWjMONsbgxHrcsyKy6YlxwjA1+7/hQfkIA2kGM4Yyg5OXeJfk9QCfpH96eHllzZys0fXD1TX54AjqIsBQAAIBGiP2mW/evTE/33lUaZFZdS/ruSduGV6djpw7nJwSgrt7oX5UFJBGWAJ1r65516YEV17RC0+g6je5ToNmEpQAAADROdHauH1yYfrXthtIgs8qK/aYr352Zdh5cn58OgLo5euJQunPpN7Iaff9Afi/QqaLLPEbyRmAa/19Y/tb87P8TQDMJSwEAAGi0wSM9qWtgTm32m8ZZ4kwA1Euxt/CZLXPye4BOFuFo/P+g6DKN8HTdzuX5V4EmEZYCAADQMaK7M7o8o9uzLMyssqLrNbpf7TcFqIeBkb5WF5mxm0BhaHS3fabQcMJSAAAAOk7sEY19orFXtCzIrLpiz2rsW7XfFGBqPb5hRhaGPNR1a34PwEfK9pka2w3NICwFAACgo0Vn58ahxWnBjptLg8yqa/k7M1LPyKvp1Acn8hMCUJUYu1mEISu2LcjvBfjIyVPH04s7nkp3L7s8+/9EdKLHbaC9CUsBAAAgd+DYQFqzZ162W7QsyKyyYsfqC7tnpYFD3fnpAKhC//D2LACJIGTT7q78XoA/io7SohM9asaq643mhTYmLAUAAIAS/aObsrCyLvtNXxtckIW5AEy+N/pXtbrGtu/dmN8LcLr4/0MEpUVo+uSbPzaaF9qQsBQAAADOIsbhxn7TGI9bFmRWXTEuePO+ZenIyZH8hABMhuVvzW8FphGeApQpRvMWHekxotf/M6C9CEsBAADgHEVAuXX/yrSw5/bSILPqenbXA1mQa78pwORYtHlWq2PsmS1z8nsBPm74yN40d+301v8zHllzZxoa3Z1/FagzYSkAAABcgBiJG6NxY0RuWZBZZcWo4BgZvPPg+vx0AEyUl3uXtMKPea/fn46eOJR/BeDjoqv03ueuyP6fEd2m0XUK1JuwFAAAAC7SwKHu1DUwJ83tvrI0zKyyHn372uws+47uyk8HwMXaumddNlozwo8HVlyT+oe3518B+Lj4oYrYX1r8oEXsNdVlCvUlLAUAAIAJ1DPyalr57szSILPqiv2mG4cWp/eOD+WnA+BCxYjNB1ff1Ao/Yqdp7CoEOJPtezee1mVqlynUk7AUAAAAJsGxU4ez/aZP995VGmRWXXGOOE+cC4ALE+Ho2D2m0S3Wu29L/lWAj4v/b4ztMo1/94MWUC/CUgAAAJhk0dkZHZ7R6VkWZFZd0fkaHbAAXJgYwxtBaRF+xC7TgZG+/KsAHxddpdFdWvygRXSrA/UgLAUAAIAKxS7R2Ckau0XLgswqK3asxlli5yoA5yc6w17c8VT6f5/5KPwoOsYEIMCZxN7S4gctYv+x/19APQhLAQAAYIrsPLg+vbB7Vvrp1mmlYWaV9attN6TXBhekA8cG8tMBcC5+8/r/l+5Z9M+twDQ6x2JUrxAEKHP0xKHW/mOBKdSDsBQAAACm2KkPTqRtw6vTs7seKA0yq66FPbdn+02PnBzJTwjAmTz0733pN+sGs8AjxvEWoWlUdJpGJxnAWBGYPrLmToEp1ISwFAAAAGokAsrN+5bVZr/p8ndmZEFuBLoAfNyNMzenvoHD+a2PxmxGSDo2NI0QdfvejfkjAD4a5T137fTs/xExmjduA1NDWAoAAAA1FSNxYzRujMgtCzKrrBgVHCOD+0c35acD4NDRk+my6evzW6eLTrFntszJxvIWoWl0kK3buTzrKgOIgPShrluz/z88vmFGfi9QNWEpAAAAtIGBQ91ZWDm3+8rSMLPKevTta9OaPfPsNwU63obtB9LdP387v1UugtEXdzyVBaVFaHr3ssuzvab9w9vzRwGdKn6wIv6fEP9viB+mAKonLAUAAIA2EuNwe0ZezcbjlgWZVVeMC944tDi9d3woPyFA53hs5btZnasYxVuM3SwqQtQIU+0shM61dc+67P8H9z53hXG8MAWEpQAAANCmjp06nLbuX5me7r2rNMisupb03ZPtN41zAXSCO2Z3p9/2HcxvnbsIRpe/NT8LRsYGpxGkvtG/SlgCHSh2G8f/B17uXZLfA1RFWAoAAAANEJ2d6wcX1ma/6cp3Z6adB8v3+AE0Rewrjb2lFyO6TWNX4djdpvHvT7754+xrQGcYGOnLXv+6S6F6wlIAAABomMEjPalrYE62W7QszKyyYsdqnCXOBNAkfQOH040zN+e3Ll7sNo19hQ913doKTaNiTG90oQ6N7s4fCTRVMaZ70+6u/B6gCsJSAAAAaLDo7owuz+j2LAszq6zoeo3uV/tNgSZY/MqeNHvprvzWxIpgtGxM74Orb8pGdNpvCs0Ur+94rUdnOVAdYSkAAAB0gNgjGvtEY69oWZBZdcWe1di3euTkSH5CgPby4MLe9PyGyf/hj7IxvYJTaKZ4Pcfr++5ll+f3AFUQlgIAAECHic7OzfuWpQU7bi4NMquu5e/MSD0jr6ZTH5zITwhQf1f98M20d/hYfmvyxZjeN/pXpXmv339aaCo4hWaJ0dvxuvZ6huoISwEAAKCDHTg2kNbsmVeb/aYv7J6VBg5156cDqKdDR0+my6avz29V71yCUztOoT09subO7LUcXeVANYSlAAAAQKZ/dFMWVtZlv2mEuBHmAtTN2u796b752/NbU2tscDp+VO+MVdenFdsWpIGRvvzRQN3FvtJ4/cbrGqiGsBQAAAA4TYzDjbG4MR63LMisumJccIwNtt8UqIvZS3elxa/syW/Vx8lTx9Om3V3ZjtPYeTg2OI3Rnos2z9KtBjUXr19hKVRLWAoAAACcUQSUW/evTAt7bi8NMquuZ3c9kLYNr7bfFJhSd8zuTr/tO5jfqq+te9ZlXWr3PnfFacFpdKBGIBNhTHSmAvVRjOGN1y9QDWEpAAAAcE5iJO5rgwuyEbllQWaVFaOCV747M+08OHU7A4HOdPzkH7J9pfHPdtI/vD0tf2t+Npp3bHAa9VDXrfacQk0UYWnvvi35PcBkE5YCAAAA523wSE/qGpiT5nZfWRpmVlmPvn1tdpZ9R3flpwOYPNv6R9MtD7d3iDF8ZG8WjhahzNgqxvVGV1uM9QWqFa/BeC364QWojrAUAAAAuCix3zS6PMuCzKor9ptuHFqc3js+lJ8OYGLFrtLYWdoUMYY39pyWjeuNmvf6/WndzuVZwApMviIs9ZqD6ghLAQAAgAlx7NThbJ/okr57SoPMquvp3ruyfatxLoCJct/87Wlt9/78VvMU43ofXH3Tx4LTGOH7zJY5xoPCJLp72eXZ601nN1RHWAoAAABMuOjsjA7P6PQsCzKrruh8jQ5YgIt11Q/fTHuHj+W3mm30/QPpjf5VWXfpnUu/cVpwGoHO4xtmZF+PxwEXLzq94/UVXd5AdYSlAAAAwKSKXaKxUzR2i5YFmVVW7FiNswwc6s5PB3DuIiSNsLRTbd+7MessjQ7TscFpVHSiRkdqPAa4MAMjfdnr6aGuW/N7gCoISwEAAIDK9I9uSi/snpV+unVaaZhZZf1q2w3ptcEF6cCxgfx0AGf30qZ96V8W9OS3OtvQ6O70cu+SNHft9I8Fp9GFGvfH1+NxwLmJHzaI11B0bQPVEZYCAAAAlTv1wYlsv+mzux4oDTKrroU9t2f7TY+cHMlPCPBxs5fuSotf2ZPfohC7Fc/WdRojRZ9888dp0+4uI3vhLNbtXJ69ZqJLG6iOsBQAAACYUhFQbt63LAssy4LMqisC3AhyI9AFGOvGmZtT38Dh/BZnUuw6je64CErHh6dG9kK5eF3EayRCU6A6wlIAAACgNmIkbozGjRG5ZUFmlRWjgmNkcIwOBjh+8g/pr//xtfwW5yP2ML6446lPHNkbj4NOFh3Y8bqIHzYAqiMsBQAAAGpp4FB3FlbO7b6yNMyssh59+9q0Zs+8tO/orvx0QKf5bd/BdMfs7vwWF+pcRvZGR2p01tl3SqeJ5368DnRdQ7WEpQAAAECtxTjcnpFX08p3Z5YGmVXXgh03p41Di9N7x4fyEwKdYOGLv0uPPtef32KiFCN7o6PugRXXfCw8jfvia/GY4SN7818FzfTImjuz533vvi35PUAVhKUAAABA2zh26nDaun9lerr3rtIgs+pa0ndPtt80zgU0233zt6e13fvzW0yW6CaNrtIz7TuNbtRFm2elTbu70tETh/JfBc0w7/X7s+f51j3r8nuAKghLAQAAgLYUnZ3rBxfWZr9pdL5GByzQTJdNX58OHT2Z36Iqscc09plGiHT3sss/Fp4+uPqmbKRvhEvCU9qdnaUwNYSlAAAAQNuLXaJdA3Oy3aJlYWaVFTtW4yyDR3ry0wHtbvfQ0XTtj/4zv8VUivD0xR1Ppblrp6c7l35DeEqjrNi2IHsexw8IANURlgIAAACNsvPg+qzLM7o9y8LMKiu6XqP71X5TaG/PbxhKDy7szW9RJ/3D27OAqdj1OL7GhqexHxXqLDpK43kbHaZAdYSlAAAAQCPFHtHYJxp7RcuCzKprYc/t2b7VIydH8hMC7SKC0ghMqb/efVta4WlZ5+nYnafCU+omOqfjeRohP1AdYSkAAADQeBFQbt63LC3YcXNpkFl1LX9nRrbf9NQHJ/ITAnV248zNqW/gcH6LdhKdp2cb2zs2PB0+sjf/VTA1Tp463nqeCvOhOsJSAAAAoKMcODaQ1uyZV5v9pi/snpUGDnXnpwPq5tDRk+my6evzW7S7seHp3csu/1h4eu9zV6R5r9+fPSa6VKFqxUjpdTuX5/cAk01YCgAAAHSsCCkjrIzQsizMrLIivI0QN8JcoD7Wdu9P983fnt+iaWLs6cu9S7KANILS8eFp1ENdt2Z7T6P7NB4Pk6nYWxrPO6AawlIAAACg48U43BiLG+Nxy4LMqivGBcfYYPtNYeo9tvLdrOgMMYo3QtEIRyOsGh+cFhU7JR/fMCPbjxodqEamMlHGjuI1GhqqISwFAAAAGCMCyq37V6aFPbeXBplV17O7HkjbhlenY6fsS4SpcMfs7vTbvoP5LTpRhKExljfC0QhJxwenRcVY3xihGkFrMcZXiMqFiOdaPKfiuQRMPmEpAAAAwBm8d3worR9cmH617YbSILPK+unWaWnluzPTzoN2J0KVYl9p7C2FsWIcb3SgRmdpBKRnGuEbFV2C8Zgn3/xxqxN1aHR3/jvBx0VHaTxvojxXYPIJSwEAAADOweCRntQ1MKc2+03jLPuO7spPB0yGvoHD6caZm/NbcHZHTxzKgtB1O5en5W/N/8QQNWrGquuzx8Xji25U4RghukrjORL7dIHJJSwFAAAAOE+x3zS6PKPbsyzMrLJiv2l0v0YXLDCxFr+yJ81e6ocSuHgRgr7Rv6rViXq2cb5FFUFqhGbx67buWZf9PrHTkuaLEc5F2B5/98DkEZYCAAAAXKDYIxr7RJf03VMaZFZdT/fele1btd8UJsaDC3vT8xv8IAKTJ8atRgD6cu+S8wpSo+KxUfHriq7UGA9Mc0TAHn/XsQ9XxzFMHmEpAAAAwASIzs6NQ4uzTs+yILPqis7X6IAFLtxVP3wz7R0+lt+CahVBatGR+viGGVk4GsHZ+OB0fEVHYjw2fk382vg94veKbkXaS+y6jb/T6DTWVQyTQ1gKAAAAMMFil+iaPfOy3aJlQWaVFTtWX9g9Kw0c6s5PB5yL4dHjadp9G/JbUD/RRRoBaHSVFl2pD3Xd+rHgtKyiezUeP37Eb+xdpV4iII2gNP7eIvwGJp6wFAAAAGAS9Y9uysLKOuw3/dW2G9JrgwvSgWMD+emAM1nbvT/dN397fgvaSwRsEX5GCBph6KLNs7Jw9IEV13wsOC2rIkyNXxe/ftPuruz3i25XqhcjeO9c+o3s7yY6TYGJJSwFAAAAqMCpD05k+02f3fVAaZBZdS3suT3bb3rk5Eh+QmCs2Ut3pcWv7MlvQbPEON4IPyMEHRumFh2Mn1QRusbjizG/63YuF6ZOsu17N7YC0+gIBiaOsBQAAACgYhFQRlAZgWVZkFl1RYAbQW4EusBH7pjdnX7bdzC/BZ1lfJga4VyEo9FxOj44LasIXePx48f82rl5ccYGpvHnCkwMYSkAAADAFIqRuDEaN0bklgWZVVaMCo6RwTE6GDrZ8ZN/SJdNX5/9E/i4YsxvhHdjw9Rz6UyNsG9sV+ob/auy38u+1HMTf17Fn+Xyt+bn9wIXQ1gKAAAAUBMDh7qzsHJu95WlYWaV9ejb16Y1e+alfUd35aeDzrGtfzTd8vCW/BZwvorO1Aj2IhCNYDQC0ruXXX5acFpW8bh5r9+f/bpiVyqnGxuYxp+tjl24OMJSAAAAgBrqGXk1rXx3ZmmQWXUt2HFz2ji0OL13fCg/HTRb7CqNnaXA5IgANEbzRiBa7Eu997krTgtNx1d8PR4XXawv9y7p+G7U+PMrRvI+1HWrzly4CMJSAAAAgBo7dupwtt/06d67SoPMqmtJ3z3ZftM4FzTVffO3p7Xd+/NbQJX6h7e3gtQn3/xxFpAWoWBZFSFqMdI3fn2nGBjpa4XMD6y4Jg2N7s6/ApwPYSkAAABAm4jOzvWDC7NOz7Igs+qKztfogIWmmXbfhjQ8aqwl1El0TkY36bqdy1s7Us821rfoQo1RvsNH9ua/S/PEtT24+qbsmuPPo5PCYpgowlIAAACANhS7RLsG5mS7RcuCzCordqzGWQaP9OSng/a1d/hYuuqHb+a3gLor9qMWnahFcDi+IkiMXagxwrdpHZgRJM9dO711rXGNwLkTlgIAAAC0uZ0H12ddnj/dOq00zKyyfrXthqz79cCxgfx00F6e3zCUHlzYm98C2tHJU8dbAWoEpGX7UGNsbYSr0XnalH2fy9+a37q+uG57TOHcCEsBAAAAGuLUByeyfaLP7nqgNMisuhb23J7tWz1yciQ/IdTf7KW70uJX9uS3gKaIDtTYafr4hhkfC09jJ2oEp00YYbt978bWeOIZq67P9poCZycsBQAAAGigCCg371tWm/2my9+Zke03jUAX6uzGmZtT38Dh/BbQVBEivrjjqfRQ162nBacRMEao2s5ij2lxXREEG8sLZycsBQAAAGi4GIm7Zs+8bERuWZBZZcV+0xd2z0r9o5vy00F9HD/5h/TX//hafgvoFBEuxsjeGM1bhKYRNsb97SpGET+zZU7remKnaXTXAh8nLAUAAADoIAOHurOwMkLLsjCzynr07WuzENd+U+rit30H0x2zu/NbQCdat3N5a0xvjLNt58A0bN2zrjWWN/4ZO1qB0wlLAQAAADpQjMONsbgxHrcsyKy6YlxwjA2235Sp9NjKd7MCOtvRE4fSI2vuzALG+Ge7i47S4nqiYj9rXCPwEWEpAAAAQIeLgHLr/pXp6d67SoPMqmtJ3z1p2/DqdOyUvZFU677529Pa7v35LaCTRcAY+z4jXGxKsBg7Wotriu7Z/uHt+VegswlLAQAAAGh57/hQWj+4sBb7TX+6dVpa+e7MtPPg+vx0MLkum74+HTp6Mr8FdLKh0d1ZsBgV+z+bYmCkL81YdX2ry3T5W/Pzr0DnEpYCAAAAUGrwSE/qGphTm/2mcZZ9R3flp4OJ1TdwON04c3N+C+hkvfu2tPaWxsjaponwd9HmWa3A9KGuW7NwGDqVsBQAAACATxTdndHlGd2eZWFmlRVdr9H9Gl2wMFGe3zCUHlzYm98COtHwkb3pmS1zWiHi3LXTG73bc/veja1QODpoY0wvdCJhKQAAAADnLPaIxj7R2CtaFmRWXbFnNfat2m/KxYqgNAJToPNEV2V0kBYhaVSnBIcRBo+9dl2mdCJhKQAAAAAXJDo7Nw4tTgt23FwaZFZd0fnaM/JqOvXBifyEcO5iBG+M4gU6Q3SRRiA6dn9nVASH8bVOo8uUTiYsBQAAAOCiHTg2kNbsmZftFi0LMqus2LH6wu5ZaeBQd346OLtDR0+my6avz28BTRUh6Lqdy7PuybEB6d3LLs/G746+fyB/ZGfSZUqnEpYCAAAAMKH6RzdlYWVd9pu+NrggC3PhTNZ270/3zd+e3wKaJMK+l3uXpAdX33RaQBr1+IYZadPurvyRFHSZ0mmEpQAAAABMihiHG/tNl78zozTIrLoW9tyeNu9blo6cHMlPCB95bOW7WQHt7+Sp42nrnnVZp+j4EbtR816/P73RvyrrouTMdJnSSYSlAAAAAEy6CCi37l+ZBZZlQWbV9eyuB7Ig135Twh2zu9Nv+w7mt4B2MzDSl3WPzl07/bRgNCpG7BYdpBGkcn7Kukz9OdI0wlIAAAAAKhUjcWM0bozILQsyq6wYFRwjg2N0MJ3rr//xtXT85B/yW0DdxW7RCD+j87EI8sZWjNxd/tb81D9svPZEiC7T+PMs/nyjY9efLU0iLAUAAABgygwe6UldA3PS3O4rS8PMKuvRt6/NzrLv6K78dHSCvoHD6caZm/NbQF1FOBeBXdnu0QhMIziNADWCVCZH/B2MHW0cfx+6TGkCYSkAAAAAtdAz8mpa+e7M0iCz6lqw4+a0cWhxeu/4UH46mmrxK3vS7KUCcqib4SN707qdy7MdozH+dWw4GhUjd2MkbIzgpToRjuoypWmEpQAAAADUyrFTh7P9pkv67ikNMquuOEfsN41z0TwPLuxNz28QisNUixAu9mM+s2XOad2LY0O5+NrWPet0M9aALlOaRFgKAAAAQG1FZ2d0eEanZ1mQWXVF52t0wNIcV/3wzbR3+Fh+C6jS0Oju9HLvkqxLdGwwGhXdpNFVGt2l0WVK/egypSmEpQAAAAC0hdglGjtFY7doWZBZZcWO1ThL7FylfQ2PHk/T7tuQ3wKqEJ2hizbPSg+suOa0cDQq9pFG+Na7b0v+aNqBLlPanbAUAAAAgLaz8+D69MLuWemnW6eVhplV1q+23ZDWDy5MB44N5KejXazt3p/um68LCiZbBKRPvvnjdPeyy08LR+P24xtmpDf6V6XR9w/kj6Yd6TKlnQlLAQAAAGhbpz44ke0TfXbXA6VBZtW1sOf2bN/qkZMj+Qmps9lLd6XFr+zJbwET6UwBaYRoK7YtSAMjffkjaRJdprQjYSkAAAAAjRAB5eZ9y2qz33T5OzOy/aYR6FJPtzy8JW3rH81vARfrkwLS2FFK80U4Gn/fsXe2+PvXZUqdCUsBAAAAaJwYifva4IJsRG5ZkFllxajgGBncP7opPx11cPzkH9Jl09dn/wQunICUM4m/+4e6bm09J3SZUlfCUgAAAAAabeBQdxZWzu2+sjTMrLIeffvatGbPPPtNa+C3fQfTHbO781vA+YgRugJSztWLO5467Tmiy5S6EZYCAAAA0BFiHG6MxY3xuGVBZtUV44JjbPB7x4fyE1Kl2FUaO0uBcxMdgW/0rzqtU1BAyrmyy5Q6E5YCAAAA0HGOnTqctu5fmZ7uvas0yKy6lvTdk7YNr87ORTXum789re3en98CzmT4yN70zJY5p3WR3vvcFVnYFV+DcxXh6KLNs1rPowdX3yRkpxaEpQAAAAB0tOjsXD+4sDb7TVe+OzPtPLg+Px2TZdp9G9LwqK4mOJMYtTvv9ftbwVZUdJVGd6mOQC7G9r0bs8A9nlN3Lv1GNqYXppKwFAAAAAByg0d6UtfAnGy3aFmYWWXFGeIscSYm1t7hY+mqH76Z3wLG6t235bSQNMKs6AbUAchEOnriUHp8w4zW8+yRNXem0fcP5F+FaglLAQAAAKBEdHdGl2d0e5aFmVVWdL1G96v9phPj+Q1D6cGFvfktIES3XwRWRXgVY3dj/K4Ai8kUncrFiOf459Y96/KvQHWEpQAAAABwFrFHNPaJxl7RsiCz6oo9q7Fv1X7TCzd76a60+JU9+S3obNExOnft9NNC0hXbFmSdf1CFCORjxHPxHIxOZqOeqZKwFAAAAADOUXR2bt63LC3YcXNpkFl1LX9nRuoZeTWd+uBEfkLOxY0zN6e+AWEznS3C0OVvzc/G7ApJqYPYXVoEpjNWXZ/tzYUqCEsBAAAA4AIcODaQ1uyZV4v9pnO7r0wv7J6VBg5156fjTA4dPZkum74+vwWdadPurnTvc1e0gqkn3/yxcbvUQv/w9iwojedlBPkv9y7JvwKTR1gKAAAAABepf3RTFlZGaFkWZlZZsd/0tcEFWZjLx/2272C6Y7ZQmc4UXaNj95I+uPqmLJyCOokRvBHgF8/TxzfM0PHMpBKWAgAAAMAEiXG4MRY3xuOWBZlVVuw15eMeW/luVtBpYqTpAyuuycKnGLm7bufy/CtQT9v3bsyeq/GcjW7T2K8Lk0FYCgAAAACT4MjJkSywXNhze2mYOZn1063T0rFTdnKWuW/+9rS2e39+CzpDjN0tdpNGN+nwkb35V6De4rkaz9l47sZzOJ7LMNGEpQAAAAAwyWIk7vrBhdmI3LJwc6IrOlspF/tKY28pdIpntszJgqaoGGcaI06hncRzdtHmWa3ncfy75zETSVgKAAAAABUaPNKTugbmTOp+0xgFzMf1DRxON87cnN+C5iv2PkZHnrG7tLt4Dhcd0g913ZpG3z+QfwUujrAUAAAAAKZIhJor351ZGnheaEUIG7tT+bjnNwylBxf25reg2cYGpbH7EZpg7O7d+GfchoslLAUAAACAKRb7RbcNr05L+u4pDUDPp6JrlXIRlEZgCk0nKKXJoqO02GN697LLPce5aMJSAAAAAKiR944PpY1Di9OCHTeXhqGfVAOHuvPfifGu/dF/pt1DR/Nb0EyCUjpB7Cyd9/r92XM9yphpLoawFAAAAABqat/RXVmn6KNvX1sajI6vX227If+VjHfo6Ml02fT1+S1oJkEpnWb5W/NbgekzW0xW4MIISwEAAACgDfSPbkov7J6Vfrp1WmlQGvXa4IL80Yy3tnt/um/+9vwWNM+izbOywCjGkvYPe67TOd7oX5X9gEA8/6PbNLpO4XwISwEAAACgjZz64ES23/TZXQ98LCw9cGwgfxTjPfpcf1r44u/yW9AsK7YtaHWU9u7bkt8LnSOe9/GDAvE6mLt2usCU8yIsBQAAAIA2deTkSNq8b1la2HN7VpzZHbO702/7Dua3oDle7l3SCkqN3qWTDYz0CUy5IMJSAAAAAGiAY6cO5/9Gmb/+x9fS8ZN/yG9BM2za3ZUFQ1Fb96zL74XOJTDlQghLAQAAAIBG6xs4nG6cuTm/Bc0QY0eLPY3rdi7P7wUEppwvYSkAAAAA0GiLX9mTZi/dld+C9jc0ursVBj2zZU5+L1AYG5jOe/3+/F4oJywFAAAAABrtXxb0pJc27ctvQXsbff9AemDFNUIg+ARjA1M/VMDZCEsBAAAAgEa76odvpr3Dx/Jb0L5inOiDq2/Kwp+Hum41XhQ+gXHVnAthKQAAAADQWBGSRlgKTRD7FyP0ic7S6DAFPtkb/auy102EphGewnjCUgAAAACgsdZ270/3zd+e34L2tfyt+VngE2NFY2cpcO68fjgbYSkAAAAA0Fizl+5Ki1/Zk9+C9rRpd1cW9ERt37sxvxc4H7HjN15DMcraCGvGEpYCAAAAAI11y8Nb0rb+0fwWtJ+Bkb7WzrjhlOgAABfeSURBVMWXe5fk9wLnKwLSGauuz15LK7YtyO8FYSkAAAAA0FDHT/4hXTZ9ffZPaEexlzT2k0a48/iGGfm9wIXqH96evZ7iBxCM46UgLAUAAAAAGum3fQfTHbO781vQfh5Zc2cW7DzUdauxoTBBFm2e1XpdQRCWAgAAAACNFLtKY2cptKMYExqBTnSWRocpMDGOnjiU7n3uiuz1tW7n8vxeOpmwFAAAAABopPvmb09ru/fnt6B99O7b0hoVGmNDgYm1dc+67DUWoamubYSlAAAAAEAjxb7SQ0dP5regPUQXadH19nLvkvxeYKLFGN54nW3a3ZXfQ6cSlgIAAAAAjbN3+Fi66odv5regfRR7SueunZ7fA0yGN/pXZa+1eM3R2YSlAAAAAEDjPL9hKD24sDe/Be2h2FManaX2lMLkivG7dy+7PHvNDY3uzu+lEwlLAQAAAIDGmb10V1r8yp78FtRf7CaNHaUR3MTOUmDyPbNlTvaai3/SuYSlAAAAAEDj3Dhzc+obOJzfgno7euJQemDFNVloE92lQDXihxTidTdj1fX5PXQiYSkAAAAA0CiHjp5Ml01fn9+C+pv3+v1ZYPNQ163ZaFCgOkVHd/zQAp1JWAoAAAAANMpv+w6mO2Z357eg3l7uXZIFNbE7cfjI3vxeoCrxQwrxGjT+unMJSwEAAACARnls5btZQd0NjPS1utq27lmX3wtUqdhbGj+4QGcSlgIAAAAAjXL3z99OG7YfyG9BPcW43diTGCHNos2z8nuBqr3Rvyp7HT6+YUZ+D51GWAoAAAAANErsK429pVBnEZBGQBOBqT2lMHWGRndnr8VH1tyZ30OnEZYCAAAAAI3RN3A43Thzc34L6il2I0Y4EyN4YxQvMHViV3C8Hh9YcU1+D51GWAoAAAAANMZv1g2mh/5d+ER9RRdphDIRzqzYtiC/F5hK8Xq897kr8lt0GmEpAAAAANAYDy7sTc9vGMpvQf0sf2t+FswYvwv1EV3e8bqkMwlLAQAAAIDGuPZH/5l2Dx3Nb0G99A9vzwKZqPh3oB6Kbu+jJw7l99BJhKUAAAAAQCMcOnoyXTZ9fX4L6iW6SKObNAKZ6C4F6qMIS2N/KZ1HWAoAAAAA1FLxGV9VBZMp9pNGGGP8LtRP7CuN1+fo+wfye+gkxfuAPGJsDm9wAAAAAKC9FZ/xVVUwWQZG+lo7EXv3bcnvBeoiXptRdKbifUAeMTaHNzgAAAAA0N6Kz/j+9/9ZO6nls0QmU3SRPrj6piyIWbR5Vn4vUCfC0s5WvA/II8bm8AYHAAAAANpb8RlfWcA5keWzRCbTizueykKY2Ilo/C7Uz9ETh7LX6N3LLs/vodMU7wPyiLE5vMEBAAAAgPZWfMZXFnBOZPkskckyNLrb+F2oueEje1s/0EBnKt4H5BFjc3iDAwAAAADtrfiMryzgnMjyWSKT5aGuW7MQ5sk3f5zfA9RN7BSO12mMy6YzFe8D8oixObzBAQAAAID2VnzGVxZwTmT5LJHJ8HLvkiyAufe5K7Ixn0A9bd2zLnutPr5hRn4PnaZ4H5BHjM3hDQ4AAAAAtLfiM76ygHMiy2eJTLTYTRohaQQwEcQA9VX8YMPyt+bn99BpivcBecTYHN7gAAAAAEB7Kz7jKws4J7J8lshEe2bLnCx8mff6/fk9QF0Vr9d1O5fn99BpivcBecTYHN7gAAAAAEB7Kz7jKws4J7J8lshEGn3/QLpz6Tey8CV2IQL1Nnft9Oz1un3vxvweOk3xPiCPGJvDGxwAAAAAaG/FZ3xlAedEls8SmUjRTRrBS3SrAfX3wIprstds/KADnal4H5BHjM3hDQ4AAAAAtLfiM76ygHMiK/4bf37Ds+nBhb3p+Q1Dae/wsfwEcH6ikzRCl+gsFbxA/Q0f2Zu9Zu9ednl+D52oeL+RR4zNUVwYAAAAANCeis/4ygLOiaz4b3xm2uwsKI3A9KofvplV/PtLm/al4dHj+Yng7B5cfVMWvLzcuyS/B6izN/pXZa9Z+4U7W/F+I48Ym6O4MAAAAACgPRWf8ZUFnBNZZZ8lRndphKf/sqAnTbtvQ7r2R/+ZHvr3PuEpZ7Rpd1cWutz73BXp5CnPEWgHMS7bDzhQvA/II8bmKHuDAwAAAAC0j+IzvrKAcyLrXD5L3D10NP1m3WArPL1x5uY0e+mutLZ7fzp09GT+KDpVhKMRkkbosnXPuvxeoO6KbvD+4e35PXSi4n1AHjE2x7m8wQEAAAAA6qv4jK8s4JzIupDPEvsGDqfFr+xJ983fni6bvr4Vnm7YfiAdP/mH/FF0ihd3PJUFLhG8AO3h6IlD2es2dgzrBu9sxfuAPGJsjgt5gwMAAAAA1EfxGV9ZwDmRNRGfJRbh6d0/fzv99T++lm55eEt69Ln+LDyl2UbfP5CFLRG6DIz05fcCdVfsK31kzZ35PXSq4n1AHjE2x0S8wQEAAAAApk7xGV9ZwDmRNRmfJW7rH00LX/xdFp7Gf+OO2d3psZXvpt/2HcwfQVMs2jwrC1zmvX5/fg/QDh7fMCN77dpXSvE+II8Ym2My3uAAAAAAANUpPuMbH25OdFXxWWKEpBGWRmga/80IUSNMjVCV9hWdpMUYz+gwBdpDjN0tOsKHj+zN76VTFe8D8oixOap4gwMAAAAATJ7iM77x4eZE11R8lhjjeWNMb4zrjbG9RXga43xpH9FNGmHLM1vm5PcA7WDrnnXZa9eeYULxPiCPGJtjKt7gAAAAAAATp/iMr6qaKsdP/qEVnt44c3O6bPr6dN/87dkOVOFpfekqhfb15Js/zl6/K7YtyO+hkxXvA/KIsTmm+g0OAAAAAHBxis/4qqq6OHT0ZFrbvT/NXrqrFZ7+y4Ke9Jt1g2n30NH8UUw1XaXQnmIE793LLs9ev/FDD1C8D8gjxuao2xscAAAAAIALEeHpS5v2pYf+vS9d+6P/TNPu25CFp89vGEp7h4/lj6JKukqhfW3a3ZW9fo3gpSAsBQAAAABoI8Ojx7Pw9MGFvemqH76ZVfy78LQ6ukqhfT3UdWv2+n25d0l+D51OWAoAAAAA0MYiII2gtAhPo/s0ulAjUI1glYkVnaTRUaqrFNrP2K7wGMcLQVgKAAAAANAgsdc09pvGqN4Y2VuEp7EHNUb6cnGWvzU/C1se3zAjvwdoF4s2z9IVzscISwEAAAAAGqwIT++bvz1dNn19unHm5jR76a4sPD1+8g/5ozgX0Yl273NXZGFLdKgB7ePoiUNZR2m8fodGd+f3grAUAAAAAKCj9A0cTotf2ZOFp3/9j6+lWx7ekh59rj9t2H5AePoJ3uhflQUtsfMQaC/RTRqv39g5DGMJSwEAAAAAOti2/tG08MXfpbt//nYrPH1s5bvpt30H80dQeHD1TVnYsnXPuvweoB0Uu4a9fikjLAUAAAAAoCXC0whL75jdnf73/1mb/TNux/2drH94exa0xBjeGMcLtI+iqzR+4AHGE5YCAAAAAHBG0WEaYWl0nEbnaXSgRidqp4WnT7754yxseXHHU/k9QDvQVconEZYCAAAAAHBOYqdp7DaNHadFeBq7T2MHauxCbaroJC3ClghegPahq5RPIiwFAAAAAOCCRHi6tnt/mr10V7px5uZ02fT1WXj6m3WDaffQ0fxR7e+N/lVZ2DJ37fT8HqAdjP1BB12lnImwFAAAAACACXHo6MksPH3o3/vStT/6zzTtvg3pXxb0tH14+lDXrVnYsml3V34P0A50lXIuhKUAAAAAAEyK4dHj6aVN+1rh6VU/fDM9uLA3Pb9hKO0dPpY/qt6GRndnYcvdyy7PutSA9jAw0tfqKo1/hzMRlgIAAAAAUIkISCMojcA0gtMiPI1ANYLVOlqxbUEWtjz55o/ze4B2EGOz47W7aPOs/B4oJywFAAAAAGBKFOFpjOqNkb3RfRpdqBGexkjfOnhkzZ1Z4GIEL7SP2E8ar9t7n7sijb5/IL8XyglLAQAAAACohdhrGvtNIzy9bPr6dOPMzWn20l3ZHtSpCE+PnjiUBS5R8e9A/cW47AhJ43W7bufy/F44M2EpAAAAAAC11DdwOC1+ZU+6b/72Vnj66HP9acP2A+n4yT/kj5o80U0agUt0lwLtIUZmx+v2wdU35ffA2QlLAQAAAABoCxGeLnzxd+nun7+d/vofX0u3PLylFZ5OhiJ0eXHHU/k9QJ0V43fvXPqNNDDSl98LZycsBQAAAACgLW3rH22Fp//7/6xNd8zuTo+tfDf9tu9g/oiLM2PV9VnwInSB+ovdpMX4XT/gwPkQlgIAAAAA0AgRkkZYGqFphKcRokaYGqHq+Yq9h0WHGlB/c9dOz16zxmZzvoSlAAAAAAA0UoznjTG9Ma43xvZGeBo7UGOc7yeJbtIIXh7qujW/B6irl3uXZK/Xu5ddnnWYwvkQlgIAAAAA0HjHT/4hC09nL92Vbpy5OV02fX26b/72M4an63Yuz8KXRZtn5fcAdRQ/2BAd4PF63bS7K78Xzp2wFAAAAACAjnPo6Mm0tnt/Kzyddt+G9C8LetJv1g2m3UNH0zNb5mThS3SsAfV09MSh9MCKa7LX6pNv/ji/F86PsBQAAAAAgI43PHo8vbRpX3ro3/vStT/6z3TDoz/IApg3+lfljwDqJvaTxus0xmXHnmG4EMJSAAAAAAAY52ev3peFML37tuT3AHVSdH/f+9wVafjI3vxeOH/CUgAAAAAAGKfoWBOWQv3EbtJ4fXqNMhGEpQAAAAAAMI6wFOppYKQv3bn0G9nr005hJoKwFAAAAAAAxpn3+v1ZGLN1z7r8HmCqRVB697LLs9fm4xtm5PfCxRGWAgAAAADAOMU+xHU7l+f3AFNpaHR3Kyidu3Z6OnnqeP4VuDjCUgAAAAAAGCfGe0Yos/yt+fk9wFQZPrI3PbDiGkEpk0JYCgAAAAAA48Su0ghmHuq6Nb8HmApjg9IHV98kKGXCCUsBAAAAAGCcCGTuXPqNLKA5euJQfi9QpdH3D2QBaRGUei0yGYSlAAAAAABQ4pE1d2YhzdY96/J7gKqM7ygVlDJZhKUAAAAAAFBixbYFWVDz+IYZ+T1AFQZG+tLdyy7PXn8xCltQymQSlgIAAAAAQInobIuwJsbxxjhQYPJt37uxFZTOXTvdjlImnbAUAAAAAADOYN7r92ehzYs7nsrvASbLpt1drV3BT775Y0EplRCWAgAAAADAGcS+0ghu7n3uCt2lMEkiFF20eVb2Wot6Zsuc/Csw+YSlAAAAAABwFo+suTMLcCLMASZWjLuOvaTxGouu0nU7l+dfgWoISwEAAAAA4CwGRvpao0F7923J7wUu1tj9pA+suCb1D2/PvwLVEZYCAAAAAMAnWP7W/CzQiWAnOuGACxdjd4vXVNTctdPT0ROH8q9CtYSlAAAAAADwCSLciUAngp0Zq64X7MAFiu7ReA0VQemKbQvyr8DUEJYCAAAAAMA5iIC0CHkeXH2TwBTOQ7xeYu9vEZLGa8nYXepAWAoAAAAAAOcoRvDGbkWBKZy72E1673NXtILSGMEb3dpQB8JSAAAAAAA4D+MD09H3D+RfAcYaGOlL816/vxWSPtR1axoa3Z1/FepBWAoAAAAAAOdpbGB697LLs8454CPx+hgbksZr5MUdT+VfhXoRlgIAAAAAwAWIEbxz105vBUIxWtRYXjpZdFk/+eaPW6+JO5d+Iz2zZY7ua2pNWAoAAAAAABfh5d4lWSgU4VDsZdy0uyv/CnSGGK27aPOs1usgKkJTISntQFgKAAAAAAAXKXYzxj7GIih6ZM2dqXfflvyr0DwnTx1Pb/SvOu15HxXjd2MML7QLYSkAAAAAAEyQCI9iP6PQlKbqH96edZGOfZ7Hv8d90WEK7UZYCgAAAAAAEyj2lq7YtuBjoanxvLSj6CCN526M1Y0x08VzOiq6SuMHBOIx0K6EpQAAAAAAMAnKQtOiAy/G9kJdxRjddTuXp7lrp58WjkZFYKqLlCYRlgIAAAAAwCQ6027HB1Zck57ZMseYXqZchKPRPRoh6IOrbzrteRoV90XwL+SniYSlAAAAAABQkejGi0Bq/DjTuB1jTiOwGn3/QP5omBwRer7cuyQ9vmHGx56LUXcu/Uaa9/r9Wcjv+UjTCUsBAAAAAGAKREdpBKfRYTo+rIpOvug63bpnXdb1BxciuprjeRbBaDyfYnduBKHjn28xHjrC0Rd3PKXTmY4jLAUAAAAAgClWdPrFjsgzhVkRdMUo1Og+tS+SsYpQNDpB4zkSz5WyjtGiZqy6Putkjsd7LtHphKUAAAAAAFAzEXxF6BXh6ZlCrwhVIxRb/tb8rAM1fs3RE4fy34GmiXG4YwPR6AQ9U6doUcVzJLpKI4z3HIGPE5YCAAAAAEDNFUFZEZKVje4dWzHGtwhS49ds37sx+/XUV/z9REWoGX9nMaI5/g4f6rq19O94bBWdx9EtGr82fh+7RuHcCEsBAAAAAKANRYdgEaBGSBZh2dlGr46teOzYcC2q6E4tSgfi+StC7aJiZHLx5zv276moGIdb9vdTVvHY+DXRJRq/VwTg/cPb8/8ycKGEpQAAAAAA0DCxhzLCunU7l2fBWjGyNToQy4K4c6miW7Wo+D3HBoFRxajXsoq9rHVQ7Pf8pCrG3Y6tCCrH/hnEn0nZn9X5VoTc8fvF2OXiv1V0Aw8f2ZufHJgMwlIAAAAAAOgw0ZFYhIJnCgLPtgtTlVcxDreo8YHy+DBZ9y5MPWEpAAAAAADwicYGrFExtndsEBg1PnAdWxPVhXmxFSFw2fnG19gRxUW9uOOp0/4MjMGF9icsBQAAAAAAADqSsBQAAAAAAADoSMJSAAAAAAAAoCMJSwEAAAAAAICOJCwFAAAAAAAAOpKwFAAAAAAAAOhIwlIAAAAAAACgIwlLAQAAAAAAgI4kLAUAAAAAAAA6krAUAAAAAAAA6EjCUgAAAAAAAKAjCUsBAAAAAACAjiQsBQAAAAAAADqSsBQAAAAAAADoSMJSAAAAAAAAoCMJSwEAAAAAAICOJCwFAAAAAAAAOpKwFAAAAAAAAOhIwlIAAAAAAACgIwlLAQAAAAAAgI4kLAUAAAAAAAA6krAUAAAAAAAA6EjCUgAAAAAAAKAjCUsBAAAAAACAjiQsBQAAAAAAADqSsBQAAAAAAADoSMJSAAAAAAAAoCMJSwEAAAAAAICOJCwFAAAAAAAAOpKwFAAAAAAAAOhIwlIAAAAAAACgIwlLAQAAAAAAgI4kLAUAAAAAAAA6krAUAAAAAAAA6EjCUgAAAAAAAKAjCUsBAAAAAACAjiQsBQAAAAAAADqSsBQAAAAAAADoSMJSAAAAAAAAoCMJSwEAAAAAAICOJCwFAAAAAAAAOpKwFAAAAAAAAOhIwlIAAAAAAACgIwlLAQAAAAAAgI4kLAUAAAAAAAA6krAUAAAAAAAA6EjCUgAAAAAAAKAjCUsBAAAAAACAjiQsBQAAAAAAADqSsBQAAAAAAADoSMJSAAAAAAAAoCMJSwEAAAAAAICOJCwFAAAAAAAAOpKwFAAAAAAAAOhIwlIAAAAAAACgIwlLAQAAAAAAgI4kLAUAAAAAAAA6krAUAAAAAAAA6EjCUgAAAAAAAKAjCUsBAAAAAACAjiQsBQAAAAAAADqSsBQAAAAAAADoSMJSAAAAAAAAoCMJSwEAAAAAAICOJCwFAAAAAAAAOpKwFAAAAAAAAOhIwlIAAAAAAACgIwlLAQAAAAAAgI4kLAUAAAAAAAA6krAUAAAAAAAA6EjCUgAAAAAAAKAjCUsBAAAAAACAjiQsBQAAAAAAADqSsBQAAAAAAADoSMJSAAAAAAAAoCMJSwEAAAAAAICOJCwFAAAAAAAAOpKwFAAAAAAAAOhIwlIAAAAAAACgIwlLAQAAAAAAgI4kLAUAAAAAAAA6krAUAAAAAAAA6EjCUgAAAAAAAKAjCUsBAAAAAACAjiQsBQAAAAAAADqSsBQAAAAAAADoSMJSAAAAAAAAoCMJSwEAAAAAAICOJCwFAAAAAAAAOpKwFAAAAAAAAOhIwlIAAAAAAACgIwlLAQAAAAAAgI4kLAUAAAAAAAA6krAUAAAAAAAA6EiND0uVUkoppZRSSimllFJKKaWUUupslUeMzVF2kUoppZRSSimllFJKKaWUUkopNb7yiLEh/uRP/n9x5J5YZuyKSgAAAABJRU5ErkJggg==)"
      ],
      "metadata": {
        "id": "MYV3gyOQsqzQ"
      }
    },
    {
      "cell_type": "code",
      "source": [
        "# def create_data_model():\n",
        "#     \"\"\"Stores the data for the problem.\"\"\"\n",
        "#     data = {}\n",
        "#     data['distance_matrix'] = distance_matrix\n",
        "#     data['demands'] = demand\n",
        "#     data['vehicle_capacities'] = [10000]*2+[5000]*3+[1500]*3\n",
        "#     data['num_vehicles'] = 8\n",
        "#     data['depot'] = 0\n",
        "#     return data\n",
        "\n",
        "\n",
        "# def print_solution(data, manager, routing, solution):\n",
        "#     \"\"\"Prints solution on console.\"\"\"\n",
        "#     print(f'Objective: {solution.ObjectiveValue()}')\n",
        "#     total_distance = 0\n",
        "#     total_load = 0\n",
        "#     for vehicle_id in range(data['num_vehicles']):\n",
        "#         index = routing.Start(vehicle_id)\n",
        "#         plan_output = 'Route for vehicle {}:\\n'.format(vehicle_id)\n",
        "#         route_distance = 0\n",
        "#         route_load = 0\n",
        "#         while not routing.IsEnd(index):\n",
        "#             node_index = manager.IndexToNode(index)\n",
        "#             route_load += data['demands'][node_index]\n",
        "#             plan_output += ' {0} Load({1}) -> '.format(node_index, route_load)\n",
        "#             previous_index = index\n",
        "#             index = solution.Value(routing.NextVar(index))\n",
        "#             route_distance += routing.GetArcCostForVehicle(\n",
        "#                 previous_index, index, vehicle_id)\n",
        "#         plan_output += ' {0} Load({1})\\n'.format(manager.IndexToNode(index),\n",
        "#                                                  route_load)\n",
        "#         plan_output += 'Distance of the route: {}m\\n'.format(route_distance)\n",
        "#         plan_output += 'Load of the route: {}\\n'.format(route_load)\n",
        "#         print(plan_output)\n",
        "#         total_distance += route_distance\n",
        "#         total_load += route_load\n",
        "#     print('Total distance of all routes: {}m'.format(total_distance))\n",
        "#     print('Total load of all routes: {}'.format(total_load))\n",
        "\n",
        "\n",
        "# def main():\n",
        "#     \"\"\"Solve the CVRP problem.\"\"\"\n",
        "#     # Instantiate the data problem.\n",
        "#     data = create_data_model()\n",
        "\n",
        "#     # Create the routing index manager.\n",
        "#     manager = pywrapcp.RoutingIndexManager(len(data['distance_matrix']),\n",
        "#                                            data['num_vehicles'], data['depot'])\n",
        "\n",
        "#     # Create Routing Model.\n",
        "#     routing = pywrapcp.RoutingModel(manager)\n",
        "\n",
        "\n",
        "#     # Create and register a transit callback.\n",
        "#     def distance_callback(from_index, to_index):\n",
        "#         \"\"\"Returns the distance between the two nodes.\"\"\"\n",
        "#         # Convert from routing variable Index to distance matrix NodeIndex.\n",
        "#         from_node = manager.IndexToNode(from_index)\n",
        "#         to_node = manager.IndexToNode(to_index)\n",
        "#         return data['distance_matrix'][from_node][to_node]\n",
        "\n",
        "#     transit_callback_index = routing.RegisterTransitCallback(distance_callback)\n",
        "\n",
        "#     # Define cost of each arc.\n",
        "#     routing.SetArcCostEvaluatorOfAllVehicles(transit_callback_index)\n",
        "\n",
        "\n",
        "#     # Add Capacity constraint.\n",
        "#     def demand_callback(from_index):\n",
        "#         \"\"\"Returns the demand of the node.\"\"\"\n",
        "#         # Convert from routing variable Index to demands NodeIndex.\n",
        "#         from_node = manager.IndexToNode(from_index)\n",
        "#         return data['demands'][from_node]\n",
        "\n",
        "#     demand_callback_index = routing.RegisterUnaryTransitCallback(\n",
        "#         demand_callback)\n",
        "#     routing.AddDimensionWithVehicleCapacity(\n",
        "#         demand_callback_index,\n",
        "#         0,  # null capacity slack\n",
        "#         data['vehicle_capacities'],  # vehicle maximum capacities\n",
        "#         True,  # start cumul to zero\n",
        "#         'Capacity')\n",
        "\n",
        "#     # Setting first solution heuristic.\n",
        "#     search_parameters = pywrapcp.DefaultRoutingSearchParameters()\n",
        "#     search_parameters.first_solution_strategy = (\n",
        "#         routing_enums_pb2.FirstSolutionStrategy.PATH_CHEAPEST_ARC)\n",
        "#     search_parameters.local_search_metaheuristic = (\n",
        "#         routing_enums_pb2.LocalSearchMetaheuristic.GUIDED_LOCAL_SEARCH)\n",
        "#     search_parameters.time_limit.FromSeconds(3)\n",
        "\n",
        "#     # Solve the problem.\n",
        "#     solution = routing.SolveWithParameters(search_parameters)\n",
        "\n",
        "#     # Print solution on console.\n",
        "#     if solution:\n",
        "#         print_solution(data, manager, routing, solution)\n",
        "\n",
        "\n",
        "# if __name__ == '__main__':\n",
        "#     main()"
      ],
      "metadata": {
        "id": "KOnC48a_DZ3Y"
      },
      "execution_count": null,
      "outputs": []
    },
    {
      "cell_type": "markdown",
      "source": [
        "#2 utilities\n"
      ],
      "metadata": {
        "id": "38D3erQmIogx"
      }
    },
    {
      "cell_type": "code",
      "source": [
        "def permutation(veh_list):\n",
        "    return list(set(list(permutations(veh_list))))\n",
        "\n",
        "def all_bin(n):\n",
        "    res = []\n",
        "    for i in range(n):\n",
        "        res.append(bin(i)[2:])\n",
        "    return res\n",
        "\n",
        "def find_all_subset(alist):\n",
        "    res = []\n",
        "    n = 2**len(alist)\n",
        "    for _ in all_bin(n):\n",
        "        mem = []\n",
        "        for i in range(len(_)-1,-1,-1):\n",
        "            if _[i] == '1':\n",
        "                mem.append(alist[len(alist)-len(_)+i])\n",
        "        res.append(tuple(mem))\n",
        "    return res\n",
        "\n",
        "def find_all_key(alist):\n",
        "    res = set()\n",
        "    for _ in find_all_subset(alist):\n",
        "        for __ in permutation(_):\n",
        "            res.add(__)\n",
        "    res = list(res)\n",
        "    res.sort(key = lambda x: len(x))\n",
        "    return res\n",
        "\n",
        "def sync(alist):\n",
        "    res = np.zeros((len(alist),len(alist[-1])), dtype = \"int64\")\n",
        "    for i in range(len(alist)):\n",
        "        for j in range(    len(alist[-1])-1    , len(alist[-1]) - len(alist[i]) -1  ,-1):\n",
        "            res[i][j]=alist[i][len(alist[-1]) - j -1]\n",
        "    return res\n",
        "\n",
        "@njit(fastmath=True)\n",
        "def mapping(array):\n",
        "    res = 0\n",
        "    for i in range(len(array)):\n",
        "        res += array[-1-i]*10**i\n",
        "    return int(res)"
      ],
      "metadata": {
        "id": "JcheU-J_Ntjt"
      },
      "execution_count": null,
      "outputs": []
    },
    {
      "cell_type": "code",
      "source": [
        "def check(check_tour, distance_matrix, demand): \n",
        "    total_distance = 0\n",
        "    all_load = []\n",
        "    for tour in check_tour:\n",
        "        print(tour)\n",
        "        load = 0\n",
        "        for i in range(len(tour)):\n",
        "            load+=demand[tour[i]]\n",
        "            if i == 0:\n",
        "                total_distance += distance_matrix[0][tour[i]]\n",
        "            else:\n",
        "                total_distance += distance_matrix[tour[i]][tour[i-1]]\n",
        "        total_distance += distance_matrix[0][tour[-1]]\n",
        "        all_load.append(load)\n",
        "\n",
        "    print('total distance', total_distance)\n",
        "    print('all load', all_load)\n",
        "    print(sum(all_load))"
      ],
      "metadata": {
        "id": "S95mAB0Zkkbo"
      },
      "execution_count": null,
      "outputs": []
    },
    {
      "cell_type": "markdown",
      "source": [
        "#3 fake data"
      ],
      "metadata": {
        "id": "YBPMfmoTItzF"
      }
    },
    {
      "cell_type": "code",
      "source": [
        "# demand = [0,11,3,6,5,7,8,1,7,3,7,3,6]\n",
        "# distance_matrix = [[0 for i in range(13)] for i in range(13)]\n",
        "# config1 = [4,3,7,2,7,3,8,6,8,4,3,3]\n",
        "# config2 = [4,5,10,9,14,12,16,11,5,3,5,6]\n",
        "# for i in range(1,13):\n",
        "#     distance_matrix[i-1][i] = config1[i-1]\n",
        "# for i in range(1,13):\n",
        "#     distance_matrix[0][i] = config2[i-1]\n",
        "# for i in range(12):\n",
        "#     for j in range(i+1,13):\n",
        "#         distance_matrix[j][i] = distance_matrix[i][j]  \n",
        "# n_location = 13\n",
        "\n",
        "# capacity = 30\n",
        "# graph_distance_matrix = [[math.inf for i in range(13)] for i in range(13)]\n",
        "# for t in range(13):\n",
        "#     load = 0\n",
        "#     i = t+1\n",
        "#     while i < n_location and load + demand[i] <= capacity:\n",
        "#         load += demand[i]\n",
        "#         if i == t+1:\n",
        "#             cost = distance_matrix[0][i]\n",
        "#         else:\n",
        "#             cost += distance_matrix[i-1][i]\n",
        "#         graph_distance_matrix[t][i] = cost + distance_matrix[i][0]\n",
        "#         i+=1\n",
        "\n",
        "# graph_distance_matrix=np.asarray(graph_distance_matrix,dtype='float64')\n",
        "# input testing\n",
        "\n",
        "\n",
        "n_location = 11\n",
        "# demand = [0,11,3,6,5,7,8,1,7,3,7,3,6]\n",
        "demand = [0]+[random.randint(10,100) for i in range(n_location-1)]\n",
        "capacity = 250\n",
        "coordinate = []\n",
        "for i in range(n_location):\n",
        "    x, y = random.random()*10000,random.random()*10000\n",
        "    coordinate.append((x,y))\n",
        "\n",
        "distance_matrix = [[0 for i in range(n_location)] for i in range(n_location)]\n",
        "for i in range(n_location):\n",
        "    for j in range(n_location):\n",
        "        distance_matrix[i][j] = round(((coordinate[i][0]-coordinate[j][0])**2 + (coordinate[i][1]-coordinate[j][1])**2)**0.5)"
      ],
      "metadata": {
        "id": "LaIuFoi_hsv0"
      },
      "execution_count": null,
      "outputs": []
    },
    {
      "cell_type": "markdown",
      "source": [
        "#4 giant tour from TSP - ORtools"
      ],
      "metadata": {
        "id": "Wze8uxcDLMi1"
      }
    },
    {
      "cell_type": "code",
      "source": [
        "\"\"\"Simple Travelling Salesperson Problem (TSP) between cities.\"\"\"\n",
        "\n",
        "from ortools.constraint_solver import routing_enums_pb2\n",
        "from ortools.constraint_solver import pywrapcp\n",
        "\n",
        "start = timeit.default_timer()\n",
        "def create_data_model():\n",
        "    \"\"\"Stores the data for the problem.\"\"\"\n",
        "    data = {}\n",
        "    data['distance_matrix'] = distance_matrix  # yapf: disable\n",
        "    data['num_vehicles'] = 1\n",
        "    data['depot'] = 0\n",
        "    return data\n",
        "\n",
        "\n",
        "def print_solution(manager, routing, solution):\n",
        "    \"\"\"Prints solution on console.\"\"\"\n",
        "    print('Objective: {} miles'.format(solution.ObjectiveValue()))\n",
        "    index = routing.Start(0)\n",
        "    plan_output = 'Route for vehicle 0:\\n'\n",
        "    route_distance = 0\n",
        "    while not routing.IsEnd(index):\n",
        "        plan_output += ' {} ->'.format(manager.IndexToNode(index))\n",
        "        previous_index = index\n",
        "        index = solution.Value(routing.NextVar(index))\n",
        "        route_distance += routing.GetArcCostForVehicle(previous_index, index, 0)\n",
        "    plan_output += ' {}\\n'.format(manager.IndexToNode(index))\n",
        "    print(plan_output)\n",
        "    plan_output += 'Route distance: {}miles\\n'.format(route_distance)\n",
        "\n",
        "\n",
        "def get_solution(manager, routing, solution):\n",
        "    index = routing.Start(0)\n",
        "    res = []\n",
        "    route_distance = 0\n",
        "    while not routing.IsEnd(index):\n",
        "        res.append(manager.IndexToNode(index))\n",
        "        previous_index = index\n",
        "        index = solution.Value(routing.NextVar(index))\n",
        "        route_distance += routing.GetArcCostForVehicle(previous_index, index, 0)\n",
        "    res.append(manager.IndexToNode(index))\n",
        "    return res #, route_distance\n",
        "\n",
        "\n",
        "def TSP():\n",
        "    \"\"\"Entry point of the program.\"\"\"\n",
        "    # Instantiate the data problem.\n",
        "    data = create_data_model()\n",
        "\n",
        "    # Create the routing index manager.\n",
        "    manager = pywrapcp.RoutingIndexManager(len(data['distance_matrix']),\n",
        "                                           data['num_vehicles'], data['depot'])\n",
        "\n",
        "    # Create Routing Model.\n",
        "    routing = pywrapcp.RoutingModel(manager)\n",
        "\n",
        "\n",
        "    def distance_callback(from_index, to_index):\n",
        "        \"\"\"Returns the distance between the two nodes.\"\"\"\n",
        "        # Convert from routing variable Index to distance matrix NodeIndex.\n",
        "        from_node = manager.IndexToNode(from_index)\n",
        "        to_node = manager.IndexToNode(to_index)\n",
        "        return data['distance_matrix'][from_node][to_node]\n",
        "\n",
        "    transit_callback_index = routing.RegisterTransitCallback(distance_callback)\n",
        "\n",
        "    # Define cost of each arc.\n",
        "    routing.SetArcCostEvaluatorOfAllVehicles(transit_callback_index)\n",
        "\n",
        "    # Setting first solution heuristic.\n",
        "    search_parameters = pywrapcp.DefaultRoutingSearchParameters()\n",
        "    search_parameters.first_solution_strategy = (\n",
        "        routing_enums_pb2.FirstSolutionStrategy.PATH_CHEAPEST_ARC)\n",
        "    search_parameters.local_search_metaheuristic = (\n",
        "        routing_enums_pb2.LocalSearchMetaheuristic.GUIDED_LOCAL_SEARCH)\n",
        "    search_parameters.time_limit.FromSeconds(5)\n",
        "\n",
        "    # Solve the problem.\n",
        "    solution = routing.SolveWithParameters(search_parameters)\n",
        "\n",
        "    # Print solution on console.\n",
        "    if solution:\n",
        "        return get_solution(manager, routing, solution)\n",
        "end = timeit.default_timer()\n",
        "print(end-start)\n",
        "\n",
        "solution = TSP()\n",
        "giant_tour = np.asarray(solution[:-1])"
      ],
      "metadata": {
        "id": "QfNh9s9SDxOw",
        "colab": {
          "base_uri": "https://localhost:8080/"
        },
        "outputId": "9dc6af93-297e-4df7-aca4-3283d73acaf8"
      },
      "execution_count": null,
      "outputs": [
        {
          "output_type": "stream",
          "name": "stdout",
          "text": [
            "0.00046451900000477053\n"
          ]
        }
      ]
    },
    {
      "cell_type": "code",
      "source": [
        "giant_tour = np.asarray([ 0,  9,  4,  1,  2,  6,  7, 10,  5,  8,  3], np.int32)"
      ],
      "metadata": {
        "id": "eCe1nVuSZjp5"
      },
      "execution_count": null,
      "outputs": []
    },
    {
      "cell_type": "markdown",
      "source": [
        ""
      ],
      "metadata": {
        "id": "kwX7pj_xGBp-"
      }
    },
    {
      "cell_type": "code",
      "source": [
        "figure(figsize=(20, 12), dpi=80)\n",
        "for i in range(len(solution)-1):\n",
        "    x = solution[i]\n",
        "    y = solution[i+1]\n",
        "    plt.plot([    coordinate[x][0],coordinate[y][0]     ],[coordinate[x][1],coordinate[y][1]], 'r')\n",
        "plt.plot(*coordinate[0],marker='o',color = 'b')\n",
        "for i in range(1,len(solution)-1):\n",
        "    plt.plot(*coordinate[i],marker='.',color = 'g')"
      ],
      "metadata": {
        "colab": {
          "base_uri": "https://localhost:8080/",
          "height": 775
        },
        "id": "AECPfWmrMFNl",
        "outputId": "c753af74-b342-46a4-9b9c-621c29a4480e"
      },
      "execution_count": null,
      "outputs": [
        {
          "output_type": "display_data",
          "data": {
            "text/plain": [
              "<Figure size 1600x960 with 1 Axes>"
            ],
            "image/png": "[encoded data removed]"
          },
          "metadata": {
            "needs_background": "light"
          }
        }
      ]
    },
    {
      "cell_type": "code",
      "source": [
        "def create_graph_distance_matrix(capacity, demand, giant_tour, distance_matrix):\n",
        "    graph_distance_matrix = [[math.inf for i in range(len(distance_matrix))] for i in range(len(distance_matrix))]\n",
        "    for t in range(len(giant_tour)):\n",
        "        load = 0\n",
        "        i = t+1\n",
        "        while i < n_location and load + demand[giant_tour[i]] <= capacity:\n",
        "            load += demand[giant_tour[i]]\n",
        "            if i == t+1:\n",
        "                cost = distance_matrix[0][giant_tour[i]]\n",
        "            else:\n",
        "                cost += distance_matrix[giant_tour[i-1]][giant_tour[i]]\n",
        "            graph_distance_matrix[giant_tour[t]][giant_tour[i]] = cost + distance_matrix[giant_tour[i]][0]\n",
        "            i+=1\n",
        "    return np.asarray(graph_distance_matrix,dtype='float64')"
      ],
      "metadata": {
        "id": "5C1JImgPDyBo"
      },
      "execution_count": null,
      "outputs": []
    },
    {
      "cell_type": "code",
      "source": [
        "# giant_tour = np.asarray([0,], dtype = 'int64')\n",
        "graph_distance_matrix = create_graph_distance_matrix(capacity, demand, giant_tour, distance_matrix)"
      ],
      "metadata": {
        "id": "ekn0RQsfd1U5"
      },
      "execution_count": null,
      "outputs": []
    },
    {
      "cell_type": "code",
      "source": [
        "type(graph_distance_matrix[0][0])"
      ],
      "metadata": {
        "id": "O61k7a4kVhmN",
        "colab": {
          "base_uri": "https://localhost:8080/"
        },
        "outputId": "4235c6d0-675d-4154-e033-ce425f4dfaea"
      },
      "execution_count": null,
      "outputs": [
        {
          "output_type": "execute_result",
          "data": {
            "text/plain": [
              "numpy.float64"
            ]
          },
          "metadata": {},
          "execution_count": 11
        }
      ]
    },
    {
      "cell_type": "code",
      "source": [
        "@njit(fastmath = True)\n",
        "def unlimited_homogeneous_veh_split(graph_distance_matrix, giant_tour):\n",
        "    n_location = len(graph_distance_matrix)\n",
        "    p = np.asarray([math.inf for i in range(n_location)],dtype='float64')\n",
        "    p[0]=0\n",
        "    pred = np.asarray([-1 for i in range(n_location)],dtype='int64')\n",
        "    for t in range(n_location):\n",
        "        i = t+1\n",
        "        while i < n_location and graph_distance_matrix[giant_tour[t]][giant_tour[i]] < math.inf:\n",
        "            if p[giant_tour[t]] + graph_distance_matrix[giant_tour[t]][giant_tour[i]] < p[giant_tour[i]]:\n",
        "                p[giant_tour[i]] = p[giant_tour[t]] + graph_distance_matrix[giant_tour[t]][giant_tour[i]]\n",
        "                pred[i] = t\n",
        "            i += 1\n",
        "    return pred, p, giant_tour\n",
        "start = timeit.default_timer()\n",
        "for i in range(10000):\n",
        "    unlimited_homogeneous_veh_split(graph_distance_matrix, giant_tour)\n",
        "end = timeit.default_timer()\n",
        "end - start"
      ],
      "metadata": {
        "id": "NGLR0pWRBc7M",
        "colab": {
          "base_uri": "https://localhost:8080/"
        },
        "outputId": "54eb080f-d4f2-47c4-d6ac-6f9a8ecd1012"
      },
      "execution_count": null,
      "outputs": [
        {
          "output_type": "execute_result",
          "data": {
            "text/plain": [
              "1.4060409129999982"
            ]
          },
          "metadata": {},
          "execution_count": 12
        }
      ]
    },
    {
      "cell_type": "code",
      "source": [
        "def build_split_solution_unlimited_homogeneous(pred,p, giant_tour):\n",
        "    res = {}\n",
        "    res['total cost']=p[giant_tour[-1]]\n",
        "    checkpoint = []\n",
        "    location = len(pred)-1\n",
        "    checkpoint.append(location)\n",
        "    while location != 0:\n",
        "        checkpoint.append(pred[location])\n",
        "        location = pred[location]\n",
        "    checkpoint=checkpoint[-1::-1]\n",
        "    res['checkpoint']=checkpoint\n",
        "    split_tour = []\n",
        "    for i in range(1,len(checkpoint)):\n",
        "        temp_list = []\n",
        "        temp_point = checkpoint[i-1]\n",
        "        for j in range(checkpoint[i-1]+1,checkpoint[i]+1):\n",
        "            temp_list.append(giant_tour[j])\n",
        "        split_tour.append(temp_list)\n",
        "    res['tour'] = split_tour\n",
        "\n",
        "    return res\n",
        "\n",
        "check(build_split_solution_unlimited_homogeneous(*unlimited_homogeneous_veh_split(graph_distance_matrix, giant_tour))['tour'],distance_matrix,demand)\n"
      ],
      "metadata": {
        "colab": {
          "base_uri": "https://localhost:8080/"
        },
        "id": "QTSIV-kgcn_h",
        "outputId": "535b3954-83b4-46c3-c8c0-08ddf51741e4"
      },
      "execution_count": null,
      "outputs": [
        {
          "output_type": "stream",
          "name": "stdout",
          "text": [
            "[9, 4, 1, 2, 6]\n",
            "[7, 10, 5, 8, 3]\n",
            "total distance 63644\n",
            "all load [224, 244]\n",
            "468\n"
          ]
        }
      ]
    },
    {
      "cell_type": "code",
      "source": [
        "tours = build_split_solution_unlimited_homogeneous(*unlimited_homogeneous_veh_split(graph_distance_matrix, giant_tour))['tour']"
      ],
      "metadata": {
        "id": "tlZZNff0FvNl"
      },
      "execution_count": null,
      "outputs": []
    },
    {
      "cell_type": "code",
      "source": [
        "def join(tours, distance_matrix):\n",
        "    start = []\n",
        "    end = []\n",
        "    for tour in tours:\n",
        "        start.append(tour[0])\n",
        "        end.append(tour[1])\n",
        "    res = []\n",
        "    i = 0\n",
        "    while len(start)>1:\n",
        "        temp_distance = 10**9\n",
        "        temp_end = 0\n",
        "        for j in range(len(start)):\n",
        "            if i == j:\n",
        "                pass\n",
        "            else:\n",
        "                if distance_matrix[start[i]][end[j]] < temp_distance:\n",
        "                    temp_distance = distance_matrix[start[i]][end[j]]\n",
        "                    temp_end = j\n",
        "        res.append(i)\n",
        "        start.pop(i)\n",
        "        end.pop(i)\n",
        "        i = j\n",
        "    return res\n"
      ],
      "metadata": {
        "id": "ArTR14VdvbpD"
      },
      "execution_count": null,
      "outputs": []
    },
    {
      "cell_type": "code",
      "source": [
        "# join(tours,distance_matrix)"
      ],
      "metadata": {
        "id": "ZjML0xC8vdkW"
      },
      "execution_count": null,
      "outputs": []
    },
    {
      "cell_type": "code",
      "source": [
        "@njit(fastmath=True)\n",
        "def limited_homogeneous_veh_split(graph_distance_matrix, n_veh, giant_tour):\n",
        "    n_location = len(graph_distance_matrix)\n",
        "    p = np.asarray([[math.inf for i in range(n_location)] for i in range(n_veh+1)],dtype='float64')\n",
        "    p[0][0] = 0\n",
        "    pred = np.asarray([[-1 for i in range(n_location)] for i in range(n_veh+1)],dtype='int64')\n",
        "    for k in range(1,n_veh+1):\n",
        "        for t in range(k-1, n_location):\n",
        "            i = t+1\n",
        "            while i < n_location and graph_distance_matrix[giant_tour[t]][giant_tour[i]] < math.inf:\n",
        "                if p[k-1][giant_tour[t]] + graph_distance_matrix[giant_tour[t]][giant_tour[i]] < p[k][giant_tour[i]]:\n",
        "                    p[k][giant_tour[i]] = p[k-1][giant_tour[t]] + graph_distance_matrix[giant_tour[t]][giant_tour[i]]\n",
        "                    pred [k][i] = t\n",
        "                i += 1\n",
        "    return pred, p, giant_tour\n",
        "\n",
        "limited_homogeneous_veh_split(graph_distance_matrix,70, giant_tour)"
      ],
      "metadata": {
        "id": "LPkgiGV-W4mb",
        "colab": {
          "base_uri": "https://localhost:8080/"
        },
        "outputId": "dadf9e22-bebb-4794-ae07-2c6028ae6866"
      },
      "execution_count": null,
      "outputs": [
        {
          "output_type": "execute_result",
          "data": {
            "text/plain": [
              "(array([[-1, -1, -1, -1, -1, -1, -1, -1, -1, -1, -1],\n",
              "        [-1,  0,  0,  0,  0,  0,  0, -1, -1, -1, -1],\n",
              "        [-1, -1,  1,  1,  3,  3,  3,  3,  5,  5,  5],\n",
              "        [-1, -1, -1,  2,  3,  3,  3,  3,  5,  5,  5],\n",
              "        [-1, -1, -1, -1,  3,  3,  3,  3,  5,  5,  5],\n",
              "        [-1, -1, -1, -1, -1,  4,  4,  4,  5,  5,  5],\n",
              "        [-1, -1, -1, -1, -1, -1,  5,  5,  5,  5,  5],\n",
              "        [-1, -1, -1, -1, -1, -1, -1,  6,  6,  6,  6],\n",
              "        [-1, -1, -1, -1, -1, -1, -1, -1,  7,  8,  9],\n",
              "        [-1, -1, -1, -1, -1, -1, -1, -1, -1,  8,  9],\n",
              "        [-1, -1, -1, -1, -1, -1, -1, -1, -1, -1,  9],\n",
              "        [-1, -1, -1, -1, -1, -1, -1, -1, -1, -1, -1],\n",
              "        [-1, -1, -1, -1, -1, -1, -1, -1, -1, -1, -1],\n",
              "        [-1, -1, -1, -1, -1, -1, -1, -1, -1, -1, -1],\n",
              "        [-1, -1, -1, -1, -1, -1, -1, -1, -1, -1, -1],\n",
              "        [-1, -1, -1, -1, -1, -1, -1, -1, -1, -1, -1],\n",
              "        [-1, -1, -1, -1, -1, -1, -1, -1, -1, -1, -1],\n",
              "        [-1, -1, -1, -1, -1, -1, -1, -1, -1, -1, -1],\n",
              "        [-1, -1, -1, -1, -1, -1, -1, -1, -1, -1, -1],\n",
              "        [-1, -1, -1, -1, -1, -1, -1, -1, -1, -1, -1],\n",
              "        [-1, -1, -1, -1, -1, -1, -1, -1, -1, -1, -1],\n",
              "        [-1, -1, -1, -1, -1, -1, -1, -1, -1, -1, -1],\n",
              "        [-1, -1, -1, -1, -1, -1, -1, -1, -1, -1, -1],\n",
              "        [-1, -1, -1, -1, -1, -1, -1, -1, -1, -1, -1],\n",
              "        [-1, -1, -1, -1, -1, -1, -1, -1, -1, -1, -1],\n",
              "        [-1, -1, -1, -1, -1, -1, -1, -1, -1, -1, -1],\n",
              "        [-1, -1, -1, -1, -1, -1, -1, -1, -1, -1, -1],\n",
              "        [-1, -1, -1, -1, -1, -1, -1, -1, -1, -1, -1],\n",
              "        [-1, -1, -1, -1, -1, -1, -1, -1, -1, -1, -1],\n",
              "        [-1, -1, -1, -1, -1, -1, -1, -1, -1, -1, -1],\n",
              "        [-1, -1, -1, -1, -1, -1, -1, -1, -1, -1, -1],\n",
              "        [-1, -1, -1, -1, -1, -1, -1, -1, -1, -1, -1],\n",
              "        [-1, -1, -1, -1, -1, -1, -1, -1, -1, -1, -1],\n",
              "        [-1, -1, -1, -1, -1, -1, -1, -1, -1, -1, -1],\n",
              "        [-1, -1, -1, -1, -1, -1, -1, -1, -1, -1, -1],\n",
              "        [-1, -1, -1, -1, -1, -1, -1, -1, -1, -1, -1],\n",
              "        [-1, -1, -1, -1, -1, -1, -1, -1, -1, -1, -1],\n",
              "        [-1, -1, -1, -1, -1, -1, -1, -1, -1, -1, -1],\n",
              "        [-1, -1, -1, -1, -1, -1, -1, -1, -1, -1, -1],\n",
              "        [-1, -1, -1, -1, -1, -1, -1, -1, -1, -1, -1],\n",
              "        [-1, -1, -1, -1, -1, -1, -1, -1, -1, -1, -1],\n",
              "        [-1, -1, -1, -1, -1, -1, -1, -1, -1, -1, -1],\n",
              "        [-1, -1, -1, -1, -1, -1, -1, -1, -1, -1, -1],\n",
              "        [-1, -1, -1, -1, -1, -1, -1, -1, -1, -1, -1],\n",
              "        [-1, -1, -1, -1, -1, -1, -1, -1, -1, -1, -1],\n",
              "        [-1, -1, -1, -1, -1, -1, -1, -1, -1, -1, -1],\n",
              "        [-1, -1, -1, -1, -1, -1, -1, -1, -1, -1, -1],\n",
              "        [-1, -1, -1, -1, -1, -1, -1, -1, -1, -1, -1],\n",
              "        [-1, -1, -1, -1, -1, -1, -1, -1, -1, -1, -1],\n",
              "        [-1, -1, -1, -1, -1, -1, -1, -1, -1, -1, -1],\n",
              "        [-1, -1, -1, -1, -1, -1, -1, -1, -1, -1, -1],\n",
              "        [-1, -1, -1, -1, -1, -1, -1, -1, -1, -1, -1],\n",
              "        [-1, -1, -1, -1, -1, -1, -1, -1, -1, -1, -1],\n",
              "        [-1, -1, -1, -1, -1, -1, -1, -1, -1, -1, -1],\n",
              "        [-1, -1, -1, -1, -1, -1, -1, -1, -1, -1, -1],\n",
              "        [-1, -1, -1, -1, -1, -1, -1, -1, -1, -1, -1],\n",
              "        [-1, -1, -1, -1, -1, -1, -1, -1, -1, -1, -1],\n",
              "        [-1, -1, -1, -1, -1, -1, -1, -1, -1, -1, -1],\n",
              "        [-1, -1, -1, -1, -1, -1, -1, -1, -1, -1, -1],\n",
              "        [-1, -1, -1, -1, -1, -1, -1, -1, -1, -1, -1],\n",
              "        [-1, -1, -1, -1, -1, -1, -1, -1, -1, -1, -1],\n",
              "        [-1, -1, -1, -1, -1, -1, -1, -1, -1, -1, -1],\n",
              "        [-1, -1, -1, -1, -1, -1, -1, -1, -1, -1, -1],\n",
              "        [-1, -1, -1, -1, -1, -1, -1, -1, -1, -1, -1],\n",
              "        [-1, -1, -1, -1, -1, -1, -1, -1, -1, -1, -1],\n",
              "        [-1, -1, -1, -1, -1, -1, -1, -1, -1, -1, -1],\n",
              "        [-1, -1, -1, -1, -1, -1, -1, -1, -1, -1, -1],\n",
              "        [-1, -1, -1, -1, -1, -1, -1, -1, -1, -1, -1],\n",
              "        [-1, -1, -1, -1, -1, -1, -1, -1, -1, -1, -1],\n",
              "        [-1, -1, -1, -1, -1, -1, -1, -1, -1, -1, -1],\n",
              "        [-1, -1, -1, -1, -1, -1, -1, -1, -1, -1, -1]]),\n",
              " array([[     0.,     inf,     inf,     inf,     inf,     inf,     inf,\n",
              "             inf,     inf,     inf,     inf],\n",
              "        [    inf,  18752.,  23413.,     inf,  17923.,     inf,  25902.,\n",
              "          35367.,     inf,    430.,     inf],\n",
              "        [    inf,  19179.,  23532.,  63644.,  18350.,  52715.,  26021.,\n",
              "          35486.,  54840.,     inf,  46929.],\n",
              "        [    inf,  20650.,  23959.,  63763.,     inf,  52834.,  26448.,\n",
              "          35913.,  54959.,     inf,  47356.],\n",
              "        [    inf,     inf,  25430.,  64190.,     inf,  53261.,  27919.,\n",
              "          37384.,  55386.,     inf,  48827.],\n",
              "        [    inf,     inf,     inf,  65661.,     inf,  54732.,  29742.,\n",
              "          39207.,  56857.,     inf,  50650.],\n",
              "        [    inf,     inf,     inf,  67484.,     inf,  56555.,     inf,\n",
              "          43056.,  58680.,     inf,  54499.],\n",
              "        [    inf,     inf,     inf,  75937.,     inf,  65008.,     inf,\n",
              "             inf,  67133.,     inf,  62952.],\n",
              "        [    inf,     inf,     inf,  84921.,     inf,  77556.,     inf,\n",
              "             inf,  78184.,     inf,     inf],\n",
              "        [    inf,     inf,     inf,  95972.,     inf,     inf,     inf,\n",
              "             inf,  90732.,     inf,     inf],\n",
              "        [    inf,     inf,     inf, 108520.,     inf,     inf,     inf,\n",
              "             inf,     inf,     inf,     inf],\n",
              "        [    inf,     inf,     inf,     inf,     inf,     inf,     inf,\n",
              "             inf,     inf,     inf,     inf],\n",
              "        [    inf,     inf,     inf,     inf,     inf,     inf,     inf,\n",
              "             inf,     inf,     inf,     inf],\n",
              "        [    inf,     inf,     inf,     inf,     inf,     inf,     inf,\n",
              "             inf,     inf,     inf,     inf],\n",
              "        [    inf,     inf,     inf,     inf,     inf,     inf,     inf,\n",
              "             inf,     inf,     inf,     inf],\n",
              "        [    inf,     inf,     inf,     inf,     inf,     inf,     inf,\n",
              "             inf,     inf,     inf,     inf],\n",
              "        [    inf,     inf,     inf,     inf,     inf,     inf,     inf,\n",
              "             inf,     inf,     inf,     inf],\n",
              "        [    inf,     inf,     inf,     inf,     inf,     inf,     inf,\n",
              "             inf,     inf,     inf,     inf],\n",
              "        [    inf,     inf,     inf,     inf,     inf,     inf,     inf,\n",
              "             inf,     inf,     inf,     inf],\n",
              "        [    inf,     inf,     inf,     inf,     inf,     inf,     inf,\n",
              "             inf,     inf,     inf,     inf],\n",
              "        [    inf,     inf,     inf,     inf,     inf,     inf,     inf,\n",
              "             inf,     inf,     inf,     inf],\n",
              "        [    inf,     inf,     inf,     inf,     inf,     inf,     inf,\n",
              "             inf,     inf,     inf,     inf],\n",
              "        [    inf,     inf,     inf,     inf,     inf,     inf,     inf,\n",
              "             inf,     inf,     inf,     inf],\n",
              "        [    inf,     inf,     inf,     inf,     inf,     inf,     inf,\n",
              "             inf,     inf,     inf,     inf],\n",
              "        [    inf,     inf,     inf,     inf,     inf,     inf,     inf,\n",
              "             inf,     inf,     inf,     inf],\n",
              "        [    inf,     inf,     inf,     inf,     inf,     inf,     inf,\n",
              "             inf,     inf,     inf,     inf],\n",
              "        [    inf,     inf,     inf,     inf,     inf,     inf,     inf,\n",
              "             inf,     inf,     inf,     inf],\n",
              "        [    inf,     inf,     inf,     inf,     inf,     inf,     inf,\n",
              "             inf,     inf,     inf,     inf],\n",
              "        [    inf,     inf,     inf,     inf,     inf,     inf,     inf,\n",
              "             inf,     inf,     inf,     inf],\n",
              "        [    inf,     inf,     inf,     inf,     inf,     inf,     inf,\n",
              "             inf,     inf,     inf,     inf],\n",
              "        [    inf,     inf,     inf,     inf,     inf,     inf,     inf,\n",
              "             inf,     inf,     inf,     inf],\n",
              "        [    inf,     inf,     inf,     inf,     inf,     inf,     inf,\n",
              "             inf,     inf,     inf,     inf],\n",
              "        [    inf,     inf,     inf,     inf,     inf,     inf,     inf,\n",
              "             inf,     inf,     inf,     inf],\n",
              "        [    inf,     inf,     inf,     inf,     inf,     inf,     inf,\n",
              "             inf,     inf,     inf,     inf],\n",
              "        [    inf,     inf,     inf,     inf,     inf,     inf,     inf,\n",
              "             inf,     inf,     inf,     inf],\n",
              "        [    inf,     inf,     inf,     inf,     inf,     inf,     inf,\n",
              "             inf,     inf,     inf,     inf],\n",
              "        [    inf,     inf,     inf,     inf,     inf,     inf,     inf,\n",
              "             inf,     inf,     inf,     inf],\n",
              "        [    inf,     inf,     inf,     inf,     inf,     inf,     inf,\n",
              "             inf,     inf,     inf,     inf],\n",
              "        [    inf,     inf,     inf,     inf,     inf,     inf,     inf,\n",
              "             inf,     inf,     inf,     inf],\n",
              "        [    inf,     inf,     inf,     inf,     inf,     inf,     inf,\n",
              "             inf,     inf,     inf,     inf],\n",
              "        [    inf,     inf,     inf,     inf,     inf,     inf,     inf,\n",
              "             inf,     inf,     inf,     inf],\n",
              "        [    inf,     inf,     inf,     inf,     inf,     inf,     inf,\n",
              "             inf,     inf,     inf,     inf],\n",
              "        [    inf,     inf,     inf,     inf,     inf,     inf,     inf,\n",
              "             inf,     inf,     inf,     inf],\n",
              "        [    inf,     inf,     inf,     inf,     inf,     inf,     inf,\n",
              "             inf,     inf,     inf,     inf],\n",
              "        [    inf,     inf,     inf,     inf,     inf,     inf,     inf,\n",
              "             inf,     inf,     inf,     inf],\n",
              "        [    inf,     inf,     inf,     inf,     inf,     inf,     inf,\n",
              "             inf,     inf,     inf,     inf],\n",
              "        [    inf,     inf,     inf,     inf,     inf,     inf,     inf,\n",
              "             inf,     inf,     inf,     inf],\n",
              "        [    inf,     inf,     inf,     inf,     inf,     inf,     inf,\n",
              "             inf,     inf,     inf,     inf],\n",
              "        [    inf,     inf,     inf,     inf,     inf,     inf,     inf,\n",
              "             inf,     inf,     inf,     inf],\n",
              "        [    inf,     inf,     inf,     inf,     inf,     inf,     inf,\n",
              "             inf,     inf,     inf,     inf],\n",
              "        [    inf,     inf,     inf,     inf,     inf,     inf,     inf,\n",
              "             inf,     inf,     inf,     inf],\n",
              "        [    inf,     inf,     inf,     inf,     inf,     inf,     inf,\n",
              "             inf,     inf,     inf,     inf],\n",
              "        [    inf,     inf,     inf,     inf,     inf,     inf,     inf,\n",
              "             inf,     inf,     inf,     inf],\n",
              "        [    inf,     inf,     inf,     inf,     inf,     inf,     inf,\n",
              "             inf,     inf,     inf,     inf],\n",
              "        [    inf,     inf,     inf,     inf,     inf,     inf,     inf,\n",
              "             inf,     inf,     inf,     inf],\n",
              "        [    inf,     inf,     inf,     inf,     inf,     inf,     inf,\n",
              "             inf,     inf,     inf,     inf],\n",
              "        [    inf,     inf,     inf,     inf,     inf,     inf,     inf,\n",
              "             inf,     inf,     inf,     inf],\n",
              "        [    inf,     inf,     inf,     inf,     inf,     inf,     inf,\n",
              "             inf,     inf,     inf,     inf],\n",
              "        [    inf,     inf,     inf,     inf,     inf,     inf,     inf,\n",
              "             inf,     inf,     inf,     inf],\n",
              "        [    inf,     inf,     inf,     inf,     inf,     inf,     inf,\n",
              "             inf,     inf,     inf,     inf],\n",
              "        [    inf,     inf,     inf,     inf,     inf,     inf,     inf,\n",
              "             inf,     inf,     inf,     inf],\n",
              "        [    inf,     inf,     inf,     inf,     inf,     inf,     inf,\n",
              "             inf,     inf,     inf,     inf],\n",
              "        [    inf,     inf,     inf,     inf,     inf,     inf,     inf,\n",
              "             inf,     inf,     inf,     inf],\n",
              "        [    inf,     inf,     inf,     inf,     inf,     inf,     inf,\n",
              "             inf,     inf,     inf,     inf],\n",
              "        [    inf,     inf,     inf,     inf,     inf,     inf,     inf,\n",
              "             inf,     inf,     inf,     inf],\n",
              "        [    inf,     inf,     inf,     inf,     inf,     inf,     inf,\n",
              "             inf,     inf,     inf,     inf],\n",
              "        [    inf,     inf,     inf,     inf,     inf,     inf,     inf,\n",
              "             inf,     inf,     inf,     inf],\n",
              "        [    inf,     inf,     inf,     inf,     inf,     inf,     inf,\n",
              "             inf,     inf,     inf,     inf],\n",
              "        [    inf,     inf,     inf,     inf,     inf,     inf,     inf,\n",
              "             inf,     inf,     inf,     inf],\n",
              "        [    inf,     inf,     inf,     inf,     inf,     inf,     inf,\n",
              "             inf,     inf,     inf,     inf],\n",
              "        [    inf,     inf,     inf,     inf,     inf,     inf,     inf,\n",
              "             inf,     inf,     inf,     inf]]),\n",
              " array([ 0,  9,  4,  1,  2,  6,  7, 10,  5,  8,  3], dtype=int32))"
            ]
          },
          "metadata": {},
          "execution_count": 17
        }
      ]
    },
    {
      "cell_type": "code",
      "source": [
        "def build_split_solution_limited_veh(pred, p, giant_tour):\n",
        "    min_cost = math.inf\n",
        "    optimal_n_veh = math.inf\n",
        "    for i in range(len(p)):\n",
        "        if p[i][giant_tour[-1]] < min_cost:\n",
        "            min_cost = p[i][giant_tour[-1]]\n",
        "            optimal_n_veh = i\n",
        "    res = {}\n",
        "    res['total cost'] = min_cost\n",
        "    res['n_veh'] = optimal_n_veh\n",
        "    checkpoint = []\n",
        "    location = len(pred[0])-1\n",
        "    checkpoint.append(location)\n",
        "    for count in range(optimal_n_veh,0,-1):\n",
        "        checkpoint.append(pred[count][location])\n",
        "        location = pred[count][location]        \n",
        "    checkpoint=checkpoint[-1::-1]\n",
        "    res['checkpoint']=checkpoint\n",
        "    split_tour = []\n",
        "    for i in range(1,len(checkpoint)):\n",
        "        temp_list = []\n",
        "        temp_point = checkpoint[i-1]\n",
        "        for j in range(checkpoint[i-1]+1,checkpoint[i]+1):\n",
        "            temp_list.append(giant_tour[j])\n",
        "        split_tour.append(temp_list)\n",
        "    res['tour'] = split_tour\n",
        "    return res\n",
        "\n",
        "build_split_solution_limited_veh(*limited_homogeneous_veh_split(graph_distance_matrix,200,giant_tour))"
      ],
      "metadata": {
        "id": "Ye2bwZEjO5bL",
        "colab": {
          "base_uri": "https://localhost:8080/"
        },
        "outputId": "0c45dc6f-14de-4de4-c30d-1cfe9e227f94"
      },
      "execution_count": null,
      "outputs": [
        {
          "output_type": "execute_result",
          "data": {
            "text/plain": [
              "{'checkpoint': [0, 5, 10],\n",
              " 'n_veh': 2,\n",
              " 'total cost': 63644.0,\n",
              " 'tour': [[9, 4, 1, 2, 6], [7, 10, 5, 8, 3]]}"
            ]
          },
          "metadata": {},
          "execution_count": 28
        }
      ]
    },
    {
      "cell_type": "code",
      "source": [
        "# print(demand)\n",
        "# build_split_solution_limited_veh(*limited_homogeneous_veh_split(graph_distance_matrix,7,giant_tour))"
      ],
      "metadata": {
        "id": "pU-LnxhFIq5O"
      },
      "execution_count": null,
      "outputs": []
    },
    {
      "cell_type": "code",
      "source": [
        "check(build_split_solution_limited_veh(*limited_homogeneous_veh_split(graph_distance_matrix,7,giant_tour))['tour'],distance_matrix,demand)"
      ],
      "metadata": {
        "id": "pI-A5T_CJZB8",
        "colab": {
          "base_uri": "https://localhost:8080/"
        },
        "outputId": "f2b60401-5cab-4925-d174-79d708a51c5b"
      },
      "execution_count": null,
      "outputs": [
        {
          "output_type": "stream",
          "name": "stdout",
          "text": [
            "[9, 4, 1, 2, 6]\n",
            "[7, 10, 5, 8, 3]\n",
            "total distance 63644\n",
            "all load [224, 244]\n",
            "468\n"
          ]
        }
      ]
    },
    {
      "cell_type": "code",
      "source": [
        "capacity_list = [i*500 for i in range(1,8)]\n",
        "veh_order = np.asarray(list(range(1,8)),dtype = 'int64')\n",
        "def create_graph_distance_matrices(capacity_list, demand, giant_tour, distance_matrix):\n",
        "    graph_distance_matrices = []\n",
        "    for i in range(len(capacity_list)):\n",
        "        member = create_graph_distance_matrix(capacity_list[i], demand, giant_tour, distance_matrix)\n",
        "        graph_distance_matrices.append(member)\n",
        "    graph_distance_matrices = np.asarray(graph_distance_matrices, dtype = 'float64')\n",
        "    return graph_distance_matrices\n",
        "\n",
        "\n",
        "#test case\n",
        "graph_distance_matrices = create_graph_distance_matrices(capacity_list, demand, giant_tour, distance_matrix)\n",
        "# graph_distance_matrices"
      ],
      "metadata": {
        "id": "B2SK6YmSk5UK"
      },
      "execution_count": null,
      "outputs": []
    },
    {
      "cell_type": "code",
      "source": [
        " @njit(fastmath=True)\n",
        "def ordered_heterogeneous_split(graph_distance_matrices, veh_order, giant_tour):\n",
        "    n_location = len(graph_distance_matrices[0])\n",
        "    n_veh = len(veh_order)\n",
        "    p = np.asarray([[math.inf for i in range(n_location)] for i in range(n_veh+1)],dtype='float64')\n",
        "    p[0][0] = 0\n",
        "    pred = np.asarray([[-1 for i in range(n_location)] for i in range(n_veh+1)],dtype='int64')\n",
        "    best_cost = math.inf\n",
        "    best_veh = 0\n",
        "    for k in range(1,n_veh+1):\n",
        "        for t in range(k-1, n_location):\n",
        "            i = t+1\n",
        "            while i < n_location and graph_distance_matrices[veh_order[k-1]-1][giant_tour[t]][giant_tour[i]] < math.inf:\n",
        "                if p[k-1][giant_tour[t]] + graph_distance_matrices[veh_order[k-1]-1][giant_tour[t]][giant_tour[i]] < p[k][giant_tour[i]]:\n",
        "                    p[k][giant_tour[i]] = p[k-1][giant_tour[t]] + graph_distance_matrices[veh_order[k-1]-1][giant_tour[t]][giant_tour[i]]\n",
        "                    pred [k][i] = t\n",
        "                i += 1\n",
        "        if p[k][giant_tour[-1]] < best_cost:\n",
        "            best_cost = p[k][giant_tour[-1]]\n",
        "            best_veh = k\n",
        "    return pred, p, giant_tour"
      ],
      "metadata": {
        "id": "bBPRKPSIFtLZ"
      },
      "execution_count": null,
      "outputs": []
    },
    {
      "cell_type": "code",
      "source": [
        "check(build_split_solution_limited_veh(*ordered_heterogeneous_split(graph_distance_matrices, veh_order, giant_tour))['tour'],distance_matrix,demand)"
      ],
      "metadata": {
        "id": "WcB_PoMWGkr4",
        "colab": {
          "base_uri": "https://localhost:8080/"
        },
        "outputId": "56bc2e99-3c21-4050-e5ca-94d9f8a3b309"
      },
      "execution_count": null,
      "outputs": [
        {
          "output_type": "stream",
          "name": "stdout",
          "text": [
            "[9, 4, 1, 2, 6, 7, 10, 5, 8, 3]\n",
            "total distance 59795\n",
            "all load [468]\n",
            "468\n"
          ]
        }
      ]
    },
    {
      "cell_type": "code",
      "source": [
        "def heterogeneous_split(all_veh, graph_distance_matrices, giant_tour):\n",
        "    float_array = types.float64[:,:]\n",
        "    int_array = types.int64[:,:]\n",
        "    tuple_type = types.UniTuple(types.float64, len(all_veh))\n",
        "    key_list = sync(find_all_key(all_veh))\n",
        "    \n",
        "    @njit(fastmath = True, cache = True)\n",
        "    def helper_heterogeneous_split(key_list, graph_distance_matrices, giant_tour):\n",
        "        n_location = len(graph_distance_matrices[0])\n",
        "        n_veh = len(key_list[-1])\n",
        "        mem_p = Dict.empty(\n",
        "            key_type=types.int64,\n",
        "            value_type=float_array,\n",
        "        )\n",
        "        mem_pred = Dict.empty(\n",
        "            key_type=types.int64,\n",
        "            value_type=int_array,\n",
        "        )\n",
        "        p = np.full((n_veh+1,n_location), np.inf, dtype = 'float64')\n",
        "        p[0][0] = 0\n",
        "        pred = np.full((n_veh+1,n_location), -1, dtype = 'int64')\n",
        "        veh_order = np.zeros(len(key_list[0]), dtype = 'int64')\n",
        "        for _ in key_list:\n",
        "            mem_p[mapping(_)] = p.copy()\n",
        "        for _ in key_list:\n",
        "            mem_pred[mapping(_)] = pred.copy()\n",
        "        best_cost = 10**9\n",
        "        best_veh = 0\n",
        "\n",
        "        for _ in key_list[1:]:\n",
        "            __ = np.concatenate((np.zeros(1, dtype = 'int64'),_[:-1]),axis = 0)\n",
        "            for i in range(n_veh+1):\n",
        "                for j in range(n_location):\n",
        "                    mem_p[mapping(_)][i][j] = mem_p[mapping(__)][i][j]\n",
        "                    mem_pred[mapping(_)][i][j] = mem_pred[mapping(__)][i][j]\n",
        "            k = 0\n",
        "            for item in _:\n",
        "                if item != 0:\n",
        "                    k+=1\n",
        "            \n",
        "            for t in range(k-1, n_location):\n",
        "                i = t+1\n",
        "                while i < n_location and graph_distance_matrices[_[-1]-1][giant_tour[t]][giant_tour[i]] < math.inf:\n",
        "                    if mem_p[mapping(_)][k-1][giant_tour[t]] + graph_distance_matrices[_[-1]-1][giant_tour[t]][giant_tour[i]] < mem_p[mapping(_)][k][giant_tour[i]]:\n",
        "                        mem_p[mapping(_)][k][giant_tour[i]] = mem_p[mapping(_)][k-1][giant_tour[t]] + graph_distance_matrices[_[-1]-1][giant_tour[t]][giant_tour[i]]\n",
        "                        mem_pred[mapping(_)][k][i] = t\n",
        "                    i += 1\n",
        "\n",
        "            for i in range(len(mem_p[mapping(_)])):\n",
        "                if mem_p[mapping(_)][i][giant_tour[-1]] < best_cost:\n",
        "                    best_cost = mem_p[mapping(_)][i][giant_tour[-1]]\n",
        "                    best_veh = i\n",
        "                    p, pred, veh_order = mem_p[mapping(_)], mem_pred[mapping(_)], _\n",
        "        return pred, p, best_veh, veh_order, giant_tour\n",
        "    return helper_heterogeneous_split(key_list, graph_distance_matrices, giant_tour)"
      ],
      "metadata": {
        "id": "_athT2xg1eVl"
      },
      "execution_count": null,
      "outputs": []
    },
    {
      "cell_type": "code",
      "source": [
        "def build_split_solution_heterogeneous(pred,p,best_veh,veh_order, giant_tour):\n",
        "    res = build_split_solution_limited_veh(pred,p,giant_tour)\n",
        "    res['vehicle used']=veh_order[-best_veh:]\n",
        "    return res\n",
        "\n",
        "\n",
        "S = heterogeneous_split(veh_order, graph_distance_matrices, giant_tour)"
      ],
      "metadata": {
        "id": "QaNN4IOWxqpK"
      },
      "execution_count": null,
      "outputs": []
    },
    {
      "cell_type": "code",
      "source": [
        "t1= timeit.default_timer()\n",
        "S1 = heterogeneous_split([1,2,3], graph_distance_matrices, giant_tour)\n",
        "t2 = timeit.default_timer()\n",
        "t2-t1"
      ],
      "metadata": {
        "id": "sb6zd6ZXrZ8i",
        "colab": {
          "base_uri": "https://localhost:8080/"
        },
        "outputId": "e9536f65-8018-497a-f0c9-2265541bc692"
      },
      "execution_count": null,
      "outputs": [
        {
          "output_type": "execute_result",
          "data": {
            "text/plain": [
              "0.028578045000017482"
            ]
          },
          "metadata": {},
          "execution_count": 33
        }
      ]
    },
    {
      "cell_type": "code",
      "source": [
        "build_split_solution_heterogeneous(*S)"
      ],
      "metadata": {
        "id": "dZdBYbuhOgo_",
        "colab": {
          "base_uri": "https://localhost:8080/"
        },
        "outputId": "471611eb-6c27-49b8-9cc1-77b9a175ebab"
      },
      "execution_count": null,
      "outputs": [
        {
          "output_type": "execute_result",
          "data": {
            "text/plain": [
              "{'checkpoint': [0, 10],\n",
              " 'n_veh': 1,\n",
              " 'total cost': 59795.0,\n",
              " 'tour': [[9, 4, 1, 2, 6, 7, 10, 5, 8, 3]],\n",
              " 'vehicle used': array([2])}"
            ]
          },
          "metadata": {},
          "execution_count": 34
        }
      ]
    },
    {
      "cell_type": "code",
      "source": [
        "check(build_split_solution_heterogeneous(*S)['tour'],distance_matrix,demand)"
      ],
      "metadata": {
        "id": "SPnnIdAADDu8",
        "colab": {
          "base_uri": "https://localhost:8080/"
        },
        "outputId": "9bf965bd-53e1-4905-a934-18cd869a232d"
      },
      "execution_count": null,
      "outputs": [
        {
          "output_type": "stream",
          "name": "stdout",
          "text": [
            "[9, 4, 1, 2, 6, 7, 10, 5, 8, 3]\n",
            "total distance 59795\n",
            "all load [468]\n",
            "468\n"
          ]
        }
      ]
    },
    {
      "cell_type": "code",
      "source": [
        "@njit(fastmath=True)\n",
        "def unlimited_heterogeneous_split(graph_distance_matrices):\n",
        "    n_location = len(graph_distance_matrix[0])\n",
        "    p = np.asarray([math.inf for i in range(n_location)],dtype='float64')\n",
        "    p[0]=0\n",
        "    pred = np.asarray([-1 for i in range(n_location)],dtype='int64')\n",
        "    for t in range(n_location):\n",
        "        i = t+1\n",
        "        for graph in graph_distance_matrices:\n",
        "            while i < n_location and graph[t][i] < math.inf:\n",
        "                if p[t] + graph[t][i] < p[i]:\n",
        "                    p[i] = p[t] + graph[t][i]\n",
        "                    pred[i] = t\n",
        "                i += 1\n",
        "    return pred, p"
      ],
      "metadata": {
        "id": "6Zl8h5daJn3t"
      },
      "execution_count": null,
      "outputs": []
    },
    {
      "cell_type": "code",
      "source": [
        "# @njit(fastmath=True)\n",
        "def greedy_heterogeneous_split(graph_distance_matrices, veh_order, limit_iteration = 10**6):\n",
        "    a_list = permutation(veh_order)\n",
        "    best_cost = math.inf\n",
        "    for i in range(limit_iteration):\n",
        "        test = random.randint(1,len(a_list)-1)\n",
        "        cost = build_split_solution_limited_veh(*ordered_heterogeneous_split(graph_distance_matrices, a_list[test]))['total cost']\n",
        "        if cost < best_cost:\n",
        "            best_cost = cost\n",
        "    return best_cost\n"
      ],
      "metadata": {
        "id": "39tAiB8FxzhR"
      },
      "execution_count": null,
      "outputs": []
    },
    {
      "cell_type": "code",
      "source": [
        "\n",
        "def create_data_model_VRP():\n",
        "    \"\"\"Stores the data for the problem.\"\"\"\n",
        "    data = {}\n",
        "    data['distance_matrix'] = distance_matrix\n",
        "    data['demands'] = demand\n",
        "    data['vehicle_capacities'] = capacity_list\n",
        "    data['num_vehicles'] = 7\n",
        "    data['depot'] = 0\n",
        "    return data\n",
        "\n",
        "\n",
        "def print_solution_VRP(data, manager, routing, solution):\n",
        "    \"\"\"Prints solution on console.\"\"\"\n",
        "    print(f'Objective: {solution.ObjectiveValue()}')\n",
        "    total_distance = 0\n",
        "    total_load = 0\n",
        "    for vehicle_id in range(data['num_vehicles']):\n",
        "        index = routing.Start(vehicle_id)\n",
        "        plan_output = 'Route for vehicle {}:\\n'.format(vehicle_id)\n",
        "        route_distance = 0\n",
        "        route_load = 0\n",
        "        while not routing.IsEnd(index):\n",
        "            node_index = manager.IndexToNode(index)\n",
        "            route_load += data['demands'][node_index]\n",
        "            plan_output += ' {0} Load({1}) -> '.format(node_index, route_load)\n",
        "            previous_index = index\n",
        "            index = solution.Value(routing.NextVar(index))\n",
        "            route_distance += routing.GetArcCostForVehicle(\n",
        "                previous_index, index, vehicle_id)\n",
        "        plan_output += ' {0} Load({1})\\n'.format(manager.IndexToNode(index),\n",
        "                                                 route_load)\n",
        "        plan_output += 'Distance of the route: {}m\\n'.format(route_distance)\n",
        "        plan_output += 'Load of the route: {}\\n'.format(route_load)\n",
        "        print(plan_output)\n",
        "        total_distance += route_distance\n",
        "        total_load += route_load\n",
        "    print('Total distance of all routes: {}m'.format(total_distance))\n",
        "    print('Total load of all routes: {}'.format(total_load))\n",
        "\n",
        "\n",
        "def main_VRP():\n",
        "    \"\"\"Solve the CVRP problem.\"\"\"\n",
        "    # Instantiate the data problem.\n",
        "    data = create_data_model_VRP()\n",
        "\n",
        "    # Create the routing index manager.\n",
        "    manager = pywrapcp.RoutingIndexManager(len(data['distance_matrix']),\n",
        "                                           data['num_vehicles'], data['depot'])\n",
        "\n",
        "    # Create Routing Model.\n",
        "    routing = pywrapcp.RoutingModel(manager)\n",
        "\n",
        "\n",
        "    # Create and register a transit callback.\n",
        "    def distance_callback(from_index, to_index):\n",
        "        \"\"\"Returns the distance between the two nodes.\"\"\"\n",
        "        # Convert from routing variable Index to distance matrix NodeIndex.\n",
        "        from_node = manager.IndexToNode(from_index)\n",
        "        to_node = manager.IndexToNode(to_index)\n",
        "        return data['distance_matrix'][from_node][to_node]\n",
        "\n",
        "    transit_callback_index = routing.RegisterTransitCallback(distance_callback)\n",
        "\n",
        "    # Define cost of each arc.\n",
        "    routing.SetArcCostEvaluatorOfAllVehicles(transit_callback_index)\n",
        "\n",
        "\n",
        "    # Add Capacity constraint.\n",
        "    def demand_callback(from_index):\n",
        "        \"\"\"Returns the demand of the node.\"\"\"\n",
        "        # Convert from routing variable Index to demands NodeIndex.\n",
        "        from_node = manager.IndexToNode(from_index)\n",
        "        return data['demands'][from_node]\n",
        "\n",
        "    demand_callback_index = routing.RegisterUnaryTransitCallback(\n",
        "        demand_callback)\n",
        "    routing.AddDimensionWithVehicleCapacity(\n",
        "        demand_callback_index,\n",
        "        0,  # null capacity slack\n",
        "        data['vehicle_capacities'],  # vehicle maximum capacities\n",
        "        True,  # start cumul to zero\n",
        "        'Capacity')\n",
        "\n",
        "    # Setting first solution heuristic.\n",
        "    search_parameters = pywrapcp.DefaultRoutingSearchParameters()\n",
        "    search_parameters.first_solution_strategy = (\n",
        "        routing_enums_pb2.FirstSolutionStrategy.PATH_CHEAPEST_ARC)\n",
        "    search_parameters.local_search_metaheuristic = (\n",
        "        routing_enums_pb2.LocalSearchMetaheuristic.GUIDED_LOCAL_SEARCH)\n",
        "    search_parameters.time_limit.FromSeconds(1)\n",
        "\n",
        "    # Solve the problem.\n",
        "    solution = routing.SolveWithParameters(search_parameters)\n",
        "\n",
        "    # Print solution on console.\n",
        "    if solution:\n",
        "        print_solution_VRP(data, manager, routing, solution)\n",
        "\n",
        "\n",
        "main_VRP()"
      ],
      "metadata": {
        "id": "2b-pAyC3JB9x",
        "colab": {
          "base_uri": "https://localhost:8080/"
        },
        "outputId": "76d17afc-78c3-435a-99a6-39e5cab8491c"
      },
      "execution_count": null,
      "outputs": [
        {
          "output_type": "stream",
          "name": "stdout",
          "text": [
            "Objective: 32955\n",
            "Route for vehicle 0:\n",
            " 0 Load(0) ->  0 Load(0)\n",
            "Distance of the route: 0m\n",
            "Load of the route: 0\n",
            "\n",
            "Route for vehicle 1:\n",
            " 0 Load(0) ->  0 Load(0)\n",
            "Distance of the route: 0m\n",
            "Load of the route: 0\n",
            "\n",
            "Route for vehicle 2:\n",
            " 0 Load(0) ->  0 Load(0)\n",
            "Distance of the route: 0m\n",
            "Load of the route: 0\n",
            "\n",
            "Route for vehicle 3:\n",
            " 0 Load(0) ->  0 Load(0)\n",
            "Distance of the route: 0m\n",
            "Load of the route: 0\n",
            "\n",
            "Route for vehicle 4:\n",
            " 0 Load(0) ->  0 Load(0)\n",
            "Distance of the route: 0m\n",
            "Load of the route: 0\n",
            "\n",
            "Route for vehicle 5:\n",
            " 0 Load(0) ->  0 Load(0)\n",
            "Distance of the route: 0m\n",
            "Load of the route: 0\n",
            "\n",
            "Route for vehicle 6:\n",
            " 0 Load(0) ->  2 Load(11) ->  6 Load(72) ->  7 Load(93) ->  4 Load(103) ->  10 Load(187) ->  3 Load(217) ->  5 Load(313) ->  8 Load(326) ->  1 Load(405) ->  9 Load(468) ->  0 Load(468)\n",
            "Distance of the route: 32955m\n",
            "Load of the route: 468\n",
            "\n",
            "Total distance of all routes: 32955m\n",
            "Total load of all routes: 468\n"
          ]
        }
      ]
    },
    {
      "cell_type": "code",
      "source": [
        "def swap(a_list, selected_index, n_veh):\n",
        "    if len(a_list) < n_veh:\n",
        "        a_list += [[]]*(n_veh - len(a_list))\n",
        "    res = copy.deepcopy(a_list)\n",
        "    temp = res[selected_index[0]]\n",
        "    for i in range(len(selected_index)-1):\n",
        "        res[selected_index[i]] = res[selected_index[i+1]]\n",
        "    res[selected_index[-1]] = temp\n",
        "    return res"
      ],
      "metadata": {
        "id": "uitkEvbPwmon"
      },
      "execution_count": null,
      "outputs": []
    },
    {
      "cell_type": "code",
      "source": [
        "def concat_giant_tour(tours):\n",
        "    res = []\n",
        "    for tour in tours:\n",
        "        res += tour\n",
        "    return res"
      ],
      "metadata": {
        "id": "ElzOHqFJ-CXA"
      },
      "execution_count": null,
      "outputs": []
    },
    {
      "cell_type": "code",
      "source": [
        "graph_distance_matrices = create_graph_distance_matrices(capacity_list, demand, giant_tour,distance_matrix)\n",
        "solution = ordered_heterogeneous_split(graph_distance_matrices, veh_order, giant_tour)\n",
        "detail = build_split_solution_limited_veh(*solution)\n",
        "detail['total cost']\n",
        "tours = detail['tour']"
      ],
      "metadata": {
        "id": "lwJ55azwLKYm"
      },
      "execution_count": null,
      "outputs": []
    },
    {
      "cell_type": "code",
      "source": [
        "iterations = 100\n",
        "best_cost = detail['total cost']\n",
        "for i in range(iterations):\n",
        "    selected_index = random.sample(range(len(veh_order)),4)\n",
        "    temp_veh_order = np.asarray(swap(veh_order,selected_index,len(capacity_list)),dtype='int64')\n",
        "    temp_tours = swap(tours,selected_index,len(capacity_list))\n",
        "    temp_giant_tour = np.asarray([0]+concat_giant_tour(tours),dtype='int64')\n",
        "    temp_graph_distance_matrices = create_graph_distance_matrices(capacity_list, demand, temp_giant_tour,distance_matrix)\n",
        "    candidate = ordered_heterogeneous_split(temp_graph_distance_matrices, veh_order, giant_tour)\n",
        "    temp_detail = build_split_solution_limited_veh(*candidate)\n",
        "\n",
        "    candidate_cost = temp_detail['total cost']\n",
        "    if best_cost > candidate_cost:\n",
        "        best_cost = candidate_cost\n",
        "        veh_order = temp_veh_order\n",
        "        tours = temp_tours"
      ],
      "metadata": {
        "id": "W96_6JSB-SAo"
      },
      "execution_count": null,
      "outputs": []
    },
    {
      "cell_type": "code",
      "source": [
        "# def neighborhood_seach(step, rd = False, iteration = 10**3):\n"
      ],
      "metadata": {
        "id": "SCFiycQ5NpWJ"
      },
      "execution_count": null,
      "outputs": []
    },
    {
      "cell_type": "code",
      "source": [
        ""
      ],
      "metadata": {
        "id": "LvKK5rfG7Fb0"
      },
      "execution_count": null,
      "outputs": []
    }
  ]
}